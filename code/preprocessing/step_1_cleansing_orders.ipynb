{
 "cells": [
  {
   "cell_type": "code",
   "execution_count": 1,
   "id": "-TpFexIq3G1B",
   "metadata": {
    "executionInfo": {
     "elapsed": 1007,
     "status": "ok",
     "timestamp": 1675964870641,
     "user": {
      "displayName": "Crystal",
      "userId": "14619037572832113319"
     },
     "user_tz": -60
    },
    "id": "-TpFexIq3G1B"
   },
   "outputs": [],
   "source": [
    "import pandas as pd"
   ]
  },
  {
   "cell_type": "markdown",
   "id": "dxOHIz6E3G1F",
   "metadata": {
    "id": "dxOHIz6E3G1F"
   },
   "source": [
    "# 1.&nbsp; Import a csv file to DataFrame\n"
   ]
  },
  {
   "cell_type": "code",
   "execution_count": 2,
   "id": "jy28BixO3G1G",
   "metadata": {
    "executionInfo": {
     "elapsed": 3494,
     "status": "ok",
     "timestamp": 1675964896751,
     "user": {
      "displayName": "Crystal",
      "userId": "14619037572832113319"
     },
     "user_tz": -60
    },
    "id": "jy28BixO3G1G"
   },
   "outputs": [],
   "source": [
    "url = \"https://drive.google.com/file/d/1Vu0q91qZw6lqhIqbjoXYvYAQTmVHh6uZ/view?usp=share_link\" # orders.csv\n",
    "path = \"https://drive.google.com/uc?export=download&id=\"+url.split(\"/\")[-2]\n",
    "orders = pd.read_csv(path)"
   ]
  },
  {
   "cell_type": "code",
   "execution_count": null,
   "id": "z8uN8_hmr-h3",
   "metadata": {
    "id": "z8uN8_hmr-h3"
   },
   "outputs": [],
   "source": [
    "pd.options.display.max_rows = 10"
   ]
  },
  {
   "cell_type": "code",
   "execution_count": 3,
   "id": "unheSxiCq-tv",
   "metadata": {
    "colab": {
     "base_uri": "https://localhost:8080/"
    },
    "executionInfo": {
     "elapsed": 228,
     "status": "ok",
     "timestamp": 1675964901138,
     "user": {
      "displayName": "Crystal",
      "userId": "14619037572832113319"
     },
     "user_tz": -60
    },
    "id": "unheSxiCq-tv",
    "outputId": "9665328a-4e1f-4315-fbae-b906939af179"
   },
   "outputs": [
    {
     "name": "stdout",
     "output_type": "stream",
     "text": [
      "<class 'pandas.core.frame.DataFrame'>\n",
      "RangeIndex: 226909 entries, 0 to 226908\n",
      "Data columns (total 4 columns):\n",
      " #   Column        Non-Null Count   Dtype  \n",
      "---  ------        --------------   -----  \n",
      " 0   order_id      226909 non-null  int64  \n",
      " 1   created_date  226909 non-null  object \n",
      " 2   total_paid    226904 non-null  float64\n",
      " 3   state         226909 non-null  object \n",
      "dtypes: float64(1), int64(1), object(2)\n",
      "memory usage: 6.9+ MB\n"
     ]
    }
   ],
   "source": [
    "orders.info()"
   ]
  },
  {
   "cell_type": "markdown",
   "id": "sP6KWs43P-JU",
   "metadata": {
    "id": "sP6KWs43P-JU"
   },
   "source": [
    "There's 5 missing values in total paid"
   ]
  },
  {
   "cell_type": "markdown",
   "id": "9sd8hctetP0q",
   "metadata": {
    "id": "9sd8hctetP0q"
   },
   "source": [
    "# 2.&nbsp; Clean up missing & duplicates "
   ]
  },
  {
   "cell_type": "markdown",
   "id": "-5J2bOm1g0aO",
   "metadata": {
    "id": "-5J2bOm1g0aO"
   },
   "source": [
    "## 2.1 Check for Missing Value"
   ]
  },
  {
   "cell_type": "code",
   "execution_count": 4,
   "id": "bcQUSad5q7Yu",
   "metadata": {
    "colab": {
     "base_uri": "https://localhost:8080/"
    },
    "executionInfo": {
     "elapsed": 7,
     "status": "ok",
     "timestamp": 1675965043004,
     "user": {
      "displayName": "Crystal",
      "userId": "14619037572832113319"
     },
     "user_tz": -60
    },
    "id": "bcQUSad5q7Yu",
    "outputId": "a20a3860-b811-48b2-86f2-bf2c145ffc8b"
   },
   "outputs": [
    {
     "data": {
      "text/plain": [
       "order_id        0\n",
       "created_date    0\n",
       "total_paid      5\n",
       "state           0\n",
       "dtype: int64"
      ]
     },
     "execution_count": 4,
     "metadata": {},
     "output_type": "execute_result"
    }
   ],
   "source": [
    "orders.isna().sum()"
   ]
  },
  {
   "cell_type": "markdown",
   "id": "eMW6J-4v_iVM",
   "metadata": {
    "id": "eMW6J-4v_iVM"
   },
   "source": [
    "As there is such a tiny amount of missing values, we will simply delete these rows, as we have enough data without them."
   ]
  },
  {
   "cell_type": "code",
   "execution_count": 6,
   "id": "8_y7US-hTSYj",
   "metadata": {
    "executionInfo": {
     "elapsed": 3,
     "status": "ok",
     "timestamp": 1675965079372,
     "user": {
      "displayName": "Crystal",
      "userId": "14619037572832113319"
     },
     "user_tz": -60
    },
    "id": "8_y7US-hTSYj"
   },
   "outputs": [],
   "source": [
    "orders = orders.loc[~orders.total_paid.isna(), :]"
   ]
  },
  {
   "cell_type": "markdown",
   "id": "tF53kMhFC5Tz",
   "metadata": {
    "id": "tF53kMhFC5Tz"
   },
   "source": [
    "## 2.2 Check for Duplicates"
   ]
  },
  {
   "cell_type": "code",
   "execution_count": 5,
   "id": "pFZZDaMwC8zx",
   "metadata": {
    "colab": {
     "base_uri": "https://localhost:8080/"
    },
    "executionInfo": {
     "elapsed": 293,
     "status": "ok",
     "timestamp": 1675965053173,
     "user": {
      "displayName": "Crystal",
      "userId": "14619037572832113319"
     },
     "user_tz": -60
    },
    "id": "pFZZDaMwC8zx",
    "outputId": "f01dbba3-25ee-45af-dd70-4c2bbcc89c46"
   },
   "outputs": [
    {
     "data": {
      "text/plain": [
       "0"
      ]
     },
     "execution_count": 5,
     "metadata": {},
     "output_type": "execute_result"
    }
   ],
   "source": [
    "# check for duplicates\n",
    "orders.duplicated().sum()"
   ]
  },
  {
   "cell_type": "code",
   "execution_count": 7,
   "id": "cXMZsav-3G1J",
   "metadata": {
    "colab": {
     "base_uri": "https://localhost:8080/"
    },
    "executionInfo": {
     "elapsed": 3,
     "status": "ok",
     "timestamp": 1675965088825,
     "user": {
      "displayName": "Crystal",
      "userId": "14619037572832113319"
     },
     "user_tz": -60
    },
    "id": "cXMZsav-3G1J",
    "outputId": "bbcb8790-6162-4c70-d978-059a4b1cbcb8"
   },
   "outputs": [
    {
     "data": {
      "text/plain": [
       "order_id        226904\n",
       "created_date    224823\n",
       "total_paid       31236\n",
       "state                5\n",
       "dtype: int64"
      ]
     },
     "execution_count": 7,
     "metadata": {},
     "output_type": "execute_result"
    }
   ],
   "source": [
    "orders.nunique()"
   ]
  },
  {
   "cell_type": "code",
   "execution_count": 9,
   "id": "cnC6vIW93G1G",
   "metadata": {
    "colab": {
     "base_uri": "https://localhost:8080/"
    },
    "executionInfo": {
     "elapsed": 5,
     "status": "ok",
     "timestamp": 1675965096647,
     "user": {
      "displayName": "Crystal",
      "userId": "14619037572832113319"
     },
     "user_tz": -60
    },
    "id": "cnC6vIW93G1G",
    "outputId": "e303caa9-85d0-4fbf-d85b-b46a9aada280"
   },
   "outputs": [
    {
     "data": {
      "text/plain": [
       "(226904, 4)"
      ]
     },
     "execution_count": 9,
     "metadata": {},
     "output_type": "execute_result"
    }
   ],
   "source": [
    "orders.shape"
   ]
  },
  {
   "cell_type": "markdown",
   "id": "RjHf6uXq3G1H",
   "metadata": {
    "id": "RjHf6uXq3G1H"
   },
   "source": [
    "[DataFrame.size](https://pandas.pydata.org/docs/reference/api/pandas.DataFrame.size.html) returns the total number of values that the DataFrame has (the number of rows multiplied by the number of columns):"
   ]
  },
  {
   "cell_type": "code",
   "execution_count": 11,
   "id": "mHVz_-yA3G1H",
   "metadata": {
    "colab": {
     "base_uri": "https://localhost:8080/"
    },
    "executionInfo": {
     "elapsed": 3,
     "status": "ok",
     "timestamp": 1675965104846,
     "user": {
      "displayName": "Crystal",
      "userId": "14619037572832113319"
     },
     "user_tz": -60
    },
    "id": "mHVz_-yA3G1H",
    "outputId": "8debe46d-6fe7-41bf-cff0-1f125200a4b7"
   },
   "outputs": [
    {
     "data": {
      "text/plain": [
       "907616"
      ]
     },
     "execution_count": 11,
     "metadata": {},
     "output_type": "execute_result"
    }
   ],
   "source": [
    "orders.size"
   ]
  },
  {
   "cell_type": "markdown",
   "id": "ncyEOZxWJvHj",
   "metadata": {
    "id": "ncyEOZxWJvHj"
   },
   "source": [
    "We can check if the `.size` and `.shape` agree"
   ]
  },
  {
   "cell_type": "code",
   "execution_count": 12,
   "id": "t_8Y1rsD3G1H",
   "metadata": {
    "colab": {
     "base_uri": "https://localhost:8080/"
    },
    "executionInfo": {
     "elapsed": 6,
     "status": "ok",
     "timestamp": 1675965109598,
     "user": {
      "displayName": "Crystal",
      "userId": "14619037572832113319"
     },
     "user_tz": -60
    },
    "id": "t_8Y1rsD3G1H",
    "outputId": "89ca4503-1ca3-4882-9c34-2dd22af13dbf"
   },
   "outputs": [
    {
     "data": {
      "text/plain": [
       "True"
      ]
     },
     "execution_count": 12,
     "metadata": {},
     "output_type": "execute_result"
    }
   ],
   "source": [
    "orders.shape[0] * orders.shape[1] == orders.size"
   ]
  },
  {
   "cell_type": "markdown",
   "id": "HWSKDRiF3G1I",
   "metadata": {
    "id": "HWSKDRiF3G1I"
   },
   "source": [
    "# 3.&nbsp; Data types"
   ]
  },
  {
   "cell_type": "markdown",
   "id": "yb37eyvIBuep",
   "metadata": {
    "id": "yb37eyvIBuep"
   },
   "source": [
    "* `date` should be a datetime datatype"
   ]
  },
  {
   "cell_type": "code",
   "execution_count": 13,
   "id": "9wE0xQEtPAqc",
   "metadata": {
    "colab": {
     "base_uri": "https://localhost:8080/",
     "height": 363
    },
    "executionInfo": {
     "elapsed": 7,
     "status": "ok",
     "timestamp": 1675965117894,
     "user": {
      "displayName": "Crystal",
      "userId": "14619037572832113319"
     },
     "user_tz": -60
    },
    "id": "9wE0xQEtPAqc",
    "outputId": "ae02d7ad-2d38-4bc4-d17b-d196aedd9a07"
   },
   "outputs": [
    {
     "data": {
      "text/html": [
       "\n",
       "  <div id=\"df-90939bf0-fc19-4be4-8b12-8701ccd543a7\">\n",
       "    <div class=\"colab-df-container\">\n",
       "      <div>\n",
       "<style scoped>\n",
       "    .dataframe tbody tr th:only-of-type {\n",
       "        vertical-align: middle;\n",
       "    }\n",
       "\n",
       "    .dataframe tbody tr th {\n",
       "        vertical-align: top;\n",
       "    }\n",
       "\n",
       "    .dataframe thead th {\n",
       "        text-align: right;\n",
       "    }\n",
       "</style>\n",
       "<table border=\"1\" class=\"dataframe\">\n",
       "  <thead>\n",
       "    <tr style=\"text-align: right;\">\n",
       "      <th></th>\n",
       "      <th>order_id</th>\n",
       "      <th>created_date</th>\n",
       "      <th>total_paid</th>\n",
       "      <th>state</th>\n",
       "    </tr>\n",
       "  </thead>\n",
       "  <tbody>\n",
       "    <tr>\n",
       "      <th>74671</th>\n",
       "      <td>374217</td>\n",
       "      <td>2017-07-07 13:07:27</td>\n",
       "      <td>79.99</td>\n",
       "      <td>Shopping Basket</td>\n",
       "    </tr>\n",
       "    <tr>\n",
       "      <th>181597</th>\n",
       "      <td>482001</td>\n",
       "      <td>2018-01-04 15:43:54</td>\n",
       "      <td>1329.00</td>\n",
       "      <td>Place Order</td>\n",
       "    </tr>\n",
       "    <tr>\n",
       "      <th>196259</th>\n",
       "      <td>496742</td>\n",
       "      <td>2018-01-23 16:24:28</td>\n",
       "      <td>79.99</td>\n",
       "      <td>Pending</td>\n",
       "    </tr>\n",
       "    <tr>\n",
       "      <th>191829</th>\n",
       "      <td>492311</td>\n",
       "      <td>2018-01-16 18:36:59</td>\n",
       "      <td>1849.59</td>\n",
       "      <td>Place Order</td>\n",
       "    </tr>\n",
       "    <tr>\n",
       "      <th>223459</th>\n",
       "      <td>523951</td>\n",
       "      <td>2018-03-09 18:24:54</td>\n",
       "      <td>368.99</td>\n",
       "      <td>Shopping Basket</td>\n",
       "    </tr>\n",
       "    <tr>\n",
       "      <th>9484</th>\n",
       "      <td>308955</td>\n",
       "      <td>2017-01-13 17:25:52</td>\n",
       "      <td>59.99</td>\n",
       "      <td>Shopping Basket</td>\n",
       "    </tr>\n",
       "    <tr>\n",
       "      <th>46845</th>\n",
       "      <td>346338</td>\n",
       "      <td>2017-04-15 16:01:42</td>\n",
       "      <td>272.99</td>\n",
       "      <td>Cancelled</td>\n",
       "    </tr>\n",
       "    <tr>\n",
       "      <th>226628</th>\n",
       "      <td>527121</td>\n",
       "      <td>2018-03-14 11:59:58</td>\n",
       "      <td>1316.00</td>\n",
       "      <td>Shopping Basket</td>\n",
       "    </tr>\n",
       "    <tr>\n",
       "      <th>33412</th>\n",
       "      <td>332896</td>\n",
       "      <td>2017-03-07 11:58:51</td>\n",
       "      <td>819.80</td>\n",
       "      <td>Shopping Basket</td>\n",
       "    </tr>\n",
       "    <tr>\n",
       "      <th>81785</th>\n",
       "      <td>381359</td>\n",
       "      <td>2017-07-24 13:52:42</td>\n",
       "      <td>43.98</td>\n",
       "      <td>Shopping Basket</td>\n",
       "    </tr>\n",
       "  </tbody>\n",
       "</table>\n",
       "</div>\n",
       "      <button class=\"colab-df-convert\" onclick=\"convertToInteractive('df-90939bf0-fc19-4be4-8b12-8701ccd543a7')\"\n",
       "              title=\"Convert this dataframe to an interactive table.\"\n",
       "              style=\"display:none;\">\n",
       "        \n",
       "  <svg xmlns=\"http://www.w3.org/2000/svg\" height=\"24px\"viewBox=\"0 0 24 24\"\n",
       "       width=\"24px\">\n",
       "    <path d=\"M0 0h24v24H0V0z\" fill=\"none\"/>\n",
       "    <path d=\"M18.56 5.44l.94 2.06.94-2.06 2.06-.94-2.06-.94-.94-2.06-.94 2.06-2.06.94zm-11 1L8.5 8.5l.94-2.06 2.06-.94-2.06-.94L8.5 2.5l-.94 2.06-2.06.94zm10 10l.94 2.06.94-2.06 2.06-.94-2.06-.94-.94-2.06-.94 2.06-2.06.94z\"/><path d=\"M17.41 7.96l-1.37-1.37c-.4-.4-.92-.59-1.43-.59-.52 0-1.04.2-1.43.59L10.3 9.45l-7.72 7.72c-.78.78-.78 2.05 0 2.83L4 21.41c.39.39.9.59 1.41.59.51 0 1.02-.2 1.41-.59l7.78-7.78 2.81-2.81c.8-.78.8-2.07 0-2.86zM5.41 20L4 18.59l7.72-7.72 1.47 1.35L5.41 20z\"/>\n",
       "  </svg>\n",
       "      </button>\n",
       "      \n",
       "  <style>\n",
       "    .colab-df-container {\n",
       "      display:flex;\n",
       "      flex-wrap:wrap;\n",
       "      gap: 12px;\n",
       "    }\n",
       "\n",
       "    .colab-df-convert {\n",
       "      background-color: #E8F0FE;\n",
       "      border: none;\n",
       "      border-radius: 50%;\n",
       "      cursor: pointer;\n",
       "      display: none;\n",
       "      fill: #1967D2;\n",
       "      height: 32px;\n",
       "      padding: 0 0 0 0;\n",
       "      width: 32px;\n",
       "    }\n",
       "\n",
       "    .colab-df-convert:hover {\n",
       "      background-color: #E2EBFA;\n",
       "      box-shadow: 0px 1px 2px rgba(60, 64, 67, 0.3), 0px 1px 3px 1px rgba(60, 64, 67, 0.15);\n",
       "      fill: #174EA6;\n",
       "    }\n",
       "\n",
       "    [theme=dark] .colab-df-convert {\n",
       "      background-color: #3B4455;\n",
       "      fill: #D2E3FC;\n",
       "    }\n",
       "\n",
       "    [theme=dark] .colab-df-convert:hover {\n",
       "      background-color: #434B5C;\n",
       "      box-shadow: 0px 1px 3px 1px rgba(0, 0, 0, 0.15);\n",
       "      filter: drop-shadow(0px 1px 2px rgba(0, 0, 0, 0.3));\n",
       "      fill: #FFFFFF;\n",
       "    }\n",
       "  </style>\n",
       "\n",
       "      <script>\n",
       "        const buttonEl =\n",
       "          document.querySelector('#df-90939bf0-fc19-4be4-8b12-8701ccd543a7 button.colab-df-convert');\n",
       "        buttonEl.style.display =\n",
       "          google.colab.kernel.accessAllowed ? 'block' : 'none';\n",
       "\n",
       "        async function convertToInteractive(key) {\n",
       "          const element = document.querySelector('#df-90939bf0-fc19-4be4-8b12-8701ccd543a7');\n",
       "          const dataTable =\n",
       "            await google.colab.kernel.invokeFunction('convertToInteractive',\n",
       "                                                     [key], {});\n",
       "          if (!dataTable) return;\n",
       "\n",
       "          const docLinkHtml = 'Like what you see? Visit the ' +\n",
       "            '<a target=\"_blank\" href=https://colab.research.google.com/notebooks/data_table.ipynb>data table notebook</a>'\n",
       "            + ' to learn more about interactive tables.';\n",
       "          element.innerHTML = '';\n",
       "          dataTable['output_type'] = 'display_data';\n",
       "          await google.colab.output.renderOutput(dataTable, element);\n",
       "          const docLink = document.createElement('div');\n",
       "          docLink.innerHTML = docLinkHtml;\n",
       "          element.appendChild(docLink);\n",
       "        }\n",
       "      </script>\n",
       "    </div>\n",
       "  </div>\n",
       "  "
      ],
      "text/plain": [
       "        order_id         created_date  total_paid            state\n",
       "74671     374217  2017-07-07 13:07:27       79.99  Shopping Basket\n",
       "181597    482001  2018-01-04 15:43:54     1329.00      Place Order\n",
       "196259    496742  2018-01-23 16:24:28       79.99          Pending\n",
       "191829    492311  2018-01-16 18:36:59     1849.59      Place Order\n",
       "223459    523951  2018-03-09 18:24:54      368.99  Shopping Basket\n",
       "9484      308955  2017-01-13 17:25:52       59.99  Shopping Basket\n",
       "46845     346338  2017-04-15 16:01:42      272.99        Cancelled\n",
       "226628    527121  2018-03-14 11:59:58     1316.00  Shopping Basket\n",
       "33412     332896  2017-03-07 11:58:51      819.80  Shopping Basket\n",
       "81785     381359  2017-07-24 13:52:42       43.98  Shopping Basket"
      ]
     },
     "execution_count": 13,
     "metadata": {},
     "output_type": "execute_result"
    }
   ],
   "source": [
    "# take a look at the dataset with random row\n",
    "orders.sample(10)"
   ]
  },
  {
   "cell_type": "markdown",
   "id": "vtp2MbO09jT1",
   "metadata": {
    "id": "vtp2MbO09jT1"
   },
   "source": [
    "## 3.1 `created_date` should become datetime datatype"
   ]
  },
  {
   "cell_type": "code",
   "execution_count": 14,
   "id": "vI4ueHibtK1P",
   "metadata": {
    "executionInfo": {
     "elapsed": 278,
     "status": "ok",
     "timestamp": 1675965196676,
     "user": {
      "displayName": "Crystal",
      "userId": "14619037572832113319"
     },
     "user_tz": -60
    },
    "id": "vI4ueHibtK1P"
   },
   "outputs": [],
   "source": [
    "orders[\"created_date\"] = pd.to_datetime(orders[\"created_date\"])"
   ]
  },
  {
   "cell_type": "code",
   "execution_count": 15,
   "id": "J7j-1hvwRm4q",
   "metadata": {
    "colab": {
     "base_uri": "https://localhost:8080/"
    },
    "executionInfo": {
     "elapsed": 5,
     "status": "ok",
     "timestamp": 1675965200272,
     "user": {
      "displayName": "Crystal",
      "userId": "14619037572832113319"
     },
     "user_tz": -60
    },
    "id": "J7j-1hvwRm4q",
    "outputId": "87396313-43f9-445d-b7bf-95be654c92dd"
   },
   "outputs": [
    {
     "name": "stdout",
     "output_type": "stream",
     "text": [
      "<class 'pandas.core.frame.DataFrame'>\n",
      "Int64Index: 226904 entries, 0 to 226908\n",
      "Data columns (total 4 columns):\n",
      " #   Column        Non-Null Count   Dtype         \n",
      "---  ------        --------------   -----         \n",
      " 0   order_id      226904 non-null  int64         \n",
      " 1   created_date  226904 non-null  datetime64[ns]\n",
      " 2   total_paid    226904 non-null  float64       \n",
      " 3   state         226904 non-null  object        \n",
      "dtypes: datetime64[ns](1), float64(1), int64(1), object(1)\n",
      "memory usage: 8.7+ MB\n"
     ]
    }
   ],
   "source": [
    "orders.info()"
   ]
  },
  {
   "cell_type": "code",
   "execution_count": 16,
   "id": "PFIRXpCFRyjy",
   "metadata": {
    "executionInfo": {
     "elapsed": 247,
     "status": "ok",
     "timestamp": 1675965213114,
     "user": {
      "displayName": "Crystal",
      "userId": "14619037572832113319"
     },
     "user_tz": -60
    },
    "id": "PFIRXpCFRyjy"
   },
   "outputs": [],
   "source": [
    "orders_cl=orders"
   ]
  },
  {
   "cell_type": "code",
   "execution_count": 17,
   "id": "BJqMsFIn3G1K",
   "metadata": {
    "colab": {
     "base_uri": "https://localhost:8080/",
     "height": 206
    },
    "executionInfo": {
     "elapsed": 6,
     "status": "ok",
     "timestamp": 1675965228108,
     "user": {
      "displayName": "Crystal",
      "userId": "14619037572832113319"
     },
     "user_tz": -60
    },
    "id": "BJqMsFIn3G1K",
    "outputId": "e08f7444-71e3-419a-b146-29227a894158"
   },
   "outputs": [
    {
     "data": {
      "text/html": [
       "\n",
       "  <div id=\"df-98e9c8d9-8632-4e3b-a414-a7613f096dbe\">\n",
       "    <div class=\"colab-df-container\">\n",
       "      <div>\n",
       "<style scoped>\n",
       "    .dataframe tbody tr th:only-of-type {\n",
       "        vertical-align: middle;\n",
       "    }\n",
       "\n",
       "    .dataframe tbody tr th {\n",
       "        vertical-align: top;\n",
       "    }\n",
       "\n",
       "    .dataframe thead th {\n",
       "        text-align: right;\n",
       "    }\n",
       "</style>\n",
       "<table border=\"1\" class=\"dataframe\">\n",
       "  <thead>\n",
       "    <tr style=\"text-align: right;\">\n",
       "      <th></th>\n",
       "      <th>order_id</th>\n",
       "      <th>created_date</th>\n",
       "      <th>total_paid</th>\n",
       "      <th>state</th>\n",
       "    </tr>\n",
       "  </thead>\n",
       "  <tbody>\n",
       "    <tr>\n",
       "      <th>96028</th>\n",
       "      <td>395611</td>\n",
       "      <td>2017-09-01 20:56:34</td>\n",
       "      <td>214747.53</td>\n",
       "      <td>Shopping Basket</td>\n",
       "    </tr>\n",
       "    <tr>\n",
       "      <th>2478</th>\n",
       "      <td>301934</td>\n",
       "      <td>2017-01-03 19:27:13</td>\n",
       "      <td>214746.63</td>\n",
       "      <td>Shopping Basket</td>\n",
       "    </tr>\n",
       "    <tr>\n",
       "      <th>183927</th>\n",
       "      <td>484334</td>\n",
       "      <td>2018-01-07 15:58:26</td>\n",
       "      <td>214714.31</td>\n",
       "      <td>Shopping Basket</td>\n",
       "    </tr>\n",
       "    <tr>\n",
       "      <th>61659</th>\n",
       "      <td>361200</td>\n",
       "      <td>2017-06-01 11:55:02</td>\n",
       "      <td>214642.47</td>\n",
       "      <td>Shopping Basket</td>\n",
       "    </tr>\n",
       "    <tr>\n",
       "      <th>40557</th>\n",
       "      <td>340045</td>\n",
       "      <td>2017-03-28 13:27:52</td>\n",
       "      <td>214517.58</td>\n",
       "      <td>Shopping Basket</td>\n",
       "    </tr>\n",
       "  </tbody>\n",
       "</table>\n",
       "</div>\n",
       "      <button class=\"colab-df-convert\" onclick=\"convertToInteractive('df-98e9c8d9-8632-4e3b-a414-a7613f096dbe')\"\n",
       "              title=\"Convert this dataframe to an interactive table.\"\n",
       "              style=\"display:none;\">\n",
       "        \n",
       "  <svg xmlns=\"http://www.w3.org/2000/svg\" height=\"24px\"viewBox=\"0 0 24 24\"\n",
       "       width=\"24px\">\n",
       "    <path d=\"M0 0h24v24H0V0z\" fill=\"none\"/>\n",
       "    <path d=\"M18.56 5.44l.94 2.06.94-2.06 2.06-.94-2.06-.94-.94-2.06-.94 2.06-2.06.94zm-11 1L8.5 8.5l.94-2.06 2.06-.94-2.06-.94L8.5 2.5l-.94 2.06-2.06.94zm10 10l.94 2.06.94-2.06 2.06-.94-2.06-.94-.94-2.06-.94 2.06-2.06.94z\"/><path d=\"M17.41 7.96l-1.37-1.37c-.4-.4-.92-.59-1.43-.59-.52 0-1.04.2-1.43.59L10.3 9.45l-7.72 7.72c-.78.78-.78 2.05 0 2.83L4 21.41c.39.39.9.59 1.41.59.51 0 1.02-.2 1.41-.59l7.78-7.78 2.81-2.81c.8-.78.8-2.07 0-2.86zM5.41 20L4 18.59l7.72-7.72 1.47 1.35L5.41 20z\"/>\n",
       "  </svg>\n",
       "      </button>\n",
       "      \n",
       "  <style>\n",
       "    .colab-df-container {\n",
       "      display:flex;\n",
       "      flex-wrap:wrap;\n",
       "      gap: 12px;\n",
       "    }\n",
       "\n",
       "    .colab-df-convert {\n",
       "      background-color: #E8F0FE;\n",
       "      border: none;\n",
       "      border-radius: 50%;\n",
       "      cursor: pointer;\n",
       "      display: none;\n",
       "      fill: #1967D2;\n",
       "      height: 32px;\n",
       "      padding: 0 0 0 0;\n",
       "      width: 32px;\n",
       "    }\n",
       "\n",
       "    .colab-df-convert:hover {\n",
       "      background-color: #E2EBFA;\n",
       "      box-shadow: 0px 1px 2px rgba(60, 64, 67, 0.3), 0px 1px 3px 1px rgba(60, 64, 67, 0.15);\n",
       "      fill: #174EA6;\n",
       "    }\n",
       "\n",
       "    [theme=dark] .colab-df-convert {\n",
       "      background-color: #3B4455;\n",
       "      fill: #D2E3FC;\n",
       "    }\n",
       "\n",
       "    [theme=dark] .colab-df-convert:hover {\n",
       "      background-color: #434B5C;\n",
       "      box-shadow: 0px 1px 3px 1px rgba(0, 0, 0, 0.15);\n",
       "      filter: drop-shadow(0px 1px 2px rgba(0, 0, 0, 0.3));\n",
       "      fill: #FFFFFF;\n",
       "    }\n",
       "  </style>\n",
       "\n",
       "      <script>\n",
       "        const buttonEl =\n",
       "          document.querySelector('#df-98e9c8d9-8632-4e3b-a414-a7613f096dbe button.colab-df-convert');\n",
       "        buttonEl.style.display =\n",
       "          google.colab.kernel.accessAllowed ? 'block' : 'none';\n",
       "\n",
       "        async function convertToInteractive(key) {\n",
       "          const element = document.querySelector('#df-98e9c8d9-8632-4e3b-a414-a7613f096dbe');\n",
       "          const dataTable =\n",
       "            await google.colab.kernel.invokeFunction('convertToInteractive',\n",
       "                                                     [key], {});\n",
       "          if (!dataTable) return;\n",
       "\n",
       "          const docLinkHtml = 'Like what you see? Visit the ' +\n",
       "            '<a target=\"_blank\" href=https://colab.research.google.com/notebooks/data_table.ipynb>data table notebook</a>'\n",
       "            + ' to learn more about interactive tables.';\n",
       "          element.innerHTML = '';\n",
       "          dataTable['output_type'] = 'display_data';\n",
       "          await google.colab.output.renderOutput(dataTable, element);\n",
       "          const docLink = document.createElement('div');\n",
       "          docLink.innerHTML = docLinkHtml;\n",
       "          element.appendChild(docLink);\n",
       "        }\n",
       "      </script>\n",
       "    </div>\n",
       "  </div>\n",
       "  "
      ],
      "text/plain": [
       "        order_id        created_date  total_paid            state\n",
       "96028     395611 2017-09-01 20:56:34   214747.53  Shopping Basket\n",
       "2478      301934 2017-01-03 19:27:13   214746.63  Shopping Basket\n",
       "183927    484334 2018-01-07 15:58:26   214714.31  Shopping Basket\n",
       "61659     361200 2017-06-01 11:55:02   214642.47  Shopping Basket\n",
       "40557     340045 2017-03-28 13:27:52   214517.58  Shopping Basket"
      ]
     },
     "execution_count": 17,
     "metadata": {},
     "output_type": "execute_result"
    }
   ],
   "source": [
    "orders_cl.nlargest(5, \"total_paid\")"
   ]
  },
  {
   "cell_type": "code",
   "execution_count": 18,
   "id": "MskkIhU_3G1L",
   "metadata": {
    "colab": {
     "base_uri": "https://localhost:8080/",
     "height": 206
    },
    "executionInfo": {
     "elapsed": 238,
     "status": "ok",
     "timestamp": 1675965238930,
     "user": {
      "displayName": "Crystal",
      "userId": "14619037572832113319"
     },
     "user_tz": -60
    },
    "id": "MskkIhU_3G1L",
    "outputId": "afe3bc09-ae80-4d34-822b-3246c237323d"
   },
   "outputs": [
    {
     "data": {
      "text/html": [
       "\n",
       "  <div id=\"df-70d282d0-4ed9-45f7-ba77-f1483b031eeb\">\n",
       "    <div class=\"colab-df-container\">\n",
       "      <div>\n",
       "<style scoped>\n",
       "    .dataframe tbody tr th:only-of-type {\n",
       "        vertical-align: middle;\n",
       "    }\n",
       "\n",
       "    .dataframe tbody tr th {\n",
       "        vertical-align: top;\n",
       "    }\n",
       "\n",
       "    .dataframe thead th {\n",
       "        text-align: right;\n",
       "    }\n",
       "</style>\n",
       "<table border=\"1\" class=\"dataframe\">\n",
       "  <thead>\n",
       "    <tr style=\"text-align: right;\">\n",
       "      <th></th>\n",
       "      <th>order_id</th>\n",
       "      <th>created_date</th>\n",
       "      <th>total_paid</th>\n",
       "      <th>state</th>\n",
       "    </tr>\n",
       "  </thead>\n",
       "  <tbody>\n",
       "    <tr>\n",
       "      <th>150</th>\n",
       "      <td>296010</td>\n",
       "      <td>2017-01-09 23:47:00</td>\n",
       "      <td>0.0</td>\n",
       "      <td>Completed</td>\n",
       "    </tr>\n",
       "    <tr>\n",
       "      <th>264</th>\n",
       "      <td>299605</td>\n",
       "      <td>2017-01-01 10:33:46</td>\n",
       "      <td>0.0</td>\n",
       "      <td>Shopping Basket</td>\n",
       "    </tr>\n",
       "    <tr>\n",
       "      <th>308</th>\n",
       "      <td>299651</td>\n",
       "      <td>2017-01-01 12:23:58</td>\n",
       "      <td>0.0</td>\n",
       "      <td>Shopping Basket</td>\n",
       "    </tr>\n",
       "    <tr>\n",
       "      <th>377</th>\n",
       "      <td>299731</td>\n",
       "      <td>2017-01-01 14:52:18</td>\n",
       "      <td>0.0</td>\n",
       "      <td>Shopping Basket</td>\n",
       "    </tr>\n",
       "    <tr>\n",
       "      <th>380</th>\n",
       "      <td>299734</td>\n",
       "      <td>2017-01-01 14:55:20</td>\n",
       "      <td>0.0</td>\n",
       "      <td>Shopping Basket</td>\n",
       "    </tr>\n",
       "  </tbody>\n",
       "</table>\n",
       "</div>\n",
       "      <button class=\"colab-df-convert\" onclick=\"convertToInteractive('df-70d282d0-4ed9-45f7-ba77-f1483b031eeb')\"\n",
       "              title=\"Convert this dataframe to an interactive table.\"\n",
       "              style=\"display:none;\">\n",
       "        \n",
       "  <svg xmlns=\"http://www.w3.org/2000/svg\" height=\"24px\"viewBox=\"0 0 24 24\"\n",
       "       width=\"24px\">\n",
       "    <path d=\"M0 0h24v24H0V0z\" fill=\"none\"/>\n",
       "    <path d=\"M18.56 5.44l.94 2.06.94-2.06 2.06-.94-2.06-.94-.94-2.06-.94 2.06-2.06.94zm-11 1L8.5 8.5l.94-2.06 2.06-.94-2.06-.94L8.5 2.5l-.94 2.06-2.06.94zm10 10l.94 2.06.94-2.06 2.06-.94-2.06-.94-.94-2.06-.94 2.06-2.06.94z\"/><path d=\"M17.41 7.96l-1.37-1.37c-.4-.4-.92-.59-1.43-.59-.52 0-1.04.2-1.43.59L10.3 9.45l-7.72 7.72c-.78.78-.78 2.05 0 2.83L4 21.41c.39.39.9.59 1.41.59.51 0 1.02-.2 1.41-.59l7.78-7.78 2.81-2.81c.8-.78.8-2.07 0-2.86zM5.41 20L4 18.59l7.72-7.72 1.47 1.35L5.41 20z\"/>\n",
       "  </svg>\n",
       "      </button>\n",
       "      \n",
       "  <style>\n",
       "    .colab-df-container {\n",
       "      display:flex;\n",
       "      flex-wrap:wrap;\n",
       "      gap: 12px;\n",
       "    }\n",
       "\n",
       "    .colab-df-convert {\n",
       "      background-color: #E8F0FE;\n",
       "      border: none;\n",
       "      border-radius: 50%;\n",
       "      cursor: pointer;\n",
       "      display: none;\n",
       "      fill: #1967D2;\n",
       "      height: 32px;\n",
       "      padding: 0 0 0 0;\n",
       "      width: 32px;\n",
       "    }\n",
       "\n",
       "    .colab-df-convert:hover {\n",
       "      background-color: #E2EBFA;\n",
       "      box-shadow: 0px 1px 2px rgba(60, 64, 67, 0.3), 0px 1px 3px 1px rgba(60, 64, 67, 0.15);\n",
       "      fill: #174EA6;\n",
       "    }\n",
       "\n",
       "    [theme=dark] .colab-df-convert {\n",
       "      background-color: #3B4455;\n",
       "      fill: #D2E3FC;\n",
       "    }\n",
       "\n",
       "    [theme=dark] .colab-df-convert:hover {\n",
       "      background-color: #434B5C;\n",
       "      box-shadow: 0px 1px 3px 1px rgba(0, 0, 0, 0.15);\n",
       "      filter: drop-shadow(0px 1px 2px rgba(0, 0, 0, 0.3));\n",
       "      fill: #FFFFFF;\n",
       "    }\n",
       "  </style>\n",
       "\n",
       "      <script>\n",
       "        const buttonEl =\n",
       "          document.querySelector('#df-70d282d0-4ed9-45f7-ba77-f1483b031eeb button.colab-df-convert');\n",
       "        buttonEl.style.display =\n",
       "          google.colab.kernel.accessAllowed ? 'block' : 'none';\n",
       "\n",
       "        async function convertToInteractive(key) {\n",
       "          const element = document.querySelector('#df-70d282d0-4ed9-45f7-ba77-f1483b031eeb');\n",
       "          const dataTable =\n",
       "            await google.colab.kernel.invokeFunction('convertToInteractive',\n",
       "                                                     [key], {});\n",
       "          if (!dataTable) return;\n",
       "\n",
       "          const docLinkHtml = 'Like what you see? Visit the ' +\n",
       "            '<a target=\"_blank\" href=https://colab.research.google.com/notebooks/data_table.ipynb>data table notebook</a>'\n",
       "            + ' to learn more about interactive tables.';\n",
       "          element.innerHTML = '';\n",
       "          dataTable['output_type'] = 'display_data';\n",
       "          await google.colab.output.renderOutput(dataTable, element);\n",
       "          const docLink = document.createElement('div');\n",
       "          docLink.innerHTML = docLinkHtml;\n",
       "          element.appendChild(docLink);\n",
       "        }\n",
       "      </script>\n",
       "    </div>\n",
       "  </div>\n",
       "  "
      ],
      "text/plain": [
       "     order_id        created_date  total_paid            state\n",
       "150    296010 2017-01-09 23:47:00         0.0        Completed\n",
       "264    299605 2017-01-01 10:33:46         0.0  Shopping Basket\n",
       "308    299651 2017-01-01 12:23:58         0.0  Shopping Basket\n",
       "377    299731 2017-01-01 14:52:18         0.0  Shopping Basket\n",
       "380    299734 2017-01-01 14:55:20         0.0  Shopping Basket"
      ]
     },
     "execution_count": 18,
     "metadata": {},
     "output_type": "execute_result"
    }
   ],
   "source": [
    "orders_cl.nsmallest(5, \"total_paid\")"
   ]
  },
  {
   "cell_type": "markdown",
   "id": "wlpczyB-CPH9",
   "metadata": {
    "id": "wlpczyB-CPH9"
   },
   "source": [
    "Don't forget to download/save your new DataFrames. Also, give them an obvious name, so that you know they are the cleaned version and not the original DataFrame."
   ]
  },
  {
   "cell_type": "code",
   "execution_count": 19,
   "id": "z7prVCC0XFuQ",
   "metadata": {
    "colab": {
     "base_uri": "https://localhost:8080/",
     "height": 34
    },
    "executionInfo": {
     "elapsed": 992,
     "status": "ok",
     "timestamp": 1675965253053,
     "user": {
      "displayName": "Crystal",
      "userId": "14619037572832113319"
     },
     "user_tz": -60
    },
    "id": "z7prVCC0XFuQ",
    "outputId": "0f1e8f0d-9a72-46df-9f66-fc5b96921971"
   },
   "outputs": [
    {
     "data": {
      "application/javascript": [
       "\n",
       "    async function download(id, filename, size) {\n",
       "      if (!google.colab.kernel.accessAllowed) {\n",
       "        return;\n",
       "      }\n",
       "      const div = document.createElement('div');\n",
       "      const label = document.createElement('label');\n",
       "      label.textContent = `Downloading \"${filename}\": `;\n",
       "      div.appendChild(label);\n",
       "      const progress = document.createElement('progress');\n",
       "      progress.max = size;\n",
       "      div.appendChild(progress);\n",
       "      document.body.appendChild(div);\n",
       "\n",
       "      const buffers = [];\n",
       "      let downloaded = 0;\n",
       "\n",
       "      const channel = await google.colab.kernel.comms.open(id);\n",
       "      // Send a message to notify the kernel that we're ready.\n",
       "      channel.send({})\n",
       "\n",
       "      for await (const message of channel.messages) {\n",
       "        // Send a message to notify the kernel that we're ready.\n",
       "        channel.send({})\n",
       "        if (message.buffers) {\n",
       "          for (const buffer of message.buffers) {\n",
       "            buffers.push(buffer);\n",
       "            downloaded += buffer.byteLength;\n",
       "            progress.value = downloaded;\n",
       "          }\n",
       "        }\n",
       "      }\n",
       "      const blob = new Blob(buffers, {type: 'application/binary'});\n",
       "      const a = document.createElement('a');\n",
       "      a.href = window.URL.createObjectURL(blob);\n",
       "      a.download = filename;\n",
       "      div.appendChild(a);\n",
       "      a.click();\n",
       "      div.remove();\n",
       "    }\n",
       "  "
      ],
      "text/plain": [
       "<IPython.core.display.Javascript object>"
      ]
     },
     "metadata": {},
     "output_type": "display_data"
    },
    {
     "data": {
      "application/javascript": [
       "download(\"download_7b7a4267-c991-4c19-a2f4-42d6476c280b\", \"orders_cl.csv\", 10596743)"
      ],
      "text/plain": [
       "<IPython.core.display.Javascript object>"
      ]
     },
     "metadata": {},
     "output_type": "display_data"
    }
   ],
   "source": [
    "from google.colab import files\n",
    "orders_cl.to_csv(\"orders_cl.csv\", index=False)\n",
    "files.download(\"orders_cl.csv\")"
   ]
  },
  {
   "cell_type": "code",
   "execution_count": null,
   "id": "YXlLQMZYCTr-",
   "metadata": {
    "id": "YXlLQMZYCTr-"
   },
   "outputs": [],
   "source": []
  }
 ],
 "metadata": {
  "colab": {
   "collapsed_sections": [
    "mCG96SJS3G1M",
    "t6ff3smA3G1M",
    "nUTQs-aM3G1O"
   ],
   "provenance": [
    {
     "file_id": "1yha4wb3hywOsU6rjrfQRO3VGEvWBJtjQ",
     "timestamp": 1675848174647
    },
    {
     "file_id": "1hFHSEy_blfgjYkBcOjdoIypFvtKvK_NP",
     "timestamp": 1661242512128
    },
    {
     "file_id": "1fyzS1d-AnL48uaXyCfIUF_0WdBZkckDd",
     "timestamp": 1658822216180
    }
   ],
   "toc_visible": true
  },
  "kernelspec": {
   "display_name": "Python 3 (ipykernel)",
   "language": "python",
   "name": "python3"
  },
  "language_info": {
   "codemirror_mode": {
    "name": "ipython",
    "version": 3
   },
   "file_extension": ".py",
   "mimetype": "text/x-python",
   "name": "python",
   "nbconvert_exporter": "python",
   "pygments_lexer": "ipython3",
   "version": "3.9.16"
  }
 },
 "nbformat": 4,
 "nbformat_minor": 5
}
