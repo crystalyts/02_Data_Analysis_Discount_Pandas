{
 "cells": [
  {
   "cell_type": "code",
   "execution_count": 1,
   "id": "-TpFexIq3G1B",
   "metadata": {
    "executionInfo": {
     "elapsed": 1031,
     "status": "ok",
     "timestamp": 1676291638587,
     "user": {
      "displayName": "Crystal",
      "userId": "14619037572832113319"
     },
     "user_tz": -60
    },
    "id": "-TpFexIq3G1B"
   },
   "outputs": [],
   "source": [
    "import pandas as pd"
   ]
  },
  {
   "cell_type": "markdown",
   "id": "dxOHIz6E3G1F",
   "metadata": {
    "id": "dxOHIz6E3G1F"
   },
   "source": [
    "# 1.&nbsp; Import a csv file to DataFrame\n"
   ]
  },
  {
   "cell_type": "code",
   "execution_count": 2,
   "id": "jy28BixO3G1G",
   "metadata": {
    "executionInfo": {
     "elapsed": 4843,
     "status": "ok",
     "timestamp": 1676291646135,
     "user": {
      "displayName": "Crystal",
      "userId": "14619037572832113319"
     },
     "user_tz": -60
    },
    "id": "jy28BixO3G1G"
   },
   "outputs": [],
   "source": [
    "url = \"https://drive.google.com/file/d/1FYhN_2AzTBFuWcfHaRuKcuCE6CWXsWtG/view?usp=sharing\" # orderlines.csv\n",
    "path = \"https://drive.google.com/uc?export=download&id=\"+url.split(\"/\")[-2]\n",
    "orderlines = pd.read_csv(path)"
   ]
  },
  {
   "cell_type": "code",
   "execution_count": null,
   "id": "z8uN8_hmr-h3",
   "metadata": {
    "id": "z8uN8_hmr-h3"
   },
   "outputs": [],
   "source": [
    "pd.options.display.max_rows = 10"
   ]
  },
  {
   "cell_type": "code",
   "execution_count": null,
   "id": "unheSxiCq-tv",
   "metadata": {
    "colab": {
     "base_uri": "https://localhost:8080/"
    },
    "executionInfo": {
     "elapsed": 7,
     "status": "ok",
     "timestamp": 1675963563031,
     "user": {
      "displayName": "Crystal",
      "userId": "14619037572832113319"
     },
     "user_tz": -60
    },
    "id": "unheSxiCq-tv",
    "outputId": "5ed203ae-a475-4895-a7df-de9b1296f2a3"
   },
   "outputs": [
    {
     "name": "stdout",
     "output_type": "stream",
     "text": [
      "<class 'pandas.core.frame.DataFrame'>\n",
      "RangeIndex: 293983 entries, 0 to 293982\n",
      "Data columns (total 7 columns):\n",
      " #   Column            Non-Null Count   Dtype \n",
      "---  ------            --------------   ----- \n",
      " 0   id                293983 non-null  int64 \n",
      " 1   id_order          293983 non-null  int64 \n",
      " 2   product_id        293983 non-null  int64 \n",
      " 3   product_quantity  293983 non-null  int64 \n",
      " 4   sku               293983 non-null  object\n",
      " 5   unit_price        293983 non-null  object\n",
      " 6   date              293983 non-null  object\n",
      "dtypes: int64(4), object(3)\n",
      "memory usage: 15.7+ MB\n"
     ]
    }
   ],
   "source": [
    "orderlines.info()"
   ]
  },
  {
   "cell_type": "markdown",
   "id": "sP6KWs43P-JU",
   "metadata": {
    "id": "sP6KWs43P-JU"
   },
   "source": [
    "doesn't look like there's any missing value"
   ]
  },
  {
   "cell_type": "markdown",
   "id": "9sd8hctetP0q",
   "metadata": {
    "id": "9sd8hctetP0q"
   },
   "source": [
    "# 2.&nbsp; Clean up missing & duplicates "
   ]
  },
  {
   "cell_type": "markdown",
   "id": "-5J2bOm1g0aO",
   "metadata": {
    "id": "-5J2bOm1g0aO"
   },
   "source": [
    "## 2.1 Check for Missing Value"
   ]
  },
  {
   "cell_type": "code",
   "execution_count": null,
   "id": "bcQUSad5q7Yu",
   "metadata": {
    "colab": {
     "base_uri": "https://localhost:8080/"
    },
    "executionInfo": {
     "elapsed": 6,
     "status": "ok",
     "timestamp": 1675963738709,
     "user": {
      "displayName": "Crystal",
      "userId": "14619037572832113319"
     },
     "user_tz": -60
    },
    "id": "bcQUSad5q7Yu",
    "outputId": "dd80008e-00cb-4476-f888-1aeaba18047c"
   },
   "outputs": [
    {
     "data": {
      "text/plain": [
       "id                  0\n",
       "id_order            0\n",
       "product_id          0\n",
       "product_quantity    0\n",
       "sku                 0\n",
       "unit_price          0\n",
       "date                0\n",
       "dtype: int64"
      ]
     },
     "execution_count": 4,
     "metadata": {},
     "output_type": "execute_result"
    }
   ],
   "source": [
    "orderlines.isna().sum()"
   ]
  },
  {
   "cell_type": "markdown",
   "id": "1syQFLhDOW4x",
   "metadata": {
    "id": "1syQFLhDOW4x"
   },
   "source": [
    "There is no missing value"
   ]
  },
  {
   "cell_type": "markdown",
   "id": "tF53kMhFC5Tz",
   "metadata": {
    "id": "tF53kMhFC5Tz"
   },
   "source": [
    "## 2.2 Check for Duplicates"
   ]
  },
  {
   "cell_type": "code",
   "execution_count": null,
   "id": "pFZZDaMwC8zx",
   "metadata": {
    "colab": {
     "base_uri": "https://localhost:8080/"
    },
    "executionInfo": {
     "elapsed": 418,
     "status": "ok",
     "timestamp": 1675963798022,
     "user": {
      "displayName": "Crystal",
      "userId": "14619037572832113319"
     },
     "user_tz": -60
    },
    "id": "pFZZDaMwC8zx",
    "outputId": "cb8b1378-9e84-4476-a058-4fb50e2dbfbd"
   },
   "outputs": [
    {
     "data": {
      "text/plain": [
       "0"
      ]
     },
     "execution_count": 5,
     "metadata": {},
     "output_type": "execute_result"
    }
   ],
   "source": [
    "# check for duplicates\n",
    "orderlines.duplicated().sum()"
   ]
  },
  {
   "cell_type": "code",
   "execution_count": null,
   "id": "cXMZsav-3G1J",
   "metadata": {
    "colab": {
     "base_uri": "https://localhost:8080/"
    },
    "executionInfo": {
     "elapsed": 5,
     "status": "ok",
     "timestamp": 1675963814196,
     "user": {
      "displayName": "Crystal",
      "userId": "14619037572832113319"
     },
     "user_tz": -60
    },
    "id": "cXMZsav-3G1J",
    "outputId": "46fcecee-f905-4892-e35b-5337873842ce"
   },
   "outputs": [
    {
     "data": {
      "text/plain": [
       "id                  293983\n",
       "id_order            204855\n",
       "product_id               1\n",
       "product_quantity        67\n",
       "sku                   7951\n",
       "unit_price           11329\n",
       "date                251631\n",
       "dtype: int64"
      ]
     },
     "execution_count": 6,
     "metadata": {},
     "output_type": "execute_result"
    }
   ],
   "source": [
    "orderlines.nunique()"
   ]
  },
  {
   "cell_type": "code",
   "execution_count": null,
   "id": "cnC6vIW93G1G",
   "metadata": {
    "colab": {
     "base_uri": "https://localhost:8080/"
    },
    "executionInfo": {
     "elapsed": 448,
     "status": "ok",
     "timestamp": 1675963823862,
     "user": {
      "displayName": "Crystal",
      "userId": "14619037572832113319"
     },
     "user_tz": -60
    },
    "id": "cnC6vIW93G1G",
    "outputId": "4769f70e-ab31-4a4f-be5e-b4bff1975db8"
   },
   "outputs": [
    {
     "data": {
      "text/plain": [
       "(293983, 7)"
      ]
     },
     "execution_count": 8,
     "metadata": {},
     "output_type": "execute_result"
    }
   ],
   "source": [
    "orderlines.shape"
   ]
  },
  {
   "cell_type": "markdown",
   "id": "RjHf6uXq3G1H",
   "metadata": {
    "id": "RjHf6uXq3G1H"
   },
   "source": [
    "[DataFrame.size](https://pandas.pydata.org/docs/reference/api/pandas.DataFrame.size.html) returns the total number of values that the DataFrame has (the number of rows multiplied by the number of columns):"
   ]
  },
  {
   "cell_type": "code",
   "execution_count": null,
   "id": "mHVz_-yA3G1H",
   "metadata": {
    "colab": {
     "base_uri": "https://localhost:8080/"
    },
    "executionInfo": {
     "elapsed": 6,
     "status": "ok",
     "timestamp": 1675963830582,
     "user": {
      "displayName": "Crystal",
      "userId": "14619037572832113319"
     },
     "user_tz": -60
    },
    "id": "mHVz_-yA3G1H",
    "outputId": "6d4899c5-afce-4604-c809-991cd3499ab1"
   },
   "outputs": [
    {
     "data": {
      "text/plain": [
       "2057881"
      ]
     },
     "execution_count": 9,
     "metadata": {},
     "output_type": "execute_result"
    }
   ],
   "source": [
    "orderlines.size"
   ]
  },
  {
   "cell_type": "markdown",
   "id": "ncyEOZxWJvHj",
   "metadata": {
    "id": "ncyEOZxWJvHj"
   },
   "source": [
    "We can check if the `.size` and `.shape` agree"
   ]
  },
  {
   "cell_type": "code",
   "execution_count": null,
   "id": "t_8Y1rsD3G1H",
   "metadata": {
    "colab": {
     "base_uri": "https://localhost:8080/"
    },
    "executionInfo": {
     "elapsed": 4,
     "status": "ok",
     "timestamp": 1675963836831,
     "user": {
      "displayName": "Crystal",
      "userId": "14619037572832113319"
     },
     "user_tz": -60
    },
    "id": "t_8Y1rsD3G1H",
    "outputId": "5e368595-33c5-4027-cbf5-6ff0ab3c49b9"
   },
   "outputs": [
    {
     "data": {
      "text/plain": [
       "True"
      ]
     },
     "execution_count": 10,
     "metadata": {},
     "output_type": "execute_result"
    }
   ],
   "source": [
    "orderlines.shape[0] * orderlines.shape[1] == orderlines.size"
   ]
  },
  {
   "cell_type": "markdown",
   "id": "HWSKDRiF3G1I",
   "metadata": {
    "id": "HWSKDRiF3G1I"
   },
   "source": [
    "# 3.&nbsp; Data types"
   ]
  },
  {
   "cell_type": "markdown",
   "id": "yb37eyvIBuep",
   "metadata": {
    "id": "yb37eyvIBuep"
   },
   "source": [
    "* `date` should be a datetime datatype\n",
    "* `unit_price` should be a float datatype"
   ]
  },
  {
   "cell_type": "code",
   "execution_count": null,
   "id": "9wE0xQEtPAqc",
   "metadata": {
    "colab": {
     "base_uri": "https://localhost:8080/",
     "height": 363
    },
    "executionInfo": {
     "elapsed": 5,
     "status": "ok",
     "timestamp": 1675963975786,
     "user": {
      "displayName": "Crystal",
      "userId": "14619037572832113319"
     },
     "user_tz": -60
    },
    "id": "9wE0xQEtPAqc",
    "outputId": "f565557b-d9df-43c2-9b70-d1298055cb5d"
   },
   "outputs": [
    {
     "data": {
      "text/html": [
       "\n",
       "  <div id=\"df-20d8433c-6887-42e4-a1eb-6a931c7fe392\">\n",
       "    <div class=\"colab-df-container\">\n",
       "      <div>\n",
       "<style scoped>\n",
       "    .dataframe tbody tr th:only-of-type {\n",
       "        vertical-align: middle;\n",
       "    }\n",
       "\n",
       "    .dataframe tbody tr th {\n",
       "        vertical-align: top;\n",
       "    }\n",
       "\n",
       "    .dataframe thead th {\n",
       "        text-align: right;\n",
       "    }\n",
       "</style>\n",
       "<table border=\"1\" class=\"dataframe\">\n",
       "  <thead>\n",
       "    <tr style=\"text-align: right;\">\n",
       "      <th></th>\n",
       "      <th>id</th>\n",
       "      <th>id_order</th>\n",
       "      <th>product_id</th>\n",
       "      <th>product_quantity</th>\n",
       "      <th>sku</th>\n",
       "      <th>unit_price</th>\n",
       "      <th>date</th>\n",
       "    </tr>\n",
       "  </thead>\n",
       "  <tbody>\n",
       "    <tr>\n",
       "      <th>291363</th>\n",
       "      <td>1645675</td>\n",
       "      <td>525235</td>\n",
       "      <td>0</td>\n",
       "      <td>1</td>\n",
       "      <td>DLL0056</td>\n",
       "      <td>259.99</td>\n",
       "      <td>2018-03-10 22:31:05</td>\n",
       "    </tr>\n",
       "    <tr>\n",
       "      <th>50438</th>\n",
       "      <td>1222221</td>\n",
       "      <td>343293</td>\n",
       "      <td>0</td>\n",
       "      <td>1</td>\n",
       "      <td>APP1814</td>\n",
       "      <td>2.029.99</td>\n",
       "      <td>2017-04-04 20:05:28</td>\n",
       "    </tr>\n",
       "    <tr>\n",
       "      <th>238217</th>\n",
       "      <td>1561026</td>\n",
       "      <td>491040</td>\n",
       "      <td>0</td>\n",
       "      <td>1</td>\n",
       "      <td>MMW0016</td>\n",
       "      <td>19.99</td>\n",
       "      <td>2018-01-15 09:15:52</td>\n",
       "    </tr>\n",
       "    <tr>\n",
       "      <th>213527</th>\n",
       "      <td>1517747</td>\n",
       "      <td>472813</td>\n",
       "      <td>0</td>\n",
       "      <td>1</td>\n",
       "      <td>APP2485</td>\n",
       "      <td>890.02</td>\n",
       "      <td>2017-12-27 00:52:39</td>\n",
       "    </tr>\n",
       "    <tr>\n",
       "      <th>103343</th>\n",
       "      <td>1315987</td>\n",
       "      <td>388493</td>\n",
       "      <td>0</td>\n",
       "      <td>1</td>\n",
       "      <td>TRK0011</td>\n",
       "      <td>49.99</td>\n",
       "      <td>2017-08-10 21:48:53</td>\n",
       "    </tr>\n",
       "    <tr>\n",
       "      <th>100254</th>\n",
       "      <td>1310596</td>\n",
       "      <td>385839</td>\n",
       "      <td>0</td>\n",
       "      <td>1</td>\n",
       "      <td>APP1662</td>\n",
       "      <td>660.33</td>\n",
       "      <td>2017-08-03 13:37:31</td>\n",
       "    </tr>\n",
       "    <tr>\n",
       "      <th>59037</th>\n",
       "      <td>1237065</td>\n",
       "      <td>350472</td>\n",
       "      <td>0</td>\n",
       "      <td>1</td>\n",
       "      <td>WAC0221</td>\n",
       "      <td>266.93</td>\n",
       "      <td>2017-04-27 19:00:43</td>\n",
       "    </tr>\n",
       "    <tr>\n",
       "      <th>40699</th>\n",
       "      <td>1204575</td>\n",
       "      <td>334968</td>\n",
       "      <td>0</td>\n",
       "      <td>1</td>\n",
       "      <td>ACM0009</td>\n",
       "      <td>23.99</td>\n",
       "      <td>2017-03-14 11:50:37</td>\n",
       "    </tr>\n",
       "    <tr>\n",
       "      <th>245178</th>\n",
       "      <td>1572682</td>\n",
       "      <td>495529</td>\n",
       "      <td>0</td>\n",
       "      <td>1</td>\n",
       "      <td>JYB0009</td>\n",
       "      <td>98.99</td>\n",
       "      <td>2018-01-21 17:11:48</td>\n",
       "    </tr>\n",
       "    <tr>\n",
       "      <th>97463</th>\n",
       "      <td>1305395</td>\n",
       "      <td>382497</td>\n",
       "      <td>0</td>\n",
       "      <td>1</td>\n",
       "      <td>WOE0008</td>\n",
       "      <td>8.99</td>\n",
       "      <td>2017-07-28 16:42:30</td>\n",
       "    </tr>\n",
       "  </tbody>\n",
       "</table>\n",
       "</div>\n",
       "      <button class=\"colab-df-convert\" onclick=\"convertToInteractive('df-20d8433c-6887-42e4-a1eb-6a931c7fe392')\"\n",
       "              title=\"Convert this dataframe to an interactive table.\"\n",
       "              style=\"display:none;\">\n",
       "        \n",
       "  <svg xmlns=\"http://www.w3.org/2000/svg\" height=\"24px\"viewBox=\"0 0 24 24\"\n",
       "       width=\"24px\">\n",
       "    <path d=\"M0 0h24v24H0V0z\" fill=\"none\"/>\n",
       "    <path d=\"M18.56 5.44l.94 2.06.94-2.06 2.06-.94-2.06-.94-.94-2.06-.94 2.06-2.06.94zm-11 1L8.5 8.5l.94-2.06 2.06-.94-2.06-.94L8.5 2.5l-.94 2.06-2.06.94zm10 10l.94 2.06.94-2.06 2.06-.94-2.06-.94-.94-2.06-.94 2.06-2.06.94z\"/><path d=\"M17.41 7.96l-1.37-1.37c-.4-.4-.92-.59-1.43-.59-.52 0-1.04.2-1.43.59L10.3 9.45l-7.72 7.72c-.78.78-.78 2.05 0 2.83L4 21.41c.39.39.9.59 1.41.59.51 0 1.02-.2 1.41-.59l7.78-7.78 2.81-2.81c.8-.78.8-2.07 0-2.86zM5.41 20L4 18.59l7.72-7.72 1.47 1.35L5.41 20z\"/>\n",
       "  </svg>\n",
       "      </button>\n",
       "      \n",
       "  <style>\n",
       "    .colab-df-container {\n",
       "      display:flex;\n",
       "      flex-wrap:wrap;\n",
       "      gap: 12px;\n",
       "    }\n",
       "\n",
       "    .colab-df-convert {\n",
       "      background-color: #E8F0FE;\n",
       "      border: none;\n",
       "      border-radius: 50%;\n",
       "      cursor: pointer;\n",
       "      display: none;\n",
       "      fill: #1967D2;\n",
       "      height: 32px;\n",
       "      padding: 0 0 0 0;\n",
       "      width: 32px;\n",
       "    }\n",
       "\n",
       "    .colab-df-convert:hover {\n",
       "      background-color: #E2EBFA;\n",
       "      box-shadow: 0px 1px 2px rgba(60, 64, 67, 0.3), 0px 1px 3px 1px rgba(60, 64, 67, 0.15);\n",
       "      fill: #174EA6;\n",
       "    }\n",
       "\n",
       "    [theme=dark] .colab-df-convert {\n",
       "      background-color: #3B4455;\n",
       "      fill: #D2E3FC;\n",
       "    }\n",
       "\n",
       "    [theme=dark] .colab-df-convert:hover {\n",
       "      background-color: #434B5C;\n",
       "      box-shadow: 0px 1px 3px 1px rgba(0, 0, 0, 0.15);\n",
       "      filter: drop-shadow(0px 1px 2px rgba(0, 0, 0, 0.3));\n",
       "      fill: #FFFFFF;\n",
       "    }\n",
       "  </style>\n",
       "\n",
       "      <script>\n",
       "        const buttonEl =\n",
       "          document.querySelector('#df-20d8433c-6887-42e4-a1eb-6a931c7fe392 button.colab-df-convert');\n",
       "        buttonEl.style.display =\n",
       "          google.colab.kernel.accessAllowed ? 'block' : 'none';\n",
       "\n",
       "        async function convertToInteractive(key) {\n",
       "          const element = document.querySelector('#df-20d8433c-6887-42e4-a1eb-6a931c7fe392');\n",
       "          const dataTable =\n",
       "            await google.colab.kernel.invokeFunction('convertToInteractive',\n",
       "                                                     [key], {});\n",
       "          if (!dataTable) return;\n",
       "\n",
       "          const docLinkHtml = 'Like what you see? Visit the ' +\n",
       "            '<a target=\"_blank\" href=https://colab.research.google.com/notebooks/data_table.ipynb>data table notebook</a>'\n",
       "            + ' to learn more about interactive tables.';\n",
       "          element.innerHTML = '';\n",
       "          dataTable['output_type'] = 'display_data';\n",
       "          await google.colab.output.renderOutput(dataTable, element);\n",
       "          const docLink = document.createElement('div');\n",
       "          docLink.innerHTML = docLinkHtml;\n",
       "          element.appendChild(docLink);\n",
       "        }\n",
       "      </script>\n",
       "    </div>\n",
       "  </div>\n",
       "  "
      ],
      "text/plain": [
       "             id  id_order  product_id  product_quantity      sku unit_price  \\\n",
       "291363  1645675    525235           0                 1  DLL0056     259.99   \n",
       "50438   1222221    343293           0                 1  APP1814   2.029.99   \n",
       "238217  1561026    491040           0                 1  MMW0016      19.99   \n",
       "213527  1517747    472813           0                 1  APP2485     890.02   \n",
       "103343  1315987    388493           0                 1  TRK0011      49.99   \n",
       "100254  1310596    385839           0                 1  APP1662     660.33   \n",
       "59037   1237065    350472           0                 1  WAC0221     266.93   \n",
       "40699   1204575    334968           0                 1  ACM0009      23.99   \n",
       "245178  1572682    495529           0                 1  JYB0009      98.99   \n",
       "97463   1305395    382497           0                 1  WOE0008       8.99   \n",
       "\n",
       "                       date  \n",
       "291363  2018-03-10 22:31:05  \n",
       "50438   2017-04-04 20:05:28  \n",
       "238217  2018-01-15 09:15:52  \n",
       "213527  2017-12-27 00:52:39  \n",
       "103343  2017-08-10 21:48:53  \n",
       "100254  2017-08-03 13:37:31  \n",
       "59037   2017-04-27 19:00:43  \n",
       "40699   2017-03-14 11:50:37  \n",
       "245178  2018-01-21 17:11:48  \n",
       "97463   2017-07-28 16:42:30  "
      ]
     },
     "execution_count": 13,
     "metadata": {},
     "output_type": "execute_result"
    }
   ],
   "source": [
    "# take a look at the dataset with random row\n",
    "orderlines.sample(10)"
   ]
  },
  {
   "cell_type": "markdown",
   "id": "zNo3Zps6PSXg",
   "metadata": {
    "id": "zNo3Zps6PSXg"
   },
   "source": [
    "We can see that there are prices with 2 decimal points"
   ]
  },
  {
   "cell_type": "markdown",
   "id": "w5PYjHADwcZW",
   "metadata": {
    "id": "w5PYjHADwcZW"
   },
   "source": [
    "## 3.1 Decimal point problem in unit_price"
   ]
  },
  {
   "cell_type": "markdown",
   "id": "2mIc7YWdva5I",
   "metadata": {
    "id": "2mIc7YWdva5I"
   },
   "source": [
    "\n",
    "First, let's see how many values are affected by the 2 decimal point in price."
   ]
  },
  {
   "cell_type": "code",
   "execution_count": null,
   "id": "zmSPrcYAwLnZ",
   "metadata": {
    "colab": {
     "base_uri": "https://localhost:8080/"
    },
    "executionInfo": {
     "elapsed": 3,
     "status": "ok",
     "timestamp": 1675964138520,
     "user": {
      "displayName": "Crystal",
      "userId": "14619037572832113319"
     },
     "user_tz": -60
    },
    "id": "zmSPrcYAwLnZ",
    "outputId": "d68f6449-d8bc-4a78-951b-0c90b7c0e9d9"
   },
   "outputs": [
    {
     "data": {
      "text/plain": [
       "False    257814\n",
       "True      36169\n",
       "Name: unit_price, dtype: int64"
      ]
     },
     "execution_count": 15,
     "metadata": {},
     "output_type": "execute_result"
    }
   ],
   "source": [
    "orderlines.unit_price.str.contains(\"\\d+\\.\\d+\\.\\d+\").value_counts()"
   ]
  },
  {
   "cell_type": "code",
   "execution_count": 4,
   "id": "PqJ2p3SzxvDW",
   "metadata": {
    "colab": {
     "base_uri": "https://localhost:8080/"
    },
    "executionInfo": {
     "elapsed": 839,
     "status": "ok",
     "timestamp": 1676291804596,
     "user": {
      "displayName": "Crystal",
      "userId": "14619037572832113319"
     },
     "user_tz": -60
    },
    "id": "PqJ2p3SzxvDW",
    "outputId": "2ab44d76-5872-4182-f9f0-799a0772162f"
   },
   "outputs": [
    {
     "data": {
      "text/plain": [
       "False    257814\n",
       "True      36169\n",
       "Name: unit_price, dtype: int64"
      ]
     },
     "execution_count": 4,
     "metadata": {},
     "output_type": "execute_result"
    }
   ],
   "source": [
    "orderlines.unit_price.str.contains(\"\\d+\\.\\d+\\.\\d+\").value_counts()"
   ]
  },
  {
   "cell_type": "code",
   "execution_count": 3,
   "id": "mF9y49qexTOK",
   "metadata": {
    "colab": {
     "base_uri": "https://localhost:8080/"
    },
    "executionInfo": {
     "elapsed": 1173,
     "status": "ok",
     "timestamp": 1676291696495,
     "user": {
      "displayName": "Crystal",
      "userId": "14619037572832113319"
     },
     "user_tz": -60
    },
    "id": "mF9y49qexTOK",
    "outputId": "9a1dd72d-8c55-4aa7-ac3e-83b87351394a"
   },
   "outputs": [
    {
     "data": {
      "text/plain": [
       "False    257814\n",
       "True      36169\n",
       "Name: unit_price, dtype: int64"
      ]
     },
     "execution_count": 3,
     "metadata": {},
     "output_type": "execute_result"
    }
   ],
   "source": [
    "orderlines.unit_price.str.contains(\"\\d+\\.\\d{3,}\").value_counts()"
   ]
  },
  {
   "cell_type": "markdown",
   "id": "10YadtPY0MBr",
   "metadata": {
    "id": "10YadtPY0MBr"
   },
   "source": [
    "Looks like over 36000 rows in orderlines are affected by this problem. This is a bit of a tricky decision as 12.3% is a significant amount of our data... and we might even end up losing a larger portion of our data than this too. For the moment we will delete the rows as we only have 2 weeks for this project and I'd like some quick, accurate results to show. If we have time at the end, we can come back and investigate this problem further, maybe there's a solution?\n",
    "\n",
    "Each row of orderlines represents a product in an order. For example, if order number 175 contained 3 seperate products, then order 175 would have 3 rows in orderlines, one row for each of the products. If 2 of those products have 'normal' prices (14.99, 15.85) and 1 has a price with 2 decimal points (1.137.99), we need to remove the whole order and not just the affected row. If we only remove the row with 2 decimal places then any later analysis about products and prices could be misleading.\n",
    "\n",
    "We therefore need to find the order numbers associated with the rows that have 2 decimal points, and then remove all the associated rows."
   ]
  },
  {
   "cell_type": "code",
   "execution_count": 5,
   "id": "YltaWXy0x97q",
   "metadata": {
    "executionInfo": {
     "elapsed": 862,
     "status": "ok",
     "timestamp": 1676291882310,
     "user": {
      "displayName": "Crystal",
      "userId": "14619037572832113319"
     },
     "user_tz": -60
    },
    "id": "YltaWXy0x97q"
   },
   "outputs": [],
   "source": [
    "orderlines = orderlines.loc[(~orderlines.unit_price.astype(str).str.contains(\"\\d+\\.\\d+\\.\\d+\"))&(~orderlines.unit_price.astype(str).str.contains(\"\\d+\\.\\d{3,}\")), :]"
   ]
  },
  {
   "cell_type": "code",
   "execution_count": null,
   "id": "AusrlnWk1Kso",
   "metadata": {
    "id": "AusrlnWk1Kso"
   },
   "outputs": [],
   "source": [
    "orderlines = orderlines.loc[~orderlines.unit_price.astype(str).str.contains(\"\\d+\\.\\d+\\.\\d+\")]"
   ]
  },
  {
   "cell_type": "code",
   "execution_count": 6,
   "id": "Xe60LFeF1Xw2",
   "metadata": {
    "colab": {
     "base_uri": "https://localhost:8080/"
    },
    "executionInfo": {
     "elapsed": 579,
     "status": "ok",
     "timestamp": 1676291887785,
     "user": {
      "displayName": "Crystal",
      "userId": "14619037572832113319"
     },
     "user_tz": -60
    },
    "id": "Xe60LFeF1Xw2",
    "outputId": "201d005d-e56e-4663-fe18-9f0e602af087"
   },
   "outputs": [
    {
     "data": {
      "text/plain": [
       "False    257814\n",
       "Name: unit_price, dtype: int64"
      ]
     },
     "execution_count": 6,
     "metadata": {},
     "output_type": "execute_result"
    }
   ],
   "source": [
    "# verify if above code is successfully executed, true are gone\n",
    "orderlines.unit_price.str.contains(\"\\d+\\.\\d+\\.\\d+\").value_counts()"
   ]
  },
  {
   "cell_type": "code",
   "execution_count": 7,
   "id": "YbkyH6UbyJ0l",
   "metadata": {
    "colab": {
     "base_uri": "https://localhost:8080/"
    },
    "executionInfo": {
     "elapsed": 520,
     "status": "ok",
     "timestamp": 1676291912990,
     "user": {
      "displayName": "Crystal",
      "userId": "14619037572832113319"
     },
     "user_tz": -60
    },
    "id": "YbkyH6UbyJ0l",
    "outputId": "5ec4455b-481d-4381-ae2b-f98305df1938"
   },
   "outputs": [
    {
     "data": {
      "text/plain": [
       "False    257814\n",
       "Name: unit_price, dtype: int64"
      ]
     },
     "execution_count": 7,
     "metadata": {},
     "output_type": "execute_result"
    }
   ],
   "source": [
    "orderlines.unit_price.str.contains(\"\\d+\\.\\d{3,}\").value_counts()"
   ]
  },
  {
   "cell_type": "markdown",
   "id": "If87DzUE_qIq",
   "metadata": {
    "id": "If87DzUE_qIq"
   },
   "source": [
    "## 3.2 Change object to integer in unit_price"
   ]
  },
  {
   "cell_type": "code",
   "execution_count": 8,
   "id": "bfpwpOSX_p2L",
   "metadata": {
    "executionInfo": {
     "elapsed": 225,
     "status": "ok",
     "timestamp": 1676291924924,
     "user": {
      "displayName": "Crystal",
      "userId": "14619037572832113319"
     },
     "user_tz": -60
    },
    "id": "bfpwpOSX_p2L"
   },
   "outputs": [],
   "source": [
    "orderlines['unit_price'] = pd.to_numeric(orderlines['unit_price'])"
   ]
  },
  {
   "cell_type": "code",
   "execution_count": 9,
   "id": "Lb6jF-Ia6Odg",
   "metadata": {
    "colab": {
     "base_uri": "https://localhost:8080/"
    },
    "executionInfo": {
     "elapsed": 394,
     "status": "ok",
     "timestamp": 1676291927224,
     "user": {
      "displayName": "Crystal",
      "userId": "14619037572832113319"
     },
     "user_tz": -60
    },
    "id": "Lb6jF-Ia6Odg",
    "outputId": "41b67b80-1eda-4bd4-8c16-d67ad7addf6d"
   },
   "outputs": [
    {
     "name": "stdout",
     "output_type": "stream",
     "text": [
      "<class 'pandas.core.frame.DataFrame'>\n",
      "Int64Index: 257814 entries, 0 to 293982\n",
      "Data columns (total 7 columns):\n",
      " #   Column            Non-Null Count   Dtype  \n",
      "---  ------            --------------   -----  \n",
      " 0   id                257814 non-null  int64  \n",
      " 1   id_order          257814 non-null  int64  \n",
      " 2   product_id        257814 non-null  int64  \n",
      " 3   product_quantity  257814 non-null  int64  \n",
      " 4   sku               257814 non-null  object \n",
      " 5   unit_price        257814 non-null  float64\n",
      " 6   date              257814 non-null  object \n",
      "dtypes: float64(1), int64(4), object(2)\n",
      "memory usage: 15.7+ MB\n"
     ]
    }
   ],
   "source": [
    "orderlines.info()"
   ]
  },
  {
   "cell_type": "markdown",
   "id": "vtp2MbO09jT1",
   "metadata": {
    "id": "vtp2MbO09jT1"
   },
   "source": [
    "## 3.3 `date` should become datetime datatype"
   ]
  },
  {
   "cell_type": "code",
   "execution_count": null,
   "id": "vI4ueHibtK1P",
   "metadata": {
    "id": "vI4ueHibtK1P"
   },
   "outputs": [],
   "source": [
    "orderlines[\"date\"] = pd.to_datetime(orderlines[\"date\"])"
   ]
  },
  {
   "cell_type": "code",
   "execution_count": null,
   "id": "J7j-1hvwRm4q",
   "metadata": {
    "colab": {
     "base_uri": "https://localhost:8080/"
    },
    "executionInfo": {
     "elapsed": 964,
     "status": "ok",
     "timestamp": 1675964612419,
     "user": {
      "displayName": "Crystal",
      "userId": "14619037572832113319"
     },
     "user_tz": -60
    },
    "id": "J7j-1hvwRm4q",
    "outputId": "9db634b5-c3d8-4d23-d7c4-476ae5c71525"
   },
   "outputs": [
    {
     "name": "stdout",
     "output_type": "stream",
     "text": [
      "<class 'pandas.core.frame.DataFrame'>\n",
      "Int64Index: 257814 entries, 0 to 293982\n",
      "Data columns (total 7 columns):\n",
      " #   Column            Non-Null Count   Dtype         \n",
      "---  ------            --------------   -----         \n",
      " 0   id                257814 non-null  int64         \n",
      " 1   id_order          257814 non-null  int64         \n",
      " 2   product_id        257814 non-null  int64         \n",
      " 3   product_quantity  257814 non-null  int64         \n",
      " 4   sku               257814 non-null  object        \n",
      " 5   unit_price        257814 non-null  float64       \n",
      " 6   date              257814 non-null  datetime64[ns]\n",
      "dtypes: datetime64[ns](1), float64(1), int64(4), object(1)\n",
      "memory usage: 15.7+ MB\n"
     ]
    }
   ],
   "source": [
    "orderlines.info()"
   ]
  },
  {
   "cell_type": "code",
   "execution_count": null,
   "id": "PFIRXpCFRyjy",
   "metadata": {
    "id": "PFIRXpCFRyjy"
   },
   "outputs": [],
   "source": [
    "orderlines_cl=orderlines"
   ]
  },
  {
   "cell_type": "code",
   "execution_count": null,
   "id": "BJqMsFIn3G1K",
   "metadata": {
    "colab": {
     "base_uri": "https://localhost:8080/",
     "height": 206
    },
    "executionInfo": {
     "elapsed": 8,
     "status": "ok",
     "timestamp": 1675964741347,
     "user": {
      "displayName": "Crystal",
      "userId": "14619037572832113319"
     },
     "user_tz": -60
    },
    "id": "BJqMsFIn3G1K",
    "outputId": "3449253c-0d32-4de9-e545-76d8e3a1d508"
   },
   "outputs": [
    {
     "data": {
      "text/html": [
       "\n",
       "  <div id=\"df-9b419edc-f772-4394-88f6-d960095e9279\">\n",
       "    <div class=\"colab-df-container\">\n",
       "      <div>\n",
       "<style scoped>\n",
       "    .dataframe tbody tr th:only-of-type {\n",
       "        vertical-align: middle;\n",
       "    }\n",
       "\n",
       "    .dataframe tbody tr th {\n",
       "        vertical-align: top;\n",
       "    }\n",
       "\n",
       "    .dataframe thead th {\n",
       "        text-align: right;\n",
       "    }\n",
       "</style>\n",
       "<table border=\"1\" class=\"dataframe\">\n",
       "  <thead>\n",
       "    <tr style=\"text-align: right;\">\n",
       "      <th></th>\n",
       "      <th>id</th>\n",
       "      <th>id_order</th>\n",
       "      <th>product_id</th>\n",
       "      <th>product_quantity</th>\n",
       "      <th>sku</th>\n",
       "      <th>unit_price</th>\n",
       "      <th>date</th>\n",
       "    </tr>\n",
       "  </thead>\n",
       "  <tbody>\n",
       "    <tr>\n",
       "      <th>41728</th>\n",
       "      <td>1206437</td>\n",
       "      <td>335869</td>\n",
       "      <td>0</td>\n",
       "      <td>1</td>\n",
       "      <td>PAC1428</td>\n",
       "      <td>999.99</td>\n",
       "      <td>2017-03-16 16:56:58</td>\n",
       "    </tr>\n",
       "    <tr>\n",
       "      <th>43442</th>\n",
       "      <td>1209508</td>\n",
       "      <td>337333</td>\n",
       "      <td>0</td>\n",
       "      <td>1</td>\n",
       "      <td>DLL0044</td>\n",
       "      <td>999.99</td>\n",
       "      <td>2017-03-21 10:20:49</td>\n",
       "    </tr>\n",
       "    <tr>\n",
       "      <th>43450</th>\n",
       "      <td>1209521</td>\n",
       "      <td>337340</td>\n",
       "      <td>0</td>\n",
       "      <td>1</td>\n",
       "      <td>DLL0044</td>\n",
       "      <td>999.99</td>\n",
       "      <td>2017-03-21 10:33:30</td>\n",
       "    </tr>\n",
       "    <tr>\n",
       "      <th>43711</th>\n",
       "      <td>1209994</td>\n",
       "      <td>337551</td>\n",
       "      <td>0</td>\n",
       "      <td>1</td>\n",
       "      <td>DLL0044</td>\n",
       "      <td>999.99</td>\n",
       "      <td>2017-03-21 18:20:18</td>\n",
       "    </tr>\n",
       "    <tr>\n",
       "      <th>44523</th>\n",
       "      <td>1211462</td>\n",
       "      <td>338225</td>\n",
       "      <td>0</td>\n",
       "      <td>1</td>\n",
       "      <td>DLL0044</td>\n",
       "      <td>999.99</td>\n",
       "      <td>2017-03-23 13:34:00</td>\n",
       "    </tr>\n",
       "  </tbody>\n",
       "</table>\n",
       "</div>\n",
       "      <button class=\"colab-df-convert\" onclick=\"convertToInteractive('df-9b419edc-f772-4394-88f6-d960095e9279')\"\n",
       "              title=\"Convert this dataframe to an interactive table.\"\n",
       "              style=\"display:none;\">\n",
       "        \n",
       "  <svg xmlns=\"http://www.w3.org/2000/svg\" height=\"24px\"viewBox=\"0 0 24 24\"\n",
       "       width=\"24px\">\n",
       "    <path d=\"M0 0h24v24H0V0z\" fill=\"none\"/>\n",
       "    <path d=\"M18.56 5.44l.94 2.06.94-2.06 2.06-.94-2.06-.94-.94-2.06-.94 2.06-2.06.94zm-11 1L8.5 8.5l.94-2.06 2.06-.94-2.06-.94L8.5 2.5l-.94 2.06-2.06.94zm10 10l.94 2.06.94-2.06 2.06-.94-2.06-.94-.94-2.06-.94 2.06-2.06.94z\"/><path d=\"M17.41 7.96l-1.37-1.37c-.4-.4-.92-.59-1.43-.59-.52 0-1.04.2-1.43.59L10.3 9.45l-7.72 7.72c-.78.78-.78 2.05 0 2.83L4 21.41c.39.39.9.59 1.41.59.51 0 1.02-.2 1.41-.59l7.78-7.78 2.81-2.81c.8-.78.8-2.07 0-2.86zM5.41 20L4 18.59l7.72-7.72 1.47 1.35L5.41 20z\"/>\n",
       "  </svg>\n",
       "      </button>\n",
       "      \n",
       "  <style>\n",
       "    .colab-df-container {\n",
       "      display:flex;\n",
       "      flex-wrap:wrap;\n",
       "      gap: 12px;\n",
       "    }\n",
       "\n",
       "    .colab-df-convert {\n",
       "      background-color: #E8F0FE;\n",
       "      border: none;\n",
       "      border-radius: 50%;\n",
       "      cursor: pointer;\n",
       "      display: none;\n",
       "      fill: #1967D2;\n",
       "      height: 32px;\n",
       "      padding: 0 0 0 0;\n",
       "      width: 32px;\n",
       "    }\n",
       "\n",
       "    .colab-df-convert:hover {\n",
       "      background-color: #E2EBFA;\n",
       "      box-shadow: 0px 1px 2px rgba(60, 64, 67, 0.3), 0px 1px 3px 1px rgba(60, 64, 67, 0.15);\n",
       "      fill: #174EA6;\n",
       "    }\n",
       "\n",
       "    [theme=dark] .colab-df-convert {\n",
       "      background-color: #3B4455;\n",
       "      fill: #D2E3FC;\n",
       "    }\n",
       "\n",
       "    [theme=dark] .colab-df-convert:hover {\n",
       "      background-color: #434B5C;\n",
       "      box-shadow: 0px 1px 3px 1px rgba(0, 0, 0, 0.15);\n",
       "      filter: drop-shadow(0px 1px 2px rgba(0, 0, 0, 0.3));\n",
       "      fill: #FFFFFF;\n",
       "    }\n",
       "  </style>\n",
       "\n",
       "      <script>\n",
       "        const buttonEl =\n",
       "          document.querySelector('#df-9b419edc-f772-4394-88f6-d960095e9279 button.colab-df-convert');\n",
       "        buttonEl.style.display =\n",
       "          google.colab.kernel.accessAllowed ? 'block' : 'none';\n",
       "\n",
       "        async function convertToInteractive(key) {\n",
       "          const element = document.querySelector('#df-9b419edc-f772-4394-88f6-d960095e9279');\n",
       "          const dataTable =\n",
       "            await google.colab.kernel.invokeFunction('convertToInteractive',\n",
       "                                                     [key], {});\n",
       "          if (!dataTable) return;\n",
       "\n",
       "          const docLinkHtml = 'Like what you see? Visit the ' +\n",
       "            '<a target=\"_blank\" href=https://colab.research.google.com/notebooks/data_table.ipynb>data table notebook</a>'\n",
       "            + ' to learn more about interactive tables.';\n",
       "          element.innerHTML = '';\n",
       "          dataTable['output_type'] = 'display_data';\n",
       "          await google.colab.output.renderOutput(dataTable, element);\n",
       "          const docLink = document.createElement('div');\n",
       "          docLink.innerHTML = docLinkHtml;\n",
       "          element.appendChild(docLink);\n",
       "        }\n",
       "      </script>\n",
       "    </div>\n",
       "  </div>\n",
       "  "
      ],
      "text/plain": [
       "            id  id_order  product_id  product_quantity      sku  unit_price  \\\n",
       "41728  1206437    335869           0                 1  PAC1428      999.99   \n",
       "43442  1209508    337333           0                 1  DLL0044      999.99   \n",
       "43450  1209521    337340           0                 1  DLL0044      999.99   \n",
       "43711  1209994    337551           0                 1  DLL0044      999.99   \n",
       "44523  1211462    338225           0                 1  DLL0044      999.99   \n",
       "\n",
       "                     date  \n",
       "41728 2017-03-16 16:56:58  \n",
       "43442 2017-03-21 10:20:49  \n",
       "43450 2017-03-21 10:33:30  \n",
       "43711 2017-03-21 18:20:18  \n",
       "44523 2017-03-23 13:34:00  "
      ]
     },
     "execution_count": 29,
     "metadata": {},
     "output_type": "execute_result"
    }
   ],
   "source": [
    "orderlines_cl.nlargest(5, \"unit_price\")"
   ]
  },
  {
   "cell_type": "code",
   "execution_count": null,
   "id": "MskkIhU_3G1L",
   "metadata": {
    "colab": {
     "base_uri": "https://localhost:8080/",
     "height": 206
    },
    "executionInfo": {
     "elapsed": 5,
     "status": "ok",
     "timestamp": 1675964749826,
     "user": {
      "displayName": "Crystal",
      "userId": "14619037572832113319"
     },
     "user_tz": -60
    },
    "id": "MskkIhU_3G1L",
    "outputId": "f9b646dd-57c6-4632-da41-995a6163aa8d"
   },
   "outputs": [
    {
     "data": {
      "text/html": [
       "\n",
       "  <div id=\"df-7533db51-a61b-4470-bdb8-53542a37c2bc\">\n",
       "    <div class=\"colab-df-container\">\n",
       "      <div>\n",
       "<style scoped>\n",
       "    .dataframe tbody tr th:only-of-type {\n",
       "        vertical-align: middle;\n",
       "    }\n",
       "\n",
       "    .dataframe tbody tr th {\n",
       "        vertical-align: top;\n",
       "    }\n",
       "\n",
       "    .dataframe thead th {\n",
       "        text-align: right;\n",
       "    }\n",
       "</style>\n",
       "<table border=\"1\" class=\"dataframe\">\n",
       "  <thead>\n",
       "    <tr style=\"text-align: right;\">\n",
       "      <th></th>\n",
       "      <th>id</th>\n",
       "      <th>id_order</th>\n",
       "      <th>product_id</th>\n",
       "      <th>product_quantity</th>\n",
       "      <th>sku</th>\n",
       "      <th>unit_price</th>\n",
       "      <th>date</th>\n",
       "    </tr>\n",
       "  </thead>\n",
       "  <tbody>\n",
       "    <tr>\n",
       "      <th>77008</th>\n",
       "      <td>1268645</td>\n",
       "      <td>365886</td>\n",
       "      <td>0</td>\n",
       "      <td>1</td>\n",
       "      <td>APP1465</td>\n",
       "      <td>-119.0</td>\n",
       "      <td>2017-06-15 12:48:54</td>\n",
       "    </tr>\n",
       "    <tr>\n",
       "      <th>53515</th>\n",
       "      <td>1227566</td>\n",
       "      <td>345934</td>\n",
       "      <td>0</td>\n",
       "      <td>1</td>\n",
       "      <td>KIN0153-2</td>\n",
       "      <td>0.0</td>\n",
       "      <td>2017-04-13 13:47:21</td>\n",
       "    </tr>\n",
       "    <tr>\n",
       "      <th>53530</th>\n",
       "      <td>1227590</td>\n",
       "      <td>345957</td>\n",
       "      <td>0</td>\n",
       "      <td>1</td>\n",
       "      <td>WDT0347</td>\n",
       "      <td>0.0</td>\n",
       "      <td>2017-04-13 14:44:05</td>\n",
       "    </tr>\n",
       "    <tr>\n",
       "      <th>56529</th>\n",
       "      <td>1232832</td>\n",
       "      <td>348502</td>\n",
       "      <td>0</td>\n",
       "      <td>1</td>\n",
       "      <td>LIBRO</td>\n",
       "      <td>0.0</td>\n",
       "      <td>2017-04-21 18:14:54</td>\n",
       "    </tr>\n",
       "    <tr>\n",
       "      <th>56562</th>\n",
       "      <td>1232888</td>\n",
       "      <td>348531</td>\n",
       "      <td>0</td>\n",
       "      <td>1</td>\n",
       "      <td>LIBRO</td>\n",
       "      <td>0.0</td>\n",
       "      <td>2017-04-21 19:46:54</td>\n",
       "    </tr>\n",
       "  </tbody>\n",
       "</table>\n",
       "</div>\n",
       "      <button class=\"colab-df-convert\" onclick=\"convertToInteractive('df-7533db51-a61b-4470-bdb8-53542a37c2bc')\"\n",
       "              title=\"Convert this dataframe to an interactive table.\"\n",
       "              style=\"display:none;\">\n",
       "        \n",
       "  <svg xmlns=\"http://www.w3.org/2000/svg\" height=\"24px\"viewBox=\"0 0 24 24\"\n",
       "       width=\"24px\">\n",
       "    <path d=\"M0 0h24v24H0V0z\" fill=\"none\"/>\n",
       "    <path d=\"M18.56 5.44l.94 2.06.94-2.06 2.06-.94-2.06-.94-.94-2.06-.94 2.06-2.06.94zm-11 1L8.5 8.5l.94-2.06 2.06-.94-2.06-.94L8.5 2.5l-.94 2.06-2.06.94zm10 10l.94 2.06.94-2.06 2.06-.94-2.06-.94-.94-2.06-.94 2.06-2.06.94z\"/><path d=\"M17.41 7.96l-1.37-1.37c-.4-.4-.92-.59-1.43-.59-.52 0-1.04.2-1.43.59L10.3 9.45l-7.72 7.72c-.78.78-.78 2.05 0 2.83L4 21.41c.39.39.9.59 1.41.59.51 0 1.02-.2 1.41-.59l7.78-7.78 2.81-2.81c.8-.78.8-2.07 0-2.86zM5.41 20L4 18.59l7.72-7.72 1.47 1.35L5.41 20z\"/>\n",
       "  </svg>\n",
       "      </button>\n",
       "      \n",
       "  <style>\n",
       "    .colab-df-container {\n",
       "      display:flex;\n",
       "      flex-wrap:wrap;\n",
       "      gap: 12px;\n",
       "    }\n",
       "\n",
       "    .colab-df-convert {\n",
       "      background-color: #E8F0FE;\n",
       "      border: none;\n",
       "      border-radius: 50%;\n",
       "      cursor: pointer;\n",
       "      display: none;\n",
       "      fill: #1967D2;\n",
       "      height: 32px;\n",
       "      padding: 0 0 0 0;\n",
       "      width: 32px;\n",
       "    }\n",
       "\n",
       "    .colab-df-convert:hover {\n",
       "      background-color: #E2EBFA;\n",
       "      box-shadow: 0px 1px 2px rgba(60, 64, 67, 0.3), 0px 1px 3px 1px rgba(60, 64, 67, 0.15);\n",
       "      fill: #174EA6;\n",
       "    }\n",
       "\n",
       "    [theme=dark] .colab-df-convert {\n",
       "      background-color: #3B4455;\n",
       "      fill: #D2E3FC;\n",
       "    }\n",
       "\n",
       "    [theme=dark] .colab-df-convert:hover {\n",
       "      background-color: #434B5C;\n",
       "      box-shadow: 0px 1px 3px 1px rgba(0, 0, 0, 0.15);\n",
       "      filter: drop-shadow(0px 1px 2px rgba(0, 0, 0, 0.3));\n",
       "      fill: #FFFFFF;\n",
       "    }\n",
       "  </style>\n",
       "\n",
       "      <script>\n",
       "        const buttonEl =\n",
       "          document.querySelector('#df-7533db51-a61b-4470-bdb8-53542a37c2bc button.colab-df-convert');\n",
       "        buttonEl.style.display =\n",
       "          google.colab.kernel.accessAllowed ? 'block' : 'none';\n",
       "\n",
       "        async function convertToInteractive(key) {\n",
       "          const element = document.querySelector('#df-7533db51-a61b-4470-bdb8-53542a37c2bc');\n",
       "          const dataTable =\n",
       "            await google.colab.kernel.invokeFunction('convertToInteractive',\n",
       "                                                     [key], {});\n",
       "          if (!dataTable) return;\n",
       "\n",
       "          const docLinkHtml = 'Like what you see? Visit the ' +\n",
       "            '<a target=\"_blank\" href=https://colab.research.google.com/notebooks/data_table.ipynb>data table notebook</a>'\n",
       "            + ' to learn more about interactive tables.';\n",
       "          element.innerHTML = '';\n",
       "          dataTable['output_type'] = 'display_data';\n",
       "          await google.colab.output.renderOutput(dataTable, element);\n",
       "          const docLink = document.createElement('div');\n",
       "          docLink.innerHTML = docLinkHtml;\n",
       "          element.appendChild(docLink);\n",
       "        }\n",
       "      </script>\n",
       "    </div>\n",
       "  </div>\n",
       "  "
      ],
      "text/plain": [
       "            id  id_order  product_id  product_quantity        sku  unit_price  \\\n",
       "77008  1268645    365886           0                 1    APP1465      -119.0   \n",
       "53515  1227566    345934           0                 1  KIN0153-2         0.0   \n",
       "53530  1227590    345957           0                 1    WDT0347         0.0   \n",
       "56529  1232832    348502           0                 1      LIBRO         0.0   \n",
       "56562  1232888    348531           0                 1      LIBRO         0.0   \n",
       "\n",
       "                     date  \n",
       "77008 2017-06-15 12:48:54  \n",
       "53515 2017-04-13 13:47:21  \n",
       "53530 2017-04-13 14:44:05  \n",
       "56529 2017-04-21 18:14:54  \n",
       "56562 2017-04-21 19:46:54  "
      ]
     },
     "execution_count": 30,
     "metadata": {},
     "output_type": "execute_result"
    }
   ],
   "source": [
    "orderlines_cl.nsmallest(5, \"unit_price\")"
   ]
  },
  {
   "cell_type": "markdown",
   "id": "wlpczyB-CPH9",
   "metadata": {
    "id": "wlpczyB-CPH9"
   },
   "source": [
    "Don't forget to download/save your new DataFrames. Also, give them an obvious name, so that you know they are the cleaned version and not the original DataFrame."
   ]
  },
  {
   "cell_type": "code",
   "execution_count": null,
   "id": "z7prVCC0XFuQ",
   "metadata": {
    "colab": {
     "base_uri": "https://localhost:8080/",
     "height": 34
    },
    "executionInfo": {
     "elapsed": 2504,
     "status": "ok",
     "timestamp": 1675964767510,
     "user": {
      "displayName": "Crystal",
      "userId": "14619037572832113319"
     },
     "user_tz": -60
    },
    "id": "z7prVCC0XFuQ",
    "outputId": "6e911352-556a-4923-aab0-dcec29031df9"
   },
   "outputs": [
    {
     "data": {
      "application/javascript": [
       "\n",
       "    async function download(id, filename, size) {\n",
       "      if (!google.colab.kernel.accessAllowed) {\n",
       "        return;\n",
       "      }\n",
       "      const div = document.createElement('div');\n",
       "      const label = document.createElement('label');\n",
       "      label.textContent = `Downloading \"${filename}\": `;\n",
       "      div.appendChild(label);\n",
       "      const progress = document.createElement('progress');\n",
       "      progress.max = size;\n",
       "      div.appendChild(progress);\n",
       "      document.body.appendChild(div);\n",
       "\n",
       "      const buffers = [];\n",
       "      let downloaded = 0;\n",
       "\n",
       "      const channel = await google.colab.kernel.comms.open(id);\n",
       "      // Send a message to notify the kernel that we're ready.\n",
       "      channel.send({})\n",
       "\n",
       "      for await (const message of channel.messages) {\n",
       "        // Send a message to notify the kernel that we're ready.\n",
       "        channel.send({})\n",
       "        if (message.buffers) {\n",
       "          for (const buffer of message.buffers) {\n",
       "            buffers.push(buffer);\n",
       "            downloaded += buffer.byteLength;\n",
       "            progress.value = downloaded;\n",
       "          }\n",
       "        }\n",
       "      }\n",
       "      const blob = new Blob(buffers, {type: 'application/binary'});\n",
       "      const a = document.createElement('a');\n",
       "      a.href = window.URL.createObjectURL(blob);\n",
       "      a.download = filename;\n",
       "      div.appendChild(a);\n",
       "      a.click();\n",
       "      div.remove();\n",
       "    }\n",
       "  "
      ],
      "text/plain": [
       "<IPython.core.display.Javascript object>"
      ]
     },
     "metadata": {},
     "output_type": "display_data"
    },
    {
     "data": {
      "application/javascript": [
       "download(\"download_3042dcab-fb8b-4958-a9d5-5b0914c2c7bd\", \"orderlines_cl.csv\", 13719387)"
      ],
      "text/plain": [
       "<IPython.core.display.Javascript object>"
      ]
     },
     "metadata": {},
     "output_type": "display_data"
    }
   ],
   "source": [
    "from google.colab import files\n",
    "orderlines_cl.to_csv(\"orderlines_cl.csv\", index=False)\n",
    "files.download(\"orderlines_cl.csv\")"
   ]
  },
  {
   "cell_type": "code",
   "execution_count": null,
   "id": "YXlLQMZYCTr-",
   "metadata": {
    "id": "YXlLQMZYCTr-"
   },
   "outputs": [],
   "source": []
  }
 ],
 "metadata": {
  "colab": {
   "provenance": [
    {
     "file_id": "1yha4wb3hywOsU6rjrfQRO3VGEvWBJtjQ",
     "timestamp": 1675848174647
    },
    {
     "file_id": "1hFHSEy_blfgjYkBcOjdoIypFvtKvK_NP",
     "timestamp": 1661242512128
    },
    {
     "file_id": "1fyzS1d-AnL48uaXyCfIUF_0WdBZkckDd",
     "timestamp": 1658822216180
    }
   ],
   "toc_visible": true
  },
  "kernelspec": {
   "display_name": "Python 3 (ipykernel)",
   "language": "python",
   "name": "python3"
  },
  "language_info": {
   "codemirror_mode": {
    "name": "ipython",
    "version": 3
   },
   "file_extension": ".py",
   "mimetype": "text/x-python",
   "name": "python",
   "nbconvert_exporter": "python",
   "pygments_lexer": "ipython3",
   "version": "3.9.16"
  }
 },
 "nbformat": 4,
 "nbformat_minor": 5
}
