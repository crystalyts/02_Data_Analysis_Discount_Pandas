{
 "cells": [
  {
   "cell_type": "code",
   "execution_count": 1,
   "id": "-TpFexIq3G1B",
   "metadata": {
    "id": "-TpFexIq3G1B"
   },
   "outputs": [],
   "source": [
    "import pandas as pd"
   ]
  },
  {
   "cell_type": "markdown",
   "id": "dxOHIz6E3G1F",
   "metadata": {
    "id": "dxOHIz6E3G1F"
   },
   "source": [
    "# 1.&nbsp; Import a csv file to DataFrame\n"
   ]
  },
  {
   "cell_type": "code",
   "execution_count": 11,
   "id": "jy28BixO3G1G",
   "metadata": {
    "id": "jy28BixO3G1G"
   },
   "outputs": [],
   "source": [
    "url = \"https://drive.google.com/file/d/1afxwDXfl-7cQ_qLwyDitfcCx3u7WMvkU/view?usp=share_link\" # products.csv\n",
    "path = \"https://drive.google.com/uc?export=download&id=\"+url.split(\"/\")[-2]\n",
    "products = pd.read_csv(path)"
   ]
  },
  {
   "cell_type": "code",
   "execution_count": 3,
   "id": "z8uN8_hmr-h3",
   "metadata": {
    "id": "z8uN8_hmr-h3"
   },
   "outputs": [],
   "source": [
    "pd.options.display.max_rows = 10"
   ]
  },
  {
   "cell_type": "markdown",
   "id": "47025963-9023-4385-9873-c747ed65d235",
   "metadata": {
    "tags": []
   },
   "source": [
    "### 1.1. &nbsp; Check .info() \n",
    ".shape() and .info() and .duplicated().sum() and .isna().sum()"
   ]
  },
  {
   "cell_type": "code",
   "execution_count": 4,
   "id": "unheSxiCq-tv",
   "metadata": {
    "colab": {
     "base_uri": "https://localhost:8080/"
    },
    "executionInfo": {
     "elapsed": 313,
     "status": "ok",
     "timestamp": 1675954490596,
     "user": {
      "displayName": "Crystal",
      "userId": "14619037572832113319"
     },
     "user_tz": -60
    },
    "id": "unheSxiCq-tv",
    "outputId": "5bf1cd51-9618-4afb-a043-85568faefb97"
   },
   "outputs": [
    {
     "name": "stdout",
     "output_type": "stream",
     "text": [
      "<class 'pandas.core.frame.DataFrame'>\n",
      "RangeIndex: 19326 entries, 0 to 19325\n",
      "Data columns (total 7 columns):\n",
      " #   Column       Non-Null Count  Dtype \n",
      "---  ------       --------------  ----- \n",
      " 0   sku          19326 non-null  object\n",
      " 1   name         19326 non-null  object\n",
      " 2   desc         19319 non-null  object\n",
      " 3   price        19280 non-null  object\n",
      " 4   promo_price  19326 non-null  object\n",
      " 5   in_stock     19326 non-null  int64 \n",
      " 6   type         19276 non-null  object\n",
      "dtypes: int64(1), object(6)\n",
      "memory usage: 1.0+ MB\n"
     ]
    }
   ],
   "source": [
    "products.info()"
   ]
  },
  {
   "cell_type": "markdown",
   "id": "0d43ba45-588b-4f5e-bf53-855e3d074868",
   "metadata": {
    "tags": []
   },
   "source": [
    "**INFO:**\n",
    "- `sku` is not unique\n",
    "- `desc` has 7 missing values\n",
    "- `type` has 50 missing values, should be numerical datatype\n",
    "- `price` has 46 missing values\n",
    "- `price` should be numerical, needs to be explored\n",
    "- ~`promo_price` should be numerical~  --> column has been deleted\n",
    "- `in_stock` should be boolean\n",
    "- `price` = 6.999.003 does not work\n",
    "- `type` has scientific notation, value 1.44E+10, needs to be explored"
   ]
  },
  {
   "cell_type": "markdown",
   "id": "9sd8hctetP0q",
   "metadata": {
    "id": "9sd8hctetP0q"
   },
   "source": [
    "# 2.&nbsp; Clean up missing & duplicates"
   ]
  },
  {
   "cell_type": "markdown",
   "id": "-5J2bOm1g0aO",
   "metadata": {
    "id": "-5J2bOm1g0aO"
   },
   "source": [
    "## 2.1. Check for Missing Value"
   ]
  },
  {
   "cell_type": "code",
   "execution_count": 13,
   "id": "bcQUSad5q7Yu",
   "metadata": {
    "colab": {
     "base_uri": "https://localhost:8080/",
     "height": 198
    },
    "executionInfo": {
     "elapsed": 16,
     "status": "error",
     "timestamp": 1689785136346,
     "user": {
      "displayName": "Crystal",
      "userId": "14619037572832113319"
     },
     "user_tz": -120
    },
    "id": "bcQUSad5q7Yu",
    "outputId": "bf8793a6-fea0-4dd8-9378-52c5748cc51d"
   },
   "outputs": [
    {
     "data": {
      "text/plain": [
       "46"
      ]
     },
     "execution_count": 13,
     "metadata": {},
     "output_type": "execute_result"
    }
   ],
   "source": [
    "products[\"price\"].isna().sum()"
   ]
  },
  {
   "cell_type": "markdown",
   "id": "55439d46-b616-43c4-ac3d-333aa8573e46",
   "metadata": {},
   "source": [
    "`price` has 46 missing values"
   ]
  },
  {
   "cell_type": "code",
   "execution_count": 7,
   "id": "ax6aFG64rv9j",
   "metadata": {
    "id": "ax6aFG64rv9j"
   },
   "outputs": [
    {
     "data": {
      "text/html": [
       "<div>\n",
       "<style scoped>\n",
       "    .dataframe tbody tr th:only-of-type {\n",
       "        vertical-align: middle;\n",
       "    }\n",
       "\n",
       "    .dataframe tbody tr th {\n",
       "        vertical-align: top;\n",
       "    }\n",
       "\n",
       "    .dataframe thead th {\n",
       "        text-align: right;\n",
       "    }\n",
       "</style>\n",
       "<table border=\"1\" class=\"dataframe\">\n",
       "  <thead>\n",
       "    <tr style=\"text-align: right;\">\n",
       "      <th></th>\n",
       "      <th>sku</th>\n",
       "      <th>name</th>\n",
       "      <th>desc</th>\n",
       "      <th>price</th>\n",
       "      <th>promo_price</th>\n",
       "      <th>in_stock</th>\n",
       "      <th>type</th>\n",
       "    </tr>\n",
       "  </thead>\n",
       "  <tbody>\n",
       "    <tr>\n",
       "      <th>34</th>\n",
       "      <td>TWS0019</td>\n",
       "      <td>Twelve South MagicWand support Apple Magic Tra...</td>\n",
       "      <td>MagicWand for wireless keyboard and Magic Trac...</td>\n",
       "      <td>NaN</td>\n",
       "      <td>299.899</td>\n",
       "      <td>0</td>\n",
       "      <td>8696</td>\n",
       "    </tr>\n",
       "    <tr>\n",
       "      <th>1900</th>\n",
       "      <td>AII0008</td>\n",
       "      <td>Aiino Case MacBook Air 11 '' Transparent</td>\n",
       "      <td>MacBook Air 11-inch casing with matte finish.</td>\n",
       "      <td>NaN</td>\n",
       "      <td>22.99</td>\n",
       "      <td>0</td>\n",
       "      <td>13835403</td>\n",
       "    </tr>\n",
       "    <tr>\n",
       "      <th>2039</th>\n",
       "      <td>CEL0020</td>\n",
       "      <td>Celly Ambo Luxury Leather Case + iPhone 6 Case...</td>\n",
       "      <td>Cover and housing together with magnet for iPh...</td>\n",
       "      <td>NaN</td>\n",
       "      <td>399.905</td>\n",
       "      <td>0</td>\n",
       "      <td>11865403</td>\n",
       "    </tr>\n",
       "    <tr>\n",
       "      <th>2042</th>\n",
       "      <td>CEL0007</td>\n",
       "      <td>Celly Wallet Case with removable cover Black i...</td>\n",
       "      <td>Case Book for iPhone 6 card case type.</td>\n",
       "      <td>NaN</td>\n",
       "      <td>128.998</td>\n",
       "      <td>0</td>\n",
       "      <td>11865403</td>\n",
       "    </tr>\n",
       "    <tr>\n",
       "      <th>2043</th>\n",
       "      <td>CEL0012</td>\n",
       "      <td>Celly Silicone Hard Shell iPhone 6 Blue</td>\n",
       "      <td>Hard Shell Silicone iPhone 6.</td>\n",
       "      <td>NaN</td>\n",
       "      <td>4.99</td>\n",
       "      <td>0</td>\n",
       "      <td>11865403</td>\n",
       "    </tr>\n",
       "    <tr>\n",
       "      <th>...</th>\n",
       "      <td>...</td>\n",
       "      <td>...</td>\n",
       "      <td>...</td>\n",
       "      <td>...</td>\n",
       "      <td>...</td>\n",
       "      <td>...</td>\n",
       "      <td>...</td>\n",
       "    </tr>\n",
       "    <tr>\n",
       "      <th>12098</th>\n",
       "      <td>CEL0050</td>\n",
       "      <td>Laser Case Celly iPhone 6 / 6S Plus Silver Clear</td>\n",
       "      <td>Protective Case for iPhone 6 Plus and 6s Plus</td>\n",
       "      <td>NaN</td>\n",
       "      <td>149.895</td>\n",
       "      <td>0</td>\n",
       "      <td>11865403</td>\n",
       "    </tr>\n",
       "    <tr>\n",
       "      <th>12100</th>\n",
       "      <td>CEL0037</td>\n",
       "      <td>Celly Frost Cover for iPhone 6 / 6S Black</td>\n",
       "      <td>Ultra Thin Case for iPhone 6 and 6s</td>\n",
       "      <td>NaN</td>\n",
       "      <td>99.898</td>\n",
       "      <td>0</td>\n",
       "      <td>11865403</td>\n",
       "    </tr>\n",
       "    <tr>\n",
       "      <th>12238</th>\n",
       "      <td>CEL0027</td>\n",
       "      <td>Celly Frost Cover for iPhone 6 / 6S White</td>\n",
       "      <td>Flexible plastic shell for iPhone 6 / 6S</td>\n",
       "      <td>NaN</td>\n",
       "      <td>89.903</td>\n",
       "      <td>0</td>\n",
       "      <td>11865403</td>\n",
       "    </tr>\n",
       "    <tr>\n",
       "      <th>12242</th>\n",
       "      <td>CEL0039</td>\n",
       "      <td>Celly Frost Cover for iPhone 6 / 6S Amarillo</td>\n",
       "      <td>Ultra Thin Case for iPhone 6 and 6s</td>\n",
       "      <td>NaN</td>\n",
       "      <td>89.903</td>\n",
       "      <td>0</td>\n",
       "      <td>11865403</td>\n",
       "    </tr>\n",
       "    <tr>\n",
       "      <th>12947</th>\n",
       "      <td>CEL0034-A</td>\n",
       "      <td>(Open) Celly iPhone 6S Plus Housing Frost White</td>\n",
       "      <td>Ultra Thin Case for iPhone 6 and 6s Plus</td>\n",
       "      <td>NaN</td>\n",
       "      <td>74.893</td>\n",
       "      <td>0</td>\n",
       "      <td>1298</td>\n",
       "    </tr>\n",
       "  </tbody>\n",
       "</table>\n",
       "<p>46 rows × 7 columns</p>\n",
       "</div>"
      ],
      "text/plain": [
       "             sku                                               name  \\\n",
       "34       TWS0019  Twelve South MagicWand support Apple Magic Tra...   \n",
       "1900     AII0008           Aiino Case MacBook Air 11 '' Transparent   \n",
       "2039     CEL0020  Celly Ambo Luxury Leather Case + iPhone 6 Case...   \n",
       "2042     CEL0007  Celly Wallet Case with removable cover Black i...   \n",
       "2043     CEL0012            Celly Silicone Hard Shell iPhone 6 Blue   \n",
       "...          ...                                                ...   \n",
       "12098    CEL0050   Laser Case Celly iPhone 6 / 6S Plus Silver Clear   \n",
       "12100    CEL0037          Celly Frost Cover for iPhone 6 / 6S Black   \n",
       "12238    CEL0027          Celly Frost Cover for iPhone 6 / 6S White   \n",
       "12242    CEL0039       Celly Frost Cover for iPhone 6 / 6S Amarillo   \n",
       "12947  CEL0034-A    (Open) Celly iPhone 6S Plus Housing Frost White   \n",
       "\n",
       "                                                    desc price promo_price  \\\n",
       "34     MagicWand for wireless keyboard and Magic Trac...   NaN     299.899   \n",
       "1900       MacBook Air 11-inch casing with matte finish.   NaN       22.99   \n",
       "2039   Cover and housing together with magnet for iPh...   NaN     399.905   \n",
       "2042              Case Book for iPhone 6 card case type.   NaN     128.998   \n",
       "2043                       Hard Shell Silicone iPhone 6.   NaN        4.99   \n",
       "...                                                  ...   ...         ...   \n",
       "12098      Protective Case for iPhone 6 Plus and 6s Plus   NaN     149.895   \n",
       "12100                Ultra Thin Case for iPhone 6 and 6s   NaN      99.898   \n",
       "12238           Flexible plastic shell for iPhone 6 / 6S   NaN      89.903   \n",
       "12242                Ultra Thin Case for iPhone 6 and 6s   NaN      89.903   \n",
       "12947           Ultra Thin Case for iPhone 6 and 6s Plus   NaN      74.893   \n",
       "\n",
       "       in_stock      type  \n",
       "34            0      8696  \n",
       "1900          0  13835403  \n",
       "2039          0  11865403  \n",
       "2042          0  11865403  \n",
       "2043          0  11865403  \n",
       "...         ...       ...  \n",
       "12098         0  11865403  \n",
       "12100         0  11865403  \n",
       "12238         0  11865403  \n",
       "12242         0  11865403  \n",
       "12947         0      1298  \n",
       "\n",
       "[46 rows x 7 columns]"
      ]
     },
     "execution_count": 7,
     "metadata": {},
     "output_type": "execute_result"
    }
   ],
   "source": [
    "# A closer look\n",
    "products.loc[products['price'].isna(), :]"
   ]
  },
  {
   "cell_type": "code",
   "execution_count": 8,
   "id": "Xnp7pmHvsgyE",
   "metadata": {
    "id": "Xnp7pmHvsgyE"
   },
   "outputs": [
    {
     "name": "stdout",
     "output_type": "stream",
     "text": [
      "The missing values in price are 0.24% of all rows in the DataFrame\n"
     ]
    }
   ],
   "source": [
    "#check the %\n",
    "print(f\"The missing values in price are {(products.price.isna().value_counts(normalize=True)[1] * 100).round(2)}% of all rows in the DataFrame\")"
   ]
  },
  {
   "cell_type": "markdown",
   "id": "0bf3434d-20ce-466c-9843-dbbbd06879d1",
   "metadata": {
    "id": "eMW6J-4v_iVM"
   },
   "source": [
    "As there is such a tiny amount of missing values, we will simply delete these rows, as we have enough data without them."
   ]
  },
  {
   "cell_type": "markdown",
   "id": "W7Bv1QXrTVbR",
   "metadata": {
    "id": "W7Bv1QXrTVbR"
   },
   "source": [
    "Option 1: `.loc`"
   ]
  },
  {
   "cell_type": "code",
   "execution_count": 16,
   "id": "aJIuqC1LQL8u",
   "metadata": {
    "id": "aJIuqC1LQL8u"
   },
   "outputs": [],
   "source": [
    "products = products.loc[~products['price'].isna()]"
   ]
  },
  {
   "cell_type": "markdown",
   "id": "5iShhiyRTcCz",
   "metadata": {
    "id": "5iShhiyRTcCz"
   },
   "source": [
    "Option 2: `.dropna()`"
   ]
  },
  {
   "cell_type": "code",
   "execution_count": null,
   "id": "2_S5lPV3QcnR",
   "metadata": {
    "id": "2_S5lPV3QcnR"
   },
   "outputs": [],
   "source": [
    "# products = products.dropna(subset=['price'])"
   ]
  },
  {
   "cell_type": "code",
   "execution_count": 17,
   "id": "K4ueLXnvs3qk",
   "metadata": {
    "id": "K4ueLXnvs3qk"
   },
   "outputs": [
    {
     "name": "stdout",
     "output_type": "stream",
     "text": [
      "<class 'pandas.core.frame.DataFrame'>\n",
      "Int64Index: 19280 entries, 0 to 19325\n",
      "Data columns (total 7 columns):\n",
      " #   Column       Non-Null Count  Dtype \n",
      "---  ------       --------------  ----- \n",
      " 0   sku          19280 non-null  object\n",
      " 1   name         19280 non-null  object\n",
      " 2   desc         19273 non-null  object\n",
      " 3   price        19280 non-null  object\n",
      " 4   promo_price  19280 non-null  object\n",
      " 5   in_stock     19280 non-null  int64 \n",
      " 6   type         19230 non-null  object\n",
      "dtypes: int64(1), object(6)\n",
      "memory usage: 1.2+ MB\n"
     ]
    }
   ],
   "source": [
    "products.info()"
   ]
  },
  {
   "cell_type": "code",
   "execution_count": 14,
   "id": "6xMjCHExg6bO",
   "metadata": {
    "id": "6xMjCHExg6bO"
   },
   "outputs": [
    {
     "data": {
      "text/plain": [
       "7"
      ]
     },
     "execution_count": 14,
     "metadata": {},
     "output_type": "execute_result"
    }
   ],
   "source": [
    "products[\"desc\"].isna().sum()"
   ]
  },
  {
   "cell_type": "markdown",
   "id": "4ac91e7c-d577-460d-a3a0-7628f6b3c04a",
   "metadata": {},
   "source": [
    "According to info `desc` has 7 missing values."
   ]
  },
  {
   "cell_type": "markdown",
   "id": "tiRskHsWlrqC",
   "metadata": {
    "id": "tiRskHsWlrqC"
   },
   "source": [
    "7 is a very small number to have missing, let's have a closer look"
   ]
  },
  {
   "cell_type": "code",
   "execution_count": null,
   "id": "5Ntm8oathHDA",
   "metadata": {
    "id": "5Ntm8oathHDA"
   },
   "outputs": [],
   "source": [
    "products.loc[products['desc'].isna(), :]"
   ]
  },
  {
   "cell_type": "markdown",
   "id": "PlFfSOI5_zTB",
   "metadata": {
    "id": "PlFfSOI5_zTB"
   },
   "source": [
    "We have 2 choices here:\n",
    "* We can quickly and easily remove these rows.\n",
    "* Or, alternatively, the products names here are quite descriptive, so I'm tempted to just copy them to the description column, so that there is a description if we later want utilise this column. I wouldn't recommend this if this DataFrame was the source of truth for our website. But this is not the case here, and we're not faking any information (guessing a price or so), so I'm happy with this option"
   ]
  },
  {
   "cell_type": "code",
   "execution_count": null,
   "id": "PFiWm30luehN",
   "metadata": {
    "id": "PFiWm30luehN"
   },
   "outputs": [],
   "source": [
    "products.loc[products['desc'].isna(), 'desc'] = products.loc[products['desc'].isna(), 'name']"
   ]
  },
  {
   "cell_type": "markdown",
   "id": "tF53kMhFC5Tz",
   "metadata": {
    "id": "tF53kMhFC5Tz"
   },
   "source": [
    "## 2.2 Check for Duplicates"
   ]
  },
  {
   "cell_type": "code",
   "execution_count": 19,
   "id": "pFZZDaMwC8zx",
   "metadata": {
    "id": "pFZZDaMwC8zx"
   },
   "outputs": [
    {
     "data": {
      "text/plain": [
       "8746"
      ]
     },
     "execution_count": 19,
     "metadata": {},
     "output_type": "execute_result"
    }
   ],
   "source": [
    "# check for duplicates\n",
    "products.duplicated().sum()"
   ]
  },
  {
   "cell_type": "code",
   "execution_count": 20,
   "id": "bbRM4dR3DH0-",
   "metadata": {
    "id": "bbRM4dR3DH0-"
   },
   "outputs": [],
   "source": [
    "# drop duplicates\n",
    "products = products.drop_duplicates()"
   ]
  },
  {
   "cell_type": "code",
   "execution_count": 21,
   "id": "78ZE9Upaqoht",
   "metadata": {
    "id": "78ZE9Upaqoht"
   },
   "outputs": [
    {
     "name": "stdout",
     "output_type": "stream",
     "text": [
      "<class 'pandas.core.frame.DataFrame'>\n",
      "Int64Index: 10534 entries, 0 to 19325\n",
      "Data columns (total 7 columns):\n",
      " #   Column       Non-Null Count  Dtype \n",
      "---  ------       --------------  ----- \n",
      " 0   sku          10534 non-null  object\n",
      " 1   name         10534 non-null  object\n",
      " 2   desc         10527 non-null  object\n",
      " 3   price        10534 non-null  object\n",
      " 4   promo_price  10534 non-null  object\n",
      " 5   in_stock     10534 non-null  int64 \n",
      " 6   type         10484 non-null  object\n",
      "dtypes: int64(1), object(6)\n",
      "memory usage: 658.4+ KB\n"
     ]
    }
   ],
   "source": [
    "products.info()"
   ]
  },
  {
   "cell_type": "code",
   "execution_count": 22,
   "id": "cXMZsav-3G1J",
   "metadata": {
    "id": "cXMZsav-3G1J"
   },
   "outputs": [
    {
     "data": {
      "text/plain": [
       "sku            10534\n",
       "name           10329\n",
       "desc            7077\n",
       "price           2690\n",
       "promo_price     4613\n",
       "in_stock           2\n",
       "type             126\n",
       "dtype: int64"
      ]
     },
     "execution_count": 22,
     "metadata": {},
     "output_type": "execute_result"
    }
   ],
   "source": [
    "products.nunique()"
   ]
  },
  {
   "cell_type": "code",
   "execution_count": 23,
   "id": "cnC6vIW93G1G",
   "metadata": {
    "id": "cnC6vIW93G1G"
   },
   "outputs": [
    {
     "data": {
      "text/plain": [
       "(10534, 7)"
      ]
     },
     "execution_count": 23,
     "metadata": {},
     "output_type": "execute_result"
    }
   ],
   "source": [
    "products.shape"
   ]
  },
  {
   "cell_type": "markdown",
   "id": "RjHf6uXq3G1H",
   "metadata": {
    "id": "RjHf6uXq3G1H"
   },
   "source": [
    "[DataFrame.size](https://pandas.pydata.org/docs/reference/api/pandas.DataFrame.size.html) returns the total number of values that the DataFrame has (the number of rows multiplied by the number of columns):"
   ]
  },
  {
   "cell_type": "code",
   "execution_count": 24,
   "id": "mHVz_-yA3G1H",
   "metadata": {
    "id": "mHVz_-yA3G1H"
   },
   "outputs": [
    {
     "data": {
      "text/plain": [
       "73738"
      ]
     },
     "execution_count": 24,
     "metadata": {},
     "output_type": "execute_result"
    }
   ],
   "source": [
    "products.size"
   ]
  },
  {
   "cell_type": "markdown",
   "id": "ncyEOZxWJvHj",
   "metadata": {
    "id": "ncyEOZxWJvHj"
   },
   "source": [
    "We can check if the `.size` and `.shape` agree"
   ]
  },
  {
   "cell_type": "code",
   "execution_count": 25,
   "id": "t_8Y1rsD3G1H",
   "metadata": {
    "id": "t_8Y1rsD3G1H"
   },
   "outputs": [
    {
     "data": {
      "text/plain": [
       "True"
      ]
     },
     "execution_count": 25,
     "metadata": {},
     "output_type": "execute_result"
    }
   ],
   "source": [
    "products.shape[0] * products.shape[1] == products.size"
   ]
  },
  {
   "cell_type": "markdown",
   "id": "HWSKDRiF3G1I",
   "metadata": {
    "id": "HWSKDRiF3G1I"
   },
   "source": [
    "# 3.&nbsp; Data types"
   ]
  },
  {
   "cell_type": "markdown",
   "id": "yb37eyvIBuep",
   "metadata": {
    "id": "yb37eyvIBuep"
   },
   "source": [
    "We saw from looking at the output of .info() that both price and promo_price have been stored as objects and not as a numerical datatypes. Then we notice above that we have the dreaded two decimal point problem in both the `price` and `promo_price` columns? We can also see prices with 3 decimal places, prices should have 2 decimal places: we need to correct this before changing price as object to string"
   ]
  },
  {
   "cell_type": "markdown",
   "id": "w5PYjHADwcZW",
   "metadata": {
    "id": "w5PYjHADwcZW"
   },
   "source": [
    "## 3.1 Decimal point problem in price"
   ]
  },
  {
   "cell_type": "markdown",
   "id": "2mIc7YWdva5I",
   "metadata": {
    "id": "2mIc7YWdva5I"
   },
   "source": [
    "\n",
    "First, let's see how many values are affected by the 2 decimal point in price."
   ]
  },
  {
   "cell_type": "code",
   "execution_count": 26,
   "id": "zmSPrcYAwLnZ",
   "metadata": {
    "colab": {
     "base_uri": "https://localhost:8080/"
    },
    "executionInfo": {
     "elapsed": 6,
     "status": "ok",
     "timestamp": 1675956351477,
     "user": {
      "displayName": "Crystal",
      "userId": "14619037572832113319"
     },
     "user_tz": -60
    },
    "id": "zmSPrcYAwLnZ",
    "outputId": "e8eee947-91cd-4d2a-ef68-b1ce0d2227a1"
   },
   "outputs": [
    {
     "data": {
      "text/plain": [
       "False    10157\n",
       "True       377\n",
       "Name: price, dtype: int64"
      ]
     },
     "execution_count": 26,
     "metadata": {},
     "output_type": "execute_result"
    }
   ],
   "source": [
    "products.price.str.contains(\"\\d+\\.\\d+\\.\\d+\").value_counts()"
   ]
  },
  {
   "cell_type": "markdown",
   "id": "10YadtPY0MBr",
   "metadata": {
    "id": "10YadtPY0MBr"
   },
   "source": [
    "Two decimal point prices are invalid, we delete those rows."
   ]
  },
  {
   "cell_type": "code",
   "execution_count": 27,
   "id": "AusrlnWk1Kso",
   "metadata": {
    "id": "AusrlnWk1Kso"
   },
   "outputs": [],
   "source": [
    "products = products.loc[~products.price.astype(str).str.contains(\"\\d+\\.\\d+\\.\\d+\")]"
   ]
  },
  {
   "cell_type": "code",
   "execution_count": 28,
   "id": "Xe60LFeF1Xw2",
   "metadata": {
    "colab": {
     "base_uri": "https://localhost:8080/"
    },
    "executionInfo": {
     "elapsed": 3,
     "status": "ok",
     "timestamp": 1675957207524,
     "user": {
      "displayName": "Crystal",
      "userId": "14619037572832113319"
     },
     "user_tz": -60
    },
    "id": "Xe60LFeF1Xw2",
    "outputId": "8c059013-18c6-4360-d646-75b47ca98b36"
   },
   "outputs": [
    {
     "data": {
      "text/plain": [
       "False    10157\n",
       "Name: price, dtype: int64"
      ]
     },
     "execution_count": 28,
     "metadata": {},
     "output_type": "execute_result"
    }
   ],
   "source": [
    "# verify if above code is successfully executed, true are gone\n",
    "products.price.str.contains(\"\\d+\\.\\d+\\.\\d+\").value_counts()"
   ]
  },
  {
   "cell_type": "markdown",
   "id": "Nrg0mBzqxY1i",
   "metadata": {
    "id": "Nrg0mBzqxY1i"
   },
   "source": [
    "Let's see how many values are affected by 3 decimal places in price."
   ]
  },
  {
   "cell_type": "code",
   "execution_count": 29,
   "id": "ilGbKgDXz8X0",
   "metadata": {
    "colab": {
     "base_uri": "https://localhost:8080/"
    },
    "executionInfo": {
     "elapsed": 224,
     "status": "ok",
     "timestamp": 1675957296132,
     "user": {
      "displayName": "Crystal",
      "userId": "14619037572832113319"
     },
     "user_tz": -60
    },
    "id": "ilGbKgDXz8X0",
    "outputId": "7560a424-8e92-4245-a2c4-19bc62b978a2"
   },
   "outputs": [
    {
     "data": {
      "text/plain": [
       "False    9992\n",
       "True      165\n",
       "Name: price, dtype: int64"
      ]
     },
     "execution_count": 29,
     "metadata": {},
     "output_type": "execute_result"
    }
   ],
   "source": [
    "products.price.str.contains(\"\\d+\\.\\d{3,}\").value_counts()"
   ]
  },
  {
   "cell_type": "code",
   "execution_count": 30,
   "id": "8VQmX6bh10SX",
   "metadata": {
    "colab": {
     "base_uri": "https://localhost:8080/",
     "height": 641
    },
    "executionInfo": {
     "elapsed": 272,
     "status": "ok",
     "timestamp": 1675958177329,
     "user": {
      "displayName": "Crystal",
      "userId": "14619037572832113319"
     },
     "user_tz": -60
    },
    "id": "8VQmX6bh10SX",
    "outputId": "4be53909-b2b5-4f52-e258-a52c68ceeeda"
   },
   "outputs": [
    {
     "data": {
      "text/html": [
       "<div>\n",
       "<style scoped>\n",
       "    .dataframe tbody tr th:only-of-type {\n",
       "        vertical-align: middle;\n",
       "    }\n",
       "\n",
       "    .dataframe tbody tr th {\n",
       "        vertical-align: top;\n",
       "    }\n",
       "\n",
       "    .dataframe thead th {\n",
       "        text-align: right;\n",
       "    }\n",
       "</style>\n",
       "<table border=\"1\" class=\"dataframe\">\n",
       "  <thead>\n",
       "    <tr style=\"text-align: right;\">\n",
       "      <th></th>\n",
       "      <th>sku</th>\n",
       "      <th>name</th>\n",
       "      <th>desc</th>\n",
       "      <th>price</th>\n",
       "      <th>promo_price</th>\n",
       "      <th>in_stock</th>\n",
       "      <th>type</th>\n",
       "    </tr>\n",
       "  </thead>\n",
       "  <tbody>\n",
       "    <tr>\n",
       "      <th>362</th>\n",
       "      <td>REP0043</td>\n",
       "      <td>Speaker lower repair iPhone 4</td>\n",
       "      <td>Repair service including parts and labor for i...</td>\n",
       "      <td>499.004</td>\n",
       "      <td>499.004</td>\n",
       "      <td>0</td>\n",
       "      <td>1,44E+11</td>\n",
       "    </tr>\n",
       "    <tr>\n",
       "      <th>480</th>\n",
       "      <td>PIE0011</td>\n",
       "      <td>Internal Battery for iPhone 3G</td>\n",
       "      <td>Replacement AC Adapter for Apple iPhone 3G.</td>\n",
       "      <td>98.978</td>\n",
       "      <td>98.978</td>\n",
       "      <td>0</td>\n",
       "      <td>21485407</td>\n",
       "    </tr>\n",
       "    <tr>\n",
       "      <th>515</th>\n",
       "      <td>SEN0061</td>\n",
       "      <td>Sennheiser EZX 80 Handsfree iPhone iPad and iP...</td>\n",
       "      <td>IPhone bluetooth headset with microphone iPad ...</td>\n",
       "      <td>649.891</td>\n",
       "      <td>649.891</td>\n",
       "      <td>0</td>\n",
       "      <td>5384</td>\n",
       "    </tr>\n",
       "    <tr>\n",
       "      <th>518</th>\n",
       "      <td>SEV0026</td>\n",
       "      <td>Service installation RAM + HDD + SSD MacBook /...</td>\n",
       "      <td>RAM + HDD installation + SSD in your MacBook /...</td>\n",
       "      <td>599.918</td>\n",
       "      <td>599.918</td>\n",
       "      <td>0</td>\n",
       "      <td>20642062</td>\n",
       "    </tr>\n",
       "    <tr>\n",
       "      <th>525</th>\n",
       "      <td>SEV0024</td>\n",
       "      <td>Service installation RAM + HDD + SSD Mac mini</td>\n",
       "      <td>installation RAM HDD + SSD + on your Mac mini ...</td>\n",
       "      <td>599.918</td>\n",
       "      <td>599.918</td>\n",
       "      <td>0</td>\n",
       "      <td>20642062</td>\n",
       "    </tr>\n",
       "    <tr>\n",
       "      <th>...</th>\n",
       "      <td>...</td>\n",
       "      <td>...</td>\n",
       "      <td>...</td>\n",
       "      <td>...</td>\n",
       "      <td>...</td>\n",
       "      <td>...</td>\n",
       "      <td>...</td>\n",
       "    </tr>\n",
       "    <tr>\n",
       "      <th>19162</th>\n",
       "      <td>FIB0002-A</td>\n",
       "      <td>Open - Fibaro HomeKitt Sensor Door / Window</td>\n",
       "      <td>Sensor refurbished multi-functions for doors a...</td>\n",
       "      <td>599.918</td>\n",
       "      <td>501.067</td>\n",
       "      <td>0</td>\n",
       "      <td>11859</td>\n",
       "    </tr>\n",
       "    <tr>\n",
       "      <th>19185</th>\n",
       "      <td>RIN0017</td>\n",
       "      <td>Chime Bell Ring</td>\n",
       "      <td>Chime bell with free Wi-Fi to amplify your not...</td>\n",
       "      <td>350.005</td>\n",
       "      <td>350.005</td>\n",
       "      <td>0</td>\n",
       "      <td>NaN</td>\n",
       "    </tr>\n",
       "    <tr>\n",
       "      <th>19259</th>\n",
       "      <td>TPL0030-A</td>\n",
       "      <td>Open - TP-Link TL-PA4010P Passthrough Powerlin...</td>\n",
       "      <td>Refurbished Kit internet amplifiers with trans...</td>\n",
       "      <td>54.329</td>\n",
       "      <td>381.891</td>\n",
       "      <td>0</td>\n",
       "      <td>1334</td>\n",
       "    </tr>\n",
       "    <tr>\n",
       "      <th>19298</th>\n",
       "      <td>REP0428</td>\n",
       "      <td>iPhone Speaker lower repair 7</td>\n",
       "      <td>Repair service including parts and labor for i...</td>\n",
       "      <td>599.906</td>\n",
       "      <td>599.906</td>\n",
       "      <td>0</td>\n",
       "      <td>1,44E+11</td>\n",
       "    </tr>\n",
       "    <tr>\n",
       "      <th>19306</th>\n",
       "      <td>REP0429</td>\n",
       "      <td>iPhone Speaker lower repair 7 plus</td>\n",
       "      <td>Repair service including parts and labor for i...</td>\n",
       "      <td>599.906</td>\n",
       "      <td>599.906</td>\n",
       "      <td>0</td>\n",
       "      <td>1,44E+11</td>\n",
       "    </tr>\n",
       "  </tbody>\n",
       "</table>\n",
       "<p>165 rows × 7 columns</p>\n",
       "</div>"
      ],
      "text/plain": [
       "             sku                                               name  \\\n",
       "362      REP0043                      Speaker lower repair iPhone 4   \n",
       "480      PIE0011                     Internal Battery for iPhone 3G   \n",
       "515      SEN0061  Sennheiser EZX 80 Handsfree iPhone iPad and iP...   \n",
       "518      SEV0026  Service installation RAM + HDD + SSD MacBook /...   \n",
       "525      SEV0024      Service installation RAM + HDD + SSD Mac mini   \n",
       "...          ...                                                ...   \n",
       "19162  FIB0002-A        Open - Fibaro HomeKitt Sensor Door / Window   \n",
       "19185    RIN0017                                    Chime Bell Ring   \n",
       "19259  TPL0030-A  Open - TP-Link TL-PA4010P Passthrough Powerlin...   \n",
       "19298    REP0428                      iPhone Speaker lower repair 7   \n",
       "19306    REP0429                 iPhone Speaker lower repair 7 plus   \n",
       "\n",
       "                                                    desc    price promo_price  \\\n",
       "362    Repair service including parts and labor for i...  499.004     499.004   \n",
       "480          Replacement AC Adapter for Apple iPhone 3G.   98.978      98.978   \n",
       "515    IPhone bluetooth headset with microphone iPad ...  649.891     649.891   \n",
       "518    RAM + HDD installation + SSD in your MacBook /...  599.918     599.918   \n",
       "525    installation RAM HDD + SSD + on your Mac mini ...  599.918     599.918   \n",
       "...                                                  ...      ...         ...   \n",
       "19162  Sensor refurbished multi-functions for doors a...  599.918     501.067   \n",
       "19185  Chime bell with free Wi-Fi to amplify your not...  350.005     350.005   \n",
       "19259  Refurbished Kit internet amplifiers with trans...   54.329     381.891   \n",
       "19298  Repair service including parts and labor for i...  599.906     599.906   \n",
       "19306  Repair service including parts and labor for i...  599.906     599.906   \n",
       "\n",
       "       in_stock      type  \n",
       "362           0  1,44E+11  \n",
       "480           0  21485407  \n",
       "515           0      5384  \n",
       "518           0  20642062  \n",
       "525           0  20642062  \n",
       "...         ...       ...  \n",
       "19162         0     11859  \n",
       "19185         0       NaN  \n",
       "19259         0      1334  \n",
       "19298         0  1,44E+11  \n",
       "19306         0  1,44E+11  \n",
       "\n",
       "[165 rows x 7 columns]"
      ]
     },
     "execution_count": 30,
     "metadata": {},
     "output_type": "execute_result"
    }
   ],
   "source": [
    "# A closer look\n",
    "products.loc[products['price'].str.contains(\"\\d+\\.\\d{3,}\")]"
   ]
  },
  {
   "cell_type": "markdown",
   "id": "v64dVoj25MvC",
   "metadata": {
    "id": "v64dVoj25MvC"
   },
   "source": [
    "Can't find any logic to manipulate the 3 decimal place price after cross checking with unit price in orderline.\n",
    "So I will delete these too."
   ]
  },
  {
   "cell_type": "code",
   "execution_count": 31,
   "id": "pFHNKzAo5iIE",
   "metadata": {
    "id": "pFHNKzAo5iIE"
   },
   "outputs": [],
   "source": [
    "products = products.loc[~products.price.astype(str).str.contains(\"\\d+\\.\\d{3,}\")]"
   ]
  },
  {
   "cell_type": "code",
   "execution_count": null,
   "id": "LDtAmUXy_-ih",
   "metadata": {
    "id": "LDtAmUXy_-ih"
   },
   "outputs": [],
   "source": [
    "# you can also delete both in one line"
   ]
  },
  {
   "cell_type": "code",
   "execution_count": 32,
   "id": "3xkK12Mspand",
   "metadata": {
    "id": "3xkK12Mspand"
   },
   "outputs": [],
   "source": [
    "products = products.loc[(~products.price.astype(str).str.contains(\"\\d+\\.\\d+\\.\\d+\"))&(~products.price.astype(str).str.contains(\"\\d+\\.\\d{3,}\")), :]"
   ]
  },
  {
   "cell_type": "code",
   "execution_count": 33,
   "id": "Y1S5WdvH5MQF",
   "metadata": {
    "colab": {
     "base_uri": "https://localhost:8080/"
    },
    "executionInfo": {
     "elapsed": 5,
     "status": "ok",
     "timestamp": 1675958334227,
     "user": {
      "displayName": "Crystal",
      "userId": "14619037572832113319"
     },
     "user_tz": -60
    },
    "id": "Y1S5WdvH5MQF",
    "outputId": "4a80e184-b35a-4d85-b1a5-1ae800271308"
   },
   "outputs": [
    {
     "data": {
      "text/plain": [
       "False    9992\n",
       "Name: price, dtype: int64"
      ]
     },
     "execution_count": 33,
     "metadata": {},
     "output_type": "execute_result"
    }
   ],
   "source": [
    "# double check if delete works\n",
    "products.price.str.contains(\"\\d+\\.\\d{3,}\").value_counts()"
   ]
  },
  {
   "cell_type": "code",
   "execution_count": null,
   "id": "uSPd0FUR5t4q",
   "metadata": {
    "colab": {
     "base_uri": "https://localhost:8080/"
    },
    "executionInfo": {
     "elapsed": 7,
     "status": "ok",
     "timestamp": 1675958354088,
     "user": {
      "displayName": "Crystal",
      "userId": "14619037572832113319"
     },
     "user_tz": -60
    },
    "id": "uSPd0FUR5t4q",
    "outputId": "53f8e5e3-9bea-4d33-dee3-6fa8f2edb6a8"
   },
   "outputs": [
    {
     "name": "stdout",
     "output_type": "stream",
     "text": [
      "<class 'pandas.core.frame.DataFrame'>\n",
      "Int64Index: 9992 entries, 0 to 19325\n",
      "Data columns (total 7 columns):\n",
      " #   Column       Non-Null Count  Dtype \n",
      "---  ------       --------------  ----- \n",
      " 0   sku          9992 non-null   object\n",
      " 1   name         9992 non-null   object\n",
      " 2   desc         9992 non-null   object\n",
      " 3   price        9992 non-null   object\n",
      " 4   promo_price  9992 non-null   object\n",
      " 5   in_stock     9992 non-null   int64 \n",
      " 6   type         9946 non-null   object\n",
      "dtypes: int64(1), object(6)\n",
      "memory usage: 624.5+ KB\n"
     ]
    }
   ],
   "source": [
    "products.info()"
   ]
  },
  {
   "cell_type": "markdown",
   "id": "If87DzUE_qIq",
   "metadata": {
    "id": "If87DzUE_qIq"
   },
   "source": [
    "## 3.2 Change object to integer in price"
   ]
  },
  {
   "cell_type": "code",
   "execution_count": null,
   "id": "bfpwpOSX_p2L",
   "metadata": {
    "colab": {
     "base_uri": "https://localhost:8080/"
    },
    "executionInfo": {
     "elapsed": 7,
     "status": "ok",
     "timestamp": 1675958427982,
     "user": {
      "displayName": "Crystal",
      "userId": "14619037572832113319"
     },
     "user_tz": -60
    },
    "id": "bfpwpOSX_p2L",
    "outputId": "db1ae38e-e4fd-469e-a322-77f2b6858c54"
   },
   "outputs": [
    {
     "name": "stderr",
     "output_type": "stream",
     "text": [
      "<ipython-input-136-6416ab965591>:1: SettingWithCopyWarning: \n",
      "A value is trying to be set on a copy of a slice from a DataFrame.\n",
      "Try using .loc[row_indexer,col_indexer] = value instead\n",
      "\n",
      "See the caveats in the documentation: https://pandas.pydata.org/pandas-docs/stable/user_guide/indexing.html#returning-a-view-versus-a-copy\n",
      "  products['price'] = pd.to_numeric(products['price'])\n"
     ]
    }
   ],
   "source": [
    "products['price'] = pd.to_numeric(products['price'])"
   ]
  },
  {
   "cell_type": "code",
   "execution_count": null,
   "id": "Lb6jF-Ia6Odg",
   "metadata": {
    "colab": {
     "base_uri": "https://localhost:8080/"
    },
    "executionInfo": {
     "elapsed": 293,
     "status": "ok",
     "timestamp": 1675958489571,
     "user": {
      "displayName": "Crystal",
      "userId": "14619037572832113319"
     },
     "user_tz": -60
    },
    "id": "Lb6jF-Ia6Odg",
    "outputId": "19e9fa0b-f03c-4414-e00b-731b65a9170a"
   },
   "outputs": [
    {
     "name": "stdout",
     "output_type": "stream",
     "text": [
      "<class 'pandas.core.frame.DataFrame'>\n",
      "Int64Index: 9992 entries, 0 to 19325\n",
      "Data columns (total 7 columns):\n",
      " #   Column       Non-Null Count  Dtype  \n",
      "---  ------       --------------  -----  \n",
      " 0   sku          9992 non-null   object \n",
      " 1   name         9992 non-null   object \n",
      " 2   desc         9992 non-null   object \n",
      " 3   price        9992 non-null   float64\n",
      " 4   promo_price  9992 non-null   object \n",
      " 5   in_stock     9992 non-null   int64  \n",
      " 6   type         9946 non-null   object \n",
      "dtypes: float64(1), int64(1), object(5)\n",
      "memory usage: 624.5+ KB\n"
     ]
    }
   ],
   "source": [
    "products.info()"
   ]
  },
  {
   "cell_type": "code",
   "execution_count": null,
   "id": "dL4xPazh6dUE",
   "metadata": {
    "colab": {
     "base_uri": "https://localhost:8080/"
    },
    "executionInfo": {
     "elapsed": 6,
     "status": "ok",
     "timestamp": 1675958545783,
     "user": {
      "displayName": "Crystal",
      "userId": "14619037572832113319"
     },
     "user_tz": -60
    },
    "id": "dL4xPazh6dUE",
    "outputId": "8a57a67b-62f7-4778-a5af-92aa6f19cf5b"
   },
   "outputs": [
    {
     "data": {
      "text/plain": [
       "sku             0\n",
       "name            0\n",
       "desc            0\n",
       "price           0\n",
       "promo_price     0\n",
       "in_stock        0\n",
       "type           46\n",
       "dtype: int64"
      ]
     },
     "execution_count": 139,
     "metadata": {},
     "output_type": "execute_result"
    }
   ],
   "source": [
    "products.isna().sum()"
   ]
  },
  {
   "cell_type": "markdown",
   "id": "BNssIG7f8GUG",
   "metadata": {
    "id": "BNssIG7f8GUG"
   },
   "source": [
    "leave type as it, not important for discount analysis"
   ]
  },
  {
   "cell_type": "markdown",
   "id": "rpV4XPBn6oGK",
   "metadata": {
    "id": "rpV4XPBn6oGK"
   },
   "source": [
    "cross check price vs unit price"
   ]
  },
  {
   "cell_type": "code",
   "execution_count": null,
   "id": "Md-qJQsvmnhU",
   "metadata": {
    "colab": {
     "base_uri": "https://localhost:8080/",
     "height": 81
    },
    "executionInfo": {
     "elapsed": 5,
     "status": "ok",
     "timestamp": 1675959152419,
     "user": {
      "displayName": "Crystal",
      "userId": "14619037572832113319"
     },
     "user_tz": -60
    },
    "id": "Md-qJQsvmnhU",
    "outputId": "38310a1a-5703-4558-fe41-d5d6c8112402"
   },
   "outputs": [
    {
     "data": {
      "text/html": [
       "\n",
       "  <div id=\"df-6e85f57b-1a37-444d-9791-3c0eae0a227d\">\n",
       "    <div class=\"colab-df-container\">\n",
       "      <div>\n",
       "<style scoped>\n",
       "    .dataframe tbody tr th:only-of-type {\n",
       "        vertical-align: middle;\n",
       "    }\n",
       "\n",
       "    .dataframe tbody tr th {\n",
       "        vertical-align: top;\n",
       "    }\n",
       "\n",
       "    .dataframe thead th {\n",
       "        text-align: right;\n",
       "    }\n",
       "</style>\n",
       "<table border=\"1\" class=\"dataframe\">\n",
       "  <thead>\n",
       "    <tr style=\"text-align: right;\">\n",
       "      <th></th>\n",
       "      <th>sku</th>\n",
       "      <th>name</th>\n",
       "      <th>desc</th>\n",
       "      <th>price</th>\n",
       "      <th>promo_price</th>\n",
       "      <th>in_stock</th>\n",
       "      <th>type</th>\n",
       "    </tr>\n",
       "  </thead>\n",
       "  <tbody>\n",
       "    <tr>\n",
       "      <th>10621</th>\n",
       "      <td>APP1214</td>\n",
       "      <td>Apple Magic Mouse 2</td>\n",
       "      <td>Bluetooth Apple Wireless Mouse</td>\n",
       "      <td>89.0</td>\n",
       "      <td>81.99</td>\n",
       "      <td>1</td>\n",
       "      <td>1387</td>\n",
       "    </tr>\n",
       "  </tbody>\n",
       "</table>\n",
       "</div>\n",
       "      <button class=\"colab-df-convert\" onclick=\"convertToInteractive('df-6e85f57b-1a37-444d-9791-3c0eae0a227d')\"\n",
       "              title=\"Convert this dataframe to an interactive table.\"\n",
       "              style=\"display:none;\">\n",
       "        \n",
       "  <svg xmlns=\"http://www.w3.org/2000/svg\" height=\"24px\"viewBox=\"0 0 24 24\"\n",
       "       width=\"24px\">\n",
       "    <path d=\"M0 0h24v24H0V0z\" fill=\"none\"/>\n",
       "    <path d=\"M18.56 5.44l.94 2.06.94-2.06 2.06-.94-2.06-.94-.94-2.06-.94 2.06-2.06.94zm-11 1L8.5 8.5l.94-2.06 2.06-.94-2.06-.94L8.5 2.5l-.94 2.06-2.06.94zm10 10l.94 2.06.94-2.06 2.06-.94-2.06-.94-.94-2.06-.94 2.06-2.06.94z\"/><path d=\"M17.41 7.96l-1.37-1.37c-.4-.4-.92-.59-1.43-.59-.52 0-1.04.2-1.43.59L10.3 9.45l-7.72 7.72c-.78.78-.78 2.05 0 2.83L4 21.41c.39.39.9.59 1.41.59.51 0 1.02-.2 1.41-.59l7.78-7.78 2.81-2.81c.8-.78.8-2.07 0-2.86zM5.41 20L4 18.59l7.72-7.72 1.47 1.35L5.41 20z\"/>\n",
       "  </svg>\n",
       "      </button>\n",
       "      \n",
       "  <style>\n",
       "    .colab-df-container {\n",
       "      display:flex;\n",
       "      flex-wrap:wrap;\n",
       "      gap: 12px;\n",
       "    }\n",
       "\n",
       "    .colab-df-convert {\n",
       "      background-color: #E8F0FE;\n",
       "      border: none;\n",
       "      border-radius: 50%;\n",
       "      cursor: pointer;\n",
       "      display: none;\n",
       "      fill: #1967D2;\n",
       "      height: 32px;\n",
       "      padding: 0 0 0 0;\n",
       "      width: 32px;\n",
       "    }\n",
       "\n",
       "    .colab-df-convert:hover {\n",
       "      background-color: #E2EBFA;\n",
       "      box-shadow: 0px 1px 2px rgba(60, 64, 67, 0.3), 0px 1px 3px 1px rgba(60, 64, 67, 0.15);\n",
       "      fill: #174EA6;\n",
       "    }\n",
       "\n",
       "    [theme=dark] .colab-df-convert {\n",
       "      background-color: #3B4455;\n",
       "      fill: #D2E3FC;\n",
       "    }\n",
       "\n",
       "    [theme=dark] .colab-df-convert:hover {\n",
       "      background-color: #434B5C;\n",
       "      box-shadow: 0px 1px 3px 1px rgba(0, 0, 0, 0.15);\n",
       "      filter: drop-shadow(0px 1px 2px rgba(0, 0, 0, 0.3));\n",
       "      fill: #FFFFFF;\n",
       "    }\n",
       "  </style>\n",
       "\n",
       "      <script>\n",
       "        const buttonEl =\n",
       "          document.querySelector('#df-6e85f57b-1a37-444d-9791-3c0eae0a227d button.colab-df-convert');\n",
       "        buttonEl.style.display =\n",
       "          google.colab.kernel.accessAllowed ? 'block' : 'none';\n",
       "\n",
       "        async function convertToInteractive(key) {\n",
       "          const element = document.querySelector('#df-6e85f57b-1a37-444d-9791-3c0eae0a227d');\n",
       "          const dataTable =\n",
       "            await google.colab.kernel.invokeFunction('convertToInteractive',\n",
       "                                                     [key], {});\n",
       "          if (!dataTable) return;\n",
       "\n",
       "          const docLinkHtml = 'Like what you see? Visit the ' +\n",
       "            '<a target=\"_blank\" href=https://colab.research.google.com/notebooks/data_table.ipynb>data table notebook</a>'\n",
       "            + ' to learn more about interactive tables.';\n",
       "          element.innerHTML = '';\n",
       "          dataTable['output_type'] = 'display_data';\n",
       "          await google.colab.output.renderOutput(dataTable, element);\n",
       "          const docLink = document.createElement('div');\n",
       "          docLink.innerHTML = docLinkHtml;\n",
       "          element.appendChild(docLink);\n",
       "        }\n",
       "      </script>\n",
       "    </div>\n",
       "  </div>\n",
       "  "
      ],
      "text/plain": [
       "           sku                 name                            desc  price  \\\n",
       "10621  APP1214  Apple Magic Mouse 2  Bluetooth Apple Wireless Mouse   89.0   \n",
       "\n",
       "      promo_price  in_stock  type  \n",
       "10621       81.99         1  1387  "
      ]
     },
     "execution_count": 146,
     "metadata": {},
     "output_type": "execute_result"
    }
   ],
   "source": [
    "products.loc[products['sku'] == \"APP1214\"] #APP1214 range from 89-63 in orderline"
   ]
  },
  {
   "cell_type": "markdown",
   "id": "6twJITiX80CI",
   "metadata": {
    "id": "6twJITiX80CI"
   },
   "source": [
    "we can assume price in products is regular price, promo price is error which doesn't make sense and also 92% of promo price is corrupted, see below:"
   ]
  },
  {
   "cell_type": "markdown",
   "id": "vtp2MbO09jT1",
   "metadata": {
    "id": "vtp2MbO09jT1"
   },
   "source": [
    "## 3.3 Decimal point problem in promo price"
   ]
  },
  {
   "cell_type": "markdown",
   "id": "NQq3M2zGvzS5",
   "metadata": {
    "id": "NQq3M2zGvzS5"
   },
   "source": [
    "Again, let's begin by seeing how many values are affected by the 2 problems, or the 3 decimal problem in promo price."
   ]
  },
  {
   "cell_type": "code",
   "execution_count": null,
   "id": "vI4ueHibtK1P",
   "metadata": {
    "colab": {
     "base_uri": "https://localhost:8080/"
    },
    "executionInfo": {
     "elapsed": 272,
     "status": "ok",
     "timestamp": 1675959401541,
     "user": {
      "displayName": "Crystal",
      "userId": "14619037572832113319"
     },
     "user_tz": -60
    },
    "id": "vI4ueHibtK1P",
    "outputId": "9df9d525-027c-4da8-e142-ab1096f64436"
   },
   "outputs": [
    {
     "data": {
      "text/plain": [
       "9232"
      ]
     },
     "execution_count": 148,
     "metadata": {},
     "output_type": "execute_result"
    }
   ],
   "source": [
    "promo_problems_number = products.loc[(products.promo_price.astype(str).str.contains(\"\\d+\\.\\d+\\.\\d+\"))|(products.promo_price.astype(str).str.contains(\"\\d+\\.\\d{3,}\")), :].shape[0]\n",
    "promo_problems_number"
   ]
  },
  {
   "cell_type": "code",
   "execution_count": null,
   "id": "Jxpd8nVptKxs",
   "metadata": {
    "colab": {
     "base_uri": "https://localhost:8080/"
    },
    "executionInfo": {
     "elapsed": 226,
     "status": "ok",
     "timestamp": 1675959403162,
     "user": {
      "displayName": "Crystal",
      "userId": "14619037572832113319"
     },
     "user_tz": -60
    },
    "id": "Jxpd8nVptKxs",
    "outputId": "b470712a-e812-4c5a-a747-befa60181aa7"
   },
   "outputs": [
    {
     "name": "stdout",
     "output_type": "stream",
     "text": [
      "The column promo_price has in total 9232 wrong values. This is 92.39% of the rows of the DataFrame\n"
     ]
    }
   ],
   "source": [
    "print(f\"The column promo_price has in total {promo_problems_number} wrong values. This is {round(((promo_problems_number / products.shape[0]) * 100), 2)}% of the rows of the DataFrame\")"
   ]
  },
  {
   "cell_type": "code",
   "execution_count": null,
   "id": "6S88DpsRtaM0",
   "metadata": {
    "colab": {
     "base_uri": "https://localhost:8080/",
     "height": 1000
    },
    "executionInfo": {
     "elapsed": 34,
     "status": "ok",
     "timestamp": 1675950769648,
     "user": {
      "displayName": "Ben Elvin",
      "userId": "09111547648527423041"
     },
     "user_tz": -60
    },
    "id": "6S88DpsRtaM0",
    "outputId": "96e77716-1318-4f0b-d981-4d1aa8c64749"
   },
   "outputs": [
    {
     "data": {
      "text/html": [
       "\n",
       "  <div id=\"df-76d959a6-cc46-4049-8390-300ec218c757\">\n",
       "    <div class=\"colab-df-container\">\n",
       "      <div>\n",
       "<style scoped>\n",
       "    .dataframe tbody tr th:only-of-type {\n",
       "        vertical-align: middle;\n",
       "    }\n",
       "\n",
       "    .dataframe tbody tr th {\n",
       "        vertical-align: top;\n",
       "    }\n",
       "\n",
       "    .dataframe thead th {\n",
       "        text-align: right;\n",
       "    }\n",
       "</style>\n",
       "<table border=\"1\" class=\"dataframe\">\n",
       "  <thead>\n",
       "    <tr style=\"text-align: right;\">\n",
       "      <th></th>\n",
       "      <th>sku</th>\n",
       "      <th>name</th>\n",
       "      <th>desc</th>\n",
       "      <th>price</th>\n",
       "      <th>promo_price</th>\n",
       "      <th>in_stock</th>\n",
       "      <th>type</th>\n",
       "    </tr>\n",
       "  </thead>\n",
       "  <tbody>\n",
       "    <tr>\n",
       "      <th>11062</th>\n",
       "      <td>PAC1293</td>\n",
       "      <td>Pack QNAP TS-251 + | 8GB RAM | Seagate 6TB</td>\n",
       "      <td>Pack QNAP TS-251 + with 8GB of RAM memory + 6T...</td>\n",
       "      <td>779.97</td>\n",
       "      <td>659.179</td>\n",
       "      <td>0</td>\n",
       "      <td>12175397</td>\n",
       "    </tr>\n",
       "    <tr>\n",
       "      <th>949</th>\n",
       "      <td>INC0232</td>\n",
       "      <td>Focal Incipio iPhone Case Camera Case SE / 5s ...</td>\n",
       "      <td>Housing for perfect photo to iPhone SE / 5s / ...</td>\n",
       "      <td>59.99</td>\n",
       "      <td>199.904</td>\n",
       "      <td>0</td>\n",
       "      <td>11865403</td>\n",
       "    </tr>\n",
       "    <tr>\n",
       "      <th>2958</th>\n",
       "      <td>LGE0017</td>\n",
       "      <td>LG Ultra Slim External DVD Writer White</td>\n",
       "      <td>superfine external recorder and portable DVD.</td>\n",
       "      <td>35.99</td>\n",
       "      <td>259.908</td>\n",
       "      <td>0</td>\n",
       "      <td>1424</td>\n",
       "    </tr>\n",
       "    <tr>\n",
       "      <th>18243</th>\n",
       "      <td>AP20379</td>\n",
       "      <td>Like new - Apple iPad 2 Wi-Fi Air 128GB Gold</td>\n",
       "      <td>Air iPad 2 Wi-Fi refitted color gold</td>\n",
       "      <td>539.00</td>\n",
       "      <td>4.590.002</td>\n",
       "      <td>0</td>\n",
       "      <td>42931714</td>\n",
       "    </tr>\n",
       "    <tr>\n",
       "      <th>17689</th>\n",
       "      <td>LGE0069</td>\n",
       "      <td>LG 34UM59-P Monitor 34 \"sRGB 99% QHD HDMI</td>\n",
       "      <td>superwide 34-inch monitor image quality IPS sR...</td>\n",
       "      <td>399.00</td>\n",
       "      <td>3.599.895</td>\n",
       "      <td>1</td>\n",
       "      <td>1296</td>\n",
       "    </tr>\n",
       "    <tr>\n",
       "      <th>1102</th>\n",
       "      <td>IKM0033</td>\n",
       "      <td>IK Multimedia iRig Microphone Voice iPhone and...</td>\n",
       "      <td>color microphone for iPhone iPad and iPod Touch.</td>\n",
       "      <td>48.79</td>\n",
       "      <td>349.896</td>\n",
       "      <td>1</td>\n",
       "      <td>11905404</td>\n",
       "    </tr>\n",
       "    <tr>\n",
       "      <th>998</th>\n",
       "      <td>WDT0219</td>\n",
       "      <td>Purple 4TB WD 35 \"Mac PC hard drive and NAS Se...</td>\n",
       "      <td>Western Digital hard disk video surveillance 4...</td>\n",
       "      <td>180.00</td>\n",
       "      <td>1.385.837</td>\n",
       "      <td>0</td>\n",
       "      <td>12655397</td>\n",
       "    </tr>\n",
       "    <tr>\n",
       "      <th>12222</th>\n",
       "      <td>WOE0012</td>\n",
       "      <td>Wowewa Protector Tempered Glass iPhone 6s Plus...</td>\n",
       "      <td>3D tempered glass protector: covers all edges ...</td>\n",
       "      <td>16.99</td>\n",
       "      <td>159.902</td>\n",
       "      <td>0</td>\n",
       "      <td>13555403</td>\n",
       "    </tr>\n",
       "    <tr>\n",
       "      <th>3089</th>\n",
       "      <td>SEA0092</td>\n",
       "      <td>Seagate Expansion 2TB USB 3.0 Hard Disk 25 \"Black</td>\n",
       "      <td>25-inch External Hard Drive 2TB USB 3.0 for Ma...</td>\n",
       "      <td>104.99</td>\n",
       "      <td>929.946</td>\n",
       "      <td>1</td>\n",
       "      <td>11935397</td>\n",
       "    </tr>\n",
       "    <tr>\n",
       "      <th>13650</th>\n",
       "      <td>IHE0016-A</td>\n",
       "      <td>(Open) iHealth Wireless Pulse PO3M Oxómetro iP...</td>\n",
       "      <td>Oxómetro pulse with Bluetooth and APP for iPhone</td>\n",
       "      <td>79.95</td>\n",
       "      <td>631.111</td>\n",
       "      <td>0</td>\n",
       "      <td>1298</td>\n",
       "    </tr>\n",
       "    <tr>\n",
       "      <th>14626</th>\n",
       "      <td>WDT0359</td>\n",
       "      <td>3TB WD My Passport External Hard Drive USB 3.0...</td>\n",
       "      <td>3TB External Hard Drive USB 3.0 with Mac and P...</td>\n",
       "      <td>169.99</td>\n",
       "      <td>1.277.942</td>\n",
       "      <td>0</td>\n",
       "      <td>11935397</td>\n",
       "    </tr>\n",
       "    <tr>\n",
       "      <th>16212</th>\n",
       "      <td>PAC2105</td>\n",
       "      <td>Apple iMac 27 \"Core i7 42GHz 5K Retina | 16GB ...</td>\n",
       "      <td>IMac desktop computer 27 inch Retina 5K RAM 16...</td>\n",
       "      <td>3685.59</td>\n",
       "      <td>34.230.045</td>\n",
       "      <td>0</td>\n",
       "      <td>5,74E+15</td>\n",
       "    </tr>\n",
       "    <tr>\n",
       "      <th>11885</th>\n",
       "      <td>MAC0114</td>\n",
       "      <td>Macally Folio case iPad Case Pro 129 \"Black</td>\n",
       "      <td>Folder Case for iPad type polyurethane Pro 129...</td>\n",
       "      <td>34.95</td>\n",
       "      <td>299.003</td>\n",
       "      <td>0</td>\n",
       "      <td>12635403</td>\n",
       "    </tr>\n",
       "    <tr>\n",
       "      <th>2528</th>\n",
       "      <td>FCM0022-2</td>\n",
       "      <td>Mac memory FCM 8GB (2x4GB) SO-DIMM DDR3 1600MHz</td>\n",
       "      <td>8G RAM (2x4GB) MacBook Pro (2012) Mac mini / S...</td>\n",
       "      <td>65.98</td>\n",
       "      <td>649.903</td>\n",
       "      <td>0</td>\n",
       "      <td>1364</td>\n",
       "    </tr>\n",
       "    <tr>\n",
       "      <th>1399</th>\n",
       "      <td>APP0873</td>\n",
       "      <td>Apple iPad Air 2 Wi-Fi + Cellular 16GB Silver</td>\n",
       "      <td>New iPad Air 2 Wi-Fi + Cellular 16GB (MGH72TY ...</td>\n",
       "      <td>549.00</td>\n",
       "      <td>5.289.999</td>\n",
       "      <td>0</td>\n",
       "      <td>12141714</td>\n",
       "    </tr>\n",
       "    <tr>\n",
       "      <th>18826</th>\n",
       "      <td>APP1983-A</td>\n",
       "      <td>Open - Apple Leather Case iPhone Case Brown Candy</td>\n",
       "      <td>And microfiber leather case for iPhone Premium SE</td>\n",
       "      <td>45.00</td>\n",
       "      <td>363.494</td>\n",
       "      <td>0</td>\n",
       "      <td>11865403</td>\n",
       "    </tr>\n",
       "    <tr>\n",
       "      <th>11507</th>\n",
       "      <td>PAC1260</td>\n",
       "      <td>Samsung SSD 850 expansion kit EVO 1TB iMac 27 ...</td>\n",
       "      <td>1TB SSD expansion for 27-inch Mid 2010 iMac to...</td>\n",
       "      <td>450.98</td>\n",
       "      <td>3.225.848</td>\n",
       "      <td>1</td>\n",
       "      <td>1433</td>\n",
       "    </tr>\n",
       "    <tr>\n",
       "      <th>329</th>\n",
       "      <td>APP0410</td>\n",
       "      <td>Apple Thunderbolt to FireWire 800 adapter</td>\n",
       "      <td>Adapter Thunderbolt to Firewire 800 connection.</td>\n",
       "      <td>35.00</td>\n",
       "      <td>330.003</td>\n",
       "      <td>1</td>\n",
       "      <td>1325</td>\n",
       "    </tr>\n",
       "    <tr>\n",
       "      <th>12090</th>\n",
       "      <td>BEZ0208</td>\n",
       "      <td>Be.ez LArobe Case iPad ONE Pro 129 \"Black</td>\n",
       "      <td>Neoprene sleeve for iPad Pro 129 inches</td>\n",
       "      <td>29.99</td>\n",
       "      <td>249.901</td>\n",
       "      <td>0</td>\n",
       "      <td>12635403</td>\n",
       "    </tr>\n",
       "    <tr>\n",
       "      <th>2938</th>\n",
       "      <td>MUV0167</td>\n",
       "      <td>Muvit belt with waterproof window Touchscreen ...</td>\n",
       "      <td>Muvit belt / shoulder bag with waterproof pock...</td>\n",
       "      <td>19.95</td>\n",
       "      <td>119.899</td>\n",
       "      <td>0</td>\n",
       "      <td>11865403</td>\n",
       "    </tr>\n",
       "    <tr>\n",
       "      <th>13293</th>\n",
       "      <td>GRT0440</td>\n",
       "      <td>Griffin Survivor iPhone Case Wallet 7/8 Clear ...</td>\n",
       "      <td>Polycarbonate cover with lid and slots for iPh...</td>\n",
       "      <td>29.99</td>\n",
       "      <td>199.904</td>\n",
       "      <td>0</td>\n",
       "      <td>11865403</td>\n",
       "    </tr>\n",
       "    <tr>\n",
       "      <th>9140</th>\n",
       "      <td>APP1259</td>\n",
       "      <td>Apple iMac 21.5 \"Core i5 2.8GHz | 8GB | 2TB Fu...</td>\n",
       "      <td>PC 215 inch iMac 2.8GHz 8GB RAM 2TB Drive Fusi...</td>\n",
       "      <td>2038.00</td>\n",
       "      <td>1.908.585</td>\n",
       "      <td>0</td>\n",
       "      <td>1282</td>\n",
       "    </tr>\n",
       "    <tr>\n",
       "      <th>17238</th>\n",
       "      <td>AP20290</td>\n",
       "      <td>Like new - Apple iPod Nano 16GB Silver</td>\n",
       "      <td>IPod nano music player refitted the 8th genera...</td>\n",
       "      <td>179.00</td>\n",
       "      <td>1.228.114</td>\n",
       "      <td>0</td>\n",
       "      <td>11821715</td>\n",
       "    </tr>\n",
       "    <tr>\n",
       "      <th>12977</th>\n",
       "      <td>TPL0022</td>\n",
       "      <td>TP-Link HS-100 Smart Plug Wi-Fi for iPhone and...</td>\n",
       "      <td>Smart Wi-Fi plug for iPhone i iPad</td>\n",
       "      <td>48.28</td>\n",
       "      <td>299.899</td>\n",
       "      <td>1</td>\n",
       "      <td>11905404</td>\n",
       "    </tr>\n",
       "    <tr>\n",
       "      <th>16107</th>\n",
       "      <td>QNA0217</td>\n",
       "      <td>QNAP 1600MHz DDR3 memory RAM 4GB</td>\n",
       "      <td>4GB RAM memory QNAP NAS.</td>\n",
       "      <td>94.99</td>\n",
       "      <td>767.899</td>\n",
       "      <td>0</td>\n",
       "      <td>1404</td>\n",
       "    </tr>\n",
       "    <tr>\n",
       "      <th>12314</th>\n",
       "      <td>KIN0125</td>\n",
       "      <td>Kingston 8GB Micro SDHC Class 10 45MB / s</td>\n",
       "      <td>8GB micro SDHC card with adapter</td>\n",
       "      <td>4.99</td>\n",
       "      <td>4.281</td>\n",
       "      <td>0</td>\n",
       "      <td>57445397</td>\n",
       "    </tr>\n",
       "    <tr>\n",
       "      <th>798</th>\n",
       "      <td>APP0675</td>\n",
       "      <td>Apple iPhone 5S 32GB Space Gray</td>\n",
       "      <td>New Free iPhone 5S 32GB (ME435Y / A).</td>\n",
       "      <td>559.00</td>\n",
       "      <td>3.989.975</td>\n",
       "      <td>0</td>\n",
       "      <td>NaN</td>\n",
       "    </tr>\n",
       "    <tr>\n",
       "      <th>15772</th>\n",
       "      <td>QNA0223</td>\n",
       "      <td>QNAP TS-453b 8GB RAM NAS USB-C</td>\n",
       "      <td>NAS 4 bays with 8GB RAM 2 LAN ports 1 USB-C an...</td>\n",
       "      <td>845.79</td>\n",
       "      <td>8.449.902</td>\n",
       "      <td>0</td>\n",
       "      <td>12175397</td>\n",
       "    </tr>\n",
       "    <tr>\n",
       "      <th>18780</th>\n",
       "      <td>APP1960-A</td>\n",
       "      <td>Open - Apple iPhone 32GB Silver</td>\n",
       "      <td>iPhone SE reconditioned 4 inch screen 32 free GB.</td>\n",
       "      <td>419.00</td>\n",
       "      <td>3.408.656</td>\n",
       "      <td>0</td>\n",
       "      <td>51601716</td>\n",
       "    </tr>\n",
       "    <tr>\n",
       "      <th>18549</th>\n",
       "      <td>AP20420</td>\n",
       "      <td>Like new - Apple iPhone 8 Plus 64GB Gold</td>\n",
       "      <td>Apple iPhone 8 Plus Free Refurbished 64GB Colo...</td>\n",
       "      <td>919.00</td>\n",
       "      <td>7.989.993</td>\n",
       "      <td>0</td>\n",
       "      <td>113281716</td>\n",
       "    </tr>\n",
       "    <tr>\n",
       "      <th>18667</th>\n",
       "      <td>TOS0023</td>\n",
       "      <td>Toshiba Canvio Premium Extero 1TB Hard Drive 2...</td>\n",
       "      <td>Toshiba USB external hard drive for Mac 1TB Ca...</td>\n",
       "      <td>75.99</td>\n",
       "      <td>617.947</td>\n",
       "      <td>0</td>\n",
       "      <td>11935397</td>\n",
       "    </tr>\n",
       "    <tr>\n",
       "      <th>17893</th>\n",
       "      <td>PAC2268</td>\n",
       "      <td>Synology DS918 + NAS Server | 8GB | 16TB (4x4T...</td>\n",
       "      <td>NAS server of the Plus Series for companies se...</td>\n",
       "      <td>1312.98</td>\n",
       "      <td>1.129.368</td>\n",
       "      <td>0</td>\n",
       "      <td>12175397</td>\n",
       "    </tr>\n",
       "    <tr>\n",
       "      <th>1785</th>\n",
       "      <td>KUA0019</td>\n",
       "      <td>Support Kukaclip car + Funda iPhone 6 / 6S Black</td>\n",
       "      <td>Magnetic car holder with 360 degrees rotating ...</td>\n",
       "      <td>24.99</td>\n",
       "      <td>149.895</td>\n",
       "      <td>0</td>\n",
       "      <td>11865403</td>\n",
       "    </tr>\n",
       "    <tr>\n",
       "      <th>13045</th>\n",
       "      <td>BNQ0050</td>\n",
       "      <td>VZ2770H BenQ Monitor 27 \"FHD Panel Ultrathin VA</td>\n",
       "      <td>27 FHD monitor for home use slim frame and pan...</td>\n",
       "      <td>189.00</td>\n",
       "      <td>1.889.996</td>\n",
       "      <td>0</td>\n",
       "      <td>1296</td>\n",
       "    </tr>\n",
       "    <tr>\n",
       "      <th>16343</th>\n",
       "      <td>APP2270</td>\n",
       "      <td>Apple MacBook Pro 13 \"Core i7 Touch Bar 35GHz ...</td>\n",
       "      <td>New MacBook Pro 13 inch Touch Bar 35 GHz Core ...</td>\n",
       "      <td>3349.00</td>\n",
       "      <td>31.820.048</td>\n",
       "      <td>0</td>\n",
       "      <td>1,02E+12</td>\n",
       "    </tr>\n",
       "    <tr>\n",
       "      <th>500</th>\n",
       "      <td>NTE0056</td>\n",
       "      <td>NewerTech Complete set of 14 tools</td>\n",
       "      <td>portable kit of 14 tools for Mac and PC.</td>\n",
       "      <td>23.99</td>\n",
       "      <td>199.904</td>\n",
       "      <td>0</td>\n",
       "      <td>14305406</td>\n",
       "    </tr>\n",
       "    <tr>\n",
       "      <th>11872</th>\n",
       "      <td>MAC0121</td>\n",
       "      <td>Macally Snap-on Case iPhone 6 / 6S metallic red</td>\n",
       "      <td>Case rigid and resistant metallic tones iPhone...</td>\n",
       "      <td>9.95</td>\n",
       "      <td>46.948</td>\n",
       "      <td>1</td>\n",
       "      <td>11865403</td>\n",
       "    </tr>\n",
       "    <tr>\n",
       "      <th>15765</th>\n",
       "      <td>HTE0013</td>\n",
       "      <td>Hyperdrive DUO USB Hub-C Thunderbolt three spa...</td>\n",
       "      <td>Hub Thunderbolt port 3 HDMI and USB-C ports an...</td>\n",
       "      <td>99.95</td>\n",
       "      <td>949.898</td>\n",
       "      <td>1</td>\n",
       "      <td>12585395</td>\n",
       "    </tr>\n",
       "    <tr>\n",
       "      <th>1475</th>\n",
       "      <td>SPH0012</td>\n",
       "      <td>Sphero Ollie Robot Blue</td>\n",
       "      <td>Smartoy of Sphero Ollie Robot remote control v...</td>\n",
       "      <td>109.95</td>\n",
       "      <td>1.049.905</td>\n",
       "      <td>1</td>\n",
       "      <td>11905404</td>\n",
       "    </tr>\n",
       "    <tr>\n",
       "      <th>18389</th>\n",
       "      <td>SAT0076</td>\n",
       "      <td>Satechi USB-C Gigabit Ethernet Adapter Gray Space</td>\n",
       "      <td>USB-C Gigabit Ethernet adapter up to 1000Mbps ...</td>\n",
       "      <td>29.99</td>\n",
       "      <td>299.899</td>\n",
       "      <td>1</td>\n",
       "      <td>12585395</td>\n",
       "    </tr>\n",
       "    <tr>\n",
       "      <th>13029</th>\n",
       "      <td>PAC1494</td>\n",
       "      <td>Crucial MX300 Pack Installation Kit iMac 1050G...</td>\n",
       "      <td>MX300 + 1050GB SSD installation kit 215-inch i...</td>\n",
       "      <td>336.32</td>\n",
       "      <td>2.805.845</td>\n",
       "      <td>0</td>\n",
       "      <td>1433</td>\n",
       "    </tr>\n",
       "    <tr>\n",
       "      <th>19139</th>\n",
       "      <td>THU0067</td>\n",
       "      <td>See Thule 17L Backpack 14 \"Dark Green</td>\n",
       "      <td>Backpack with capacity 17 liters compartments ...</td>\n",
       "      <td>99.99</td>\n",
       "      <td>899.901</td>\n",
       "      <td>0</td>\n",
       "      <td>1392</td>\n",
       "    </tr>\n",
       "    <tr>\n",
       "      <th>14488</th>\n",
       "      <td>KAI0009</td>\n",
       "      <td>Kaiser Baas VRX virtual reality goggles Goggles</td>\n",
       "      <td>Virtual reality glasses compatible with VR app...</td>\n",
       "      <td>39.90</td>\n",
       "      <td>349.896</td>\n",
       "      <td>0</td>\n",
       "      <td>11905404</td>\n",
       "    </tr>\n",
       "    <tr>\n",
       "      <th>2373</th>\n",
       "      <td>HGS0010</td>\n",
       "      <td>HGST Travelstar 5K1000 1TB 25 \"SATA 5400rpm</td>\n",
       "      <td>1TB internal hard drive SATA III for Mac and PC.</td>\n",
       "      <td>65.00</td>\n",
       "      <td>605.835</td>\n",
       "      <td>0</td>\n",
       "      <td>12655397</td>\n",
       "    </tr>\n",
       "    <tr>\n",
       "      <th>14965</th>\n",
       "      <td>SHE0039-A</td>\n",
       "      <td>(Open) SwitchEasy iPhone Case 0.35 7 Plus</td>\n",
       "      <td>Ultra Thin Case for iPhone 7 Plus in White</td>\n",
       "      <td>9.99</td>\n",
       "      <td>24.073</td>\n",
       "      <td>0</td>\n",
       "      <td>1298</td>\n",
       "    </tr>\n",
       "    <tr>\n",
       "      <th>11124</th>\n",
       "      <td>SNA0060</td>\n",
       "      <td>Sena Magnetic Holster Case iPhone 6 / 6S Black</td>\n",
       "      <td>Cover book format with magnetic closure for iP...</td>\n",
       "      <td>49.95</td>\n",
       "      <td>468.996</td>\n",
       "      <td>0</td>\n",
       "      <td>11865403</td>\n",
       "    </tr>\n",
       "    <tr>\n",
       "      <th>15051</th>\n",
       "      <td>LIF0122</td>\n",
       "      <td>Submersible Nood LifeProof iPhone Case 7 Green</td>\n",
       "      <td>waterproof and resistant to extreme conditions...</td>\n",
       "      <td>89.99</td>\n",
       "      <td>469.904</td>\n",
       "      <td>1</td>\n",
       "      <td>11865403</td>\n",
       "    </tr>\n",
       "    <tr>\n",
       "      <th>1922</th>\n",
       "      <td>PAC0669</td>\n",
       "      <td>Samsung SSD 850 expansion kit PRO 512GB + 8GB ...</td>\n",
       "      <td>512GB SSD expansion kit + RAM + 8GB 1066MHZ Da...</td>\n",
       "      <td>465.96</td>\n",
       "      <td>3.785.848</td>\n",
       "      <td>1</td>\n",
       "      <td>1433</td>\n",
       "    </tr>\n",
       "    <tr>\n",
       "      <th>17040</th>\n",
       "      <td>TUC0322</td>\n",
       "      <td>Cosmo Tucano iPad Case Pro 105 \"Black</td>\n",
       "      <td>Leather with trunnion up to 360 degrees to 105...</td>\n",
       "      <td>39.90</td>\n",
       "      <td>329.894</td>\n",
       "      <td>0</td>\n",
       "      <td>12635403</td>\n",
       "    </tr>\n",
       "    <tr>\n",
       "      <th>3135</th>\n",
       "      <td>NTE0100</td>\n",
       "      <td>NewerTech Guardian Maximus RAID mini FW800 / e...</td>\n",
       "      <td>Mini Raid system with FW800 / eSATA / USB conn...</td>\n",
       "      <td>120.99</td>\n",
       "      <td>579.893</td>\n",
       "      <td>0</td>\n",
       "      <td>11935397</td>\n",
       "    </tr>\n",
       "  </tbody>\n",
       "</table>\n",
       "</div>\n",
       "      <button class=\"colab-df-convert\" onclick=\"convertToInteractive('df-76d959a6-cc46-4049-8390-300ec218c757')\"\n",
       "              title=\"Convert this dataframe to an interactive table.\"\n",
       "              style=\"display:none;\">\n",
       "        \n",
       "  <svg xmlns=\"http://www.w3.org/2000/svg\" height=\"24px\"viewBox=\"0 0 24 24\"\n",
       "       width=\"24px\">\n",
       "    <path d=\"M0 0h24v24H0V0z\" fill=\"none\"/>\n",
       "    <path d=\"M18.56 5.44l.94 2.06.94-2.06 2.06-.94-2.06-.94-.94-2.06-.94 2.06-2.06.94zm-11 1L8.5 8.5l.94-2.06 2.06-.94-2.06-.94L8.5 2.5l-.94 2.06-2.06.94zm10 10l.94 2.06.94-2.06 2.06-.94-2.06-.94-.94-2.06-.94 2.06-2.06.94z\"/><path d=\"M17.41 7.96l-1.37-1.37c-.4-.4-.92-.59-1.43-.59-.52 0-1.04.2-1.43.59L10.3 9.45l-7.72 7.72c-.78.78-.78 2.05 0 2.83L4 21.41c.39.39.9.59 1.41.59.51 0 1.02-.2 1.41-.59l7.78-7.78 2.81-2.81c.8-.78.8-2.07 0-2.86zM5.41 20L4 18.59l7.72-7.72 1.47 1.35L5.41 20z\"/>\n",
       "  </svg>\n",
       "      </button>\n",
       "      \n",
       "  <style>\n",
       "    .colab-df-container {\n",
       "      display:flex;\n",
       "      flex-wrap:wrap;\n",
       "      gap: 12px;\n",
       "    }\n",
       "\n",
       "    .colab-df-convert {\n",
       "      background-color: #E8F0FE;\n",
       "      border: none;\n",
       "      border-radius: 50%;\n",
       "      cursor: pointer;\n",
       "      display: none;\n",
       "      fill: #1967D2;\n",
       "      height: 32px;\n",
       "      padding: 0 0 0 0;\n",
       "      width: 32px;\n",
       "    }\n",
       "\n",
       "    .colab-df-convert:hover {\n",
       "      background-color: #E2EBFA;\n",
       "      box-shadow: 0px 1px 2px rgba(60, 64, 67, 0.3), 0px 1px 3px 1px rgba(60, 64, 67, 0.15);\n",
       "      fill: #174EA6;\n",
       "    }\n",
       "\n",
       "    [theme=dark] .colab-df-convert {\n",
       "      background-color: #3B4455;\n",
       "      fill: #D2E3FC;\n",
       "    }\n",
       "\n",
       "    [theme=dark] .colab-df-convert:hover {\n",
       "      background-color: #434B5C;\n",
       "      box-shadow: 0px 1px 3px 1px rgba(0, 0, 0, 0.15);\n",
       "      filter: drop-shadow(0px 1px 2px rgba(0, 0, 0, 0.3));\n",
       "      fill: #FFFFFF;\n",
       "    }\n",
       "  </style>\n",
       "\n",
       "      <script>\n",
       "        const buttonEl =\n",
       "          document.querySelector('#df-76d959a6-cc46-4049-8390-300ec218c757 button.colab-df-convert');\n",
       "        buttonEl.style.display =\n",
       "          google.colab.kernel.accessAllowed ? 'block' : 'none';\n",
       "\n",
       "        async function convertToInteractive(key) {\n",
       "          const element = document.querySelector('#df-76d959a6-cc46-4049-8390-300ec218c757');\n",
       "          const dataTable =\n",
       "            await google.colab.kernel.invokeFunction('convertToInteractive',\n",
       "                                                     [key], {});\n",
       "          if (!dataTable) return;\n",
       "\n",
       "          const docLinkHtml = 'Like what you see? Visit the ' +\n",
       "            '<a target=\"_blank\" href=https://colab.research.google.com/notebooks/data_table.ipynb>data table notebook</a>'\n",
       "            + ' to learn more about interactive tables.';\n",
       "          element.innerHTML = '';\n",
       "          dataTable['output_type'] = 'display_data';\n",
       "          await google.colab.output.renderOutput(dataTable, element);\n",
       "          const docLink = document.createElement('div');\n",
       "          docLink.innerHTML = docLinkHtml;\n",
       "          element.appendChild(docLink);\n",
       "        }\n",
       "      </script>\n",
       "    </div>\n",
       "  </div>\n",
       "  "
      ],
      "text/plain": [
       "             sku                                               name  \\\n",
       "11062    PAC1293         Pack QNAP TS-251 + | 8GB RAM | Seagate 6TB   \n",
       "949      INC0232  Focal Incipio iPhone Case Camera Case SE / 5s ...   \n",
       "2958     LGE0017            LG Ultra Slim External DVD Writer White   \n",
       "18243    AP20379       Like new - Apple iPad 2 Wi-Fi Air 128GB Gold   \n",
       "17689    LGE0069          LG 34UM59-P Monitor 34 \"sRGB 99% QHD HDMI   \n",
       "1102     IKM0033  IK Multimedia iRig Microphone Voice iPhone and...   \n",
       "998      WDT0219  Purple 4TB WD 35 \"Mac PC hard drive and NAS Se...   \n",
       "12222    WOE0012  Wowewa Protector Tempered Glass iPhone 6s Plus...   \n",
       "3089     SEA0092  Seagate Expansion 2TB USB 3.0 Hard Disk 25 \"Black   \n",
       "13650  IHE0016-A  (Open) iHealth Wireless Pulse PO3M Oxómetro iP...   \n",
       "14626    WDT0359  3TB WD My Passport External Hard Drive USB 3.0...   \n",
       "16212    PAC2105  Apple iMac 27 \"Core i7 42GHz 5K Retina | 16GB ...   \n",
       "11885    MAC0114        Macally Folio case iPad Case Pro 129 \"Black   \n",
       "2528   FCM0022-2    Mac memory FCM 8GB (2x4GB) SO-DIMM DDR3 1600MHz   \n",
       "1399     APP0873      Apple iPad Air 2 Wi-Fi + Cellular 16GB Silver   \n",
       "18826  APP1983-A  Open - Apple Leather Case iPhone Case Brown Candy   \n",
       "11507    PAC1260  Samsung SSD 850 expansion kit EVO 1TB iMac 27 ...   \n",
       "329      APP0410          Apple Thunderbolt to FireWire 800 adapter   \n",
       "12090    BEZ0208          Be.ez LArobe Case iPad ONE Pro 129 \"Black   \n",
       "2938     MUV0167  Muvit belt with waterproof window Touchscreen ...   \n",
       "13293    GRT0440  Griffin Survivor iPhone Case Wallet 7/8 Clear ...   \n",
       "9140     APP1259  Apple iMac 21.5 \"Core i5 2.8GHz | 8GB | 2TB Fu...   \n",
       "17238    AP20290             Like new - Apple iPod Nano 16GB Silver   \n",
       "12977    TPL0022  TP-Link HS-100 Smart Plug Wi-Fi for iPhone and...   \n",
       "16107    QNA0217                   QNAP 1600MHz DDR3 memory RAM 4GB   \n",
       "12314    KIN0125          Kingston 8GB Micro SDHC Class 10 45MB / s   \n",
       "798      APP0675                    Apple iPhone 5S 32GB Space Gray   \n",
       "15772    QNA0223                     QNAP TS-453b 8GB RAM NAS USB-C   \n",
       "18780  APP1960-A                    Open - Apple iPhone 32GB Silver   \n",
       "18549    AP20420           Like new - Apple iPhone 8 Plus 64GB Gold   \n",
       "18667    TOS0023  Toshiba Canvio Premium Extero 1TB Hard Drive 2...   \n",
       "17893    PAC2268  Synology DS918 + NAS Server | 8GB | 16TB (4x4T...   \n",
       "1785     KUA0019   Support Kukaclip car + Funda iPhone 6 / 6S Black   \n",
       "13045    BNQ0050    VZ2770H BenQ Monitor 27 \"FHD Panel Ultrathin VA   \n",
       "16343    APP2270  Apple MacBook Pro 13 \"Core i7 Touch Bar 35GHz ...   \n",
       "500      NTE0056                 NewerTech Complete set of 14 tools   \n",
       "11872    MAC0121    Macally Snap-on Case iPhone 6 / 6S metallic red   \n",
       "15765    HTE0013  Hyperdrive DUO USB Hub-C Thunderbolt three spa...   \n",
       "1475     SPH0012                            Sphero Ollie Robot Blue   \n",
       "18389    SAT0076  Satechi USB-C Gigabit Ethernet Adapter Gray Space   \n",
       "13029    PAC1494  Crucial MX300 Pack Installation Kit iMac 1050G...   \n",
       "19139    THU0067              See Thule 17L Backpack 14 \"Dark Green   \n",
       "14488    KAI0009    Kaiser Baas VRX virtual reality goggles Goggles   \n",
       "2373     HGS0010        HGST Travelstar 5K1000 1TB 25 \"SATA 5400rpm   \n",
       "14965  SHE0039-A          (Open) SwitchEasy iPhone Case 0.35 7 Plus   \n",
       "11124    SNA0060     Sena Magnetic Holster Case iPhone 6 / 6S Black   \n",
       "15051    LIF0122     Submersible Nood LifeProof iPhone Case 7 Green   \n",
       "1922     PAC0669  Samsung SSD 850 expansion kit PRO 512GB + 8GB ...   \n",
       "17040    TUC0322              Cosmo Tucano iPad Case Pro 105 \"Black   \n",
       "3135     NTE0100  NewerTech Guardian Maximus RAID mini FW800 / e...   \n",
       "\n",
       "                                                    desc    price promo_price  \\\n",
       "11062  Pack QNAP TS-251 + with 8GB of RAM memory + 6T...   779.97     659.179   \n",
       "949    Housing for perfect photo to iPhone SE / 5s / ...    59.99     199.904   \n",
       "2958       superfine external recorder and portable DVD.    35.99     259.908   \n",
       "18243               Air iPad 2 Wi-Fi refitted color gold   539.00   4.590.002   \n",
       "17689  superwide 34-inch monitor image quality IPS sR...   399.00   3.599.895   \n",
       "1102    color microphone for iPhone iPad and iPod Touch.    48.79     349.896   \n",
       "998    Western Digital hard disk video surveillance 4...   180.00   1.385.837   \n",
       "12222  3D tempered glass protector: covers all edges ...    16.99     159.902   \n",
       "3089   25-inch External Hard Drive 2TB USB 3.0 for Ma...   104.99     929.946   \n",
       "13650   Oxómetro pulse with Bluetooth and APP for iPhone    79.95     631.111   \n",
       "14626  3TB External Hard Drive USB 3.0 with Mac and P...   169.99   1.277.942   \n",
       "16212  IMac desktop computer 27 inch Retina 5K RAM 16...  3685.59  34.230.045   \n",
       "11885  Folder Case for iPad type polyurethane Pro 129...    34.95     299.003   \n",
       "2528   8G RAM (2x4GB) MacBook Pro (2012) Mac mini / S...    65.98     649.903   \n",
       "1399   New iPad Air 2 Wi-Fi + Cellular 16GB (MGH72TY ...   549.00   5.289.999   \n",
       "18826  And microfiber leather case for iPhone Premium SE    45.00     363.494   \n",
       "11507  1TB SSD expansion for 27-inch Mid 2010 iMac to...   450.98   3.225.848   \n",
       "329      Adapter Thunderbolt to Firewire 800 connection.    35.00     330.003   \n",
       "12090            Neoprene sleeve for iPad Pro 129 inches    29.99     249.901   \n",
       "2938   Muvit belt / shoulder bag with waterproof pock...    19.95     119.899   \n",
       "13293  Polycarbonate cover with lid and slots for iPh...    29.99     199.904   \n",
       "9140   PC 215 inch iMac 2.8GHz 8GB RAM 2TB Drive Fusi...  2038.00   1.908.585   \n",
       "17238  IPod nano music player refitted the 8th genera...   179.00   1.228.114   \n",
       "12977                 Smart Wi-Fi plug for iPhone i iPad    48.28     299.899   \n",
       "16107                           4GB RAM memory QNAP NAS.    94.99     767.899   \n",
       "12314                   8GB micro SDHC card with adapter     4.99       4.281   \n",
       "798                New Free iPhone 5S 32GB (ME435Y / A).   559.00   3.989.975   \n",
       "15772  NAS 4 bays with 8GB RAM 2 LAN ports 1 USB-C an...   845.79   8.449.902   \n",
       "18780  iPhone SE reconditioned 4 inch screen 32 free GB.   419.00   3.408.656   \n",
       "18549  Apple iPhone 8 Plus Free Refurbished 64GB Colo...   919.00   7.989.993   \n",
       "18667  Toshiba USB external hard drive for Mac 1TB Ca...    75.99     617.947   \n",
       "17893  NAS server of the Plus Series for companies se...  1312.98   1.129.368   \n",
       "1785   Magnetic car holder with 360 degrees rotating ...    24.99     149.895   \n",
       "13045  27 FHD monitor for home use slim frame and pan...   189.00   1.889.996   \n",
       "16343  New MacBook Pro 13 inch Touch Bar 35 GHz Core ...  3349.00  31.820.048   \n",
       "500             portable kit of 14 tools for Mac and PC.    23.99     199.904   \n",
       "11872  Case rigid and resistant metallic tones iPhone...     9.95      46.948   \n",
       "15765  Hub Thunderbolt port 3 HDMI and USB-C ports an...    99.95     949.898   \n",
       "1475   Smartoy of Sphero Ollie Robot remote control v...   109.95   1.049.905   \n",
       "18389  USB-C Gigabit Ethernet adapter up to 1000Mbps ...    29.99     299.899   \n",
       "13029  MX300 + 1050GB SSD installation kit 215-inch i...   336.32   2.805.845   \n",
       "19139  Backpack with capacity 17 liters compartments ...    99.99     899.901   \n",
       "14488  Virtual reality glasses compatible with VR app...    39.90     349.896   \n",
       "2373    1TB internal hard drive SATA III for Mac and PC.    65.00     605.835   \n",
       "14965         Ultra Thin Case for iPhone 7 Plus in White     9.99      24.073   \n",
       "11124  Cover book format with magnetic closure for iP...    49.95     468.996   \n",
       "15051  waterproof and resistant to extreme conditions...    89.99     469.904   \n",
       "1922   512GB SSD expansion kit + RAM + 8GB 1066MHZ Da...   465.96   3.785.848   \n",
       "17040  Leather with trunnion up to 360 degrees to 105...    39.90     329.894   \n",
       "3135   Mini Raid system with FW800 / eSATA / USB conn...   120.99     579.893   \n",
       "\n",
       "       in_stock       type  \n",
       "11062         0   12175397  \n",
       "949           0   11865403  \n",
       "2958          0       1424  \n",
       "18243         0   42931714  \n",
       "17689         1       1296  \n",
       "1102          1   11905404  \n",
       "998           0   12655397  \n",
       "12222         0   13555403  \n",
       "3089          1   11935397  \n",
       "13650         0       1298  \n",
       "14626         0   11935397  \n",
       "16212         0   5,74E+15  \n",
       "11885         0   12635403  \n",
       "2528          0       1364  \n",
       "1399          0   12141714  \n",
       "18826         0   11865403  \n",
       "11507         1       1433  \n",
       "329           1       1325  \n",
       "12090         0   12635403  \n",
       "2938          0   11865403  \n",
       "13293         0   11865403  \n",
       "9140          0       1282  \n",
       "17238         0   11821715  \n",
       "12977         1   11905404  \n",
       "16107         0       1404  \n",
       "12314         0   57445397  \n",
       "798           0        NaN  \n",
       "15772         0   12175397  \n",
       "18780         0   51601716  \n",
       "18549         0  113281716  \n",
       "18667         0   11935397  \n",
       "17893         0   12175397  \n",
       "1785          0   11865403  \n",
       "13045         0       1296  \n",
       "16343         0   1,02E+12  \n",
       "500           0   14305406  \n",
       "11872         1   11865403  \n",
       "15765         1   12585395  \n",
       "1475          1   11905404  \n",
       "18389         1   12585395  \n",
       "13029         0       1433  \n",
       "19139         0       1392  \n",
       "14488         0   11905404  \n",
       "2373          0   12655397  \n",
       "14965         0       1298  \n",
       "11124         0   11865403  \n",
       "15051         1   11865403  \n",
       "1922          1       1433  \n",
       "17040         0   12635403  \n",
       "3135          0   11935397  "
      ]
     },
     "execution_count": 39,
     "metadata": {},
     "output_type": "execute_result"
    }
   ],
   "source": [
    "promo_price_df = products.loc[(products.promo_price.astype(str).str.contains(\"\\d+\\.\\d+\\.\\d+\"))|(products.promo_price.astype(str).str.contains(\"\\d+\\.\\d{3,}\")), :]\n",
    "promo_price_df.sample(50)"
   ]
  },
  {
   "cell_type": "markdown",
   "id": "0Hfgo84xu_VS",
   "metadata": {
    "id": "0Hfgo84xu_VS"
   },
   "source": [
    "So we were correct, over 90% of the data in this column is corrupt. There's no point deleting all of these rows, then we would barely have a products table. Instead, as it's only this column that appears to be very untrustworthy, we will delete the column."
   ]
  },
  {
   "cell_type": "code",
   "execution_count": null,
   "id": "PfGu0tmr-UFR",
   "metadata": {
    "id": "PfGu0tmr-UFR"
   },
   "outputs": [],
   "source": [
    "products_cl = products.drop([\"promo_price\"], axis=1) #created a cleaned products file as products_cl"
   ]
  },
  {
   "cell_type": "code",
   "execution_count": null,
   "id": "42QFOsBy96zk",
   "metadata": {
    "id": "42QFOsBy96zk"
   },
   "outputs": [],
   "source": [
    "#other option for writing the same code:\n",
    "products_cl = products.drop(columns=[\"promo_price\"])"
   ]
  },
  {
   "cell_type": "code",
   "execution_count": null,
   "id": "FXhrTOdJB15T",
   "metadata": {
    "id": "FXhrTOdJB15T"
   },
   "outputs": [],
   "source": [
    "# To apply directly to the original dataframe, we need to indicate inplace = True.\n",
    "products.drop([\"promo_price\"], axis=1, inplace = True)"
   ]
  },
  {
   "cell_type": "markdown",
   "id": "O7MpHLLn-2ta",
   "metadata": {
    "id": "O7MpHLLn-2ta"
   },
   "source": [
    "## 3.4 Take a look at the expensive and cheap products"
   ]
  },
  {
   "cell_type": "code",
   "execution_count": null,
   "id": "BJqMsFIn3G1K",
   "metadata": {
    "colab": {
     "base_uri": "https://localhost:8080/",
     "height": 337
    },
    "executionInfo": {
     "elapsed": 10,
     "status": "ok",
     "timestamp": 1675959744684,
     "user": {
      "displayName": "Crystal",
      "userId": "14619037572832113319"
     },
     "user_tz": -60
    },
    "id": "BJqMsFIn3G1K",
    "outputId": "24ff11a0-5e66-4c27-8241-7f6f42ffdd19"
   },
   "outputs": [
    {
     "data": {
      "text/html": [
       "\n",
       "  <div id=\"df-acea8f54-aa36-475c-9060-8b9e9d3005a3\">\n",
       "    <div class=\"colab-df-container\">\n",
       "      <div>\n",
       "<style scoped>\n",
       "    .dataframe tbody tr th:only-of-type {\n",
       "        vertical-align: middle;\n",
       "    }\n",
       "\n",
       "    .dataframe tbody tr th {\n",
       "        vertical-align: top;\n",
       "    }\n",
       "\n",
       "    .dataframe thead th {\n",
       "        text-align: right;\n",
       "    }\n",
       "</style>\n",
       "<table border=\"1\" class=\"dataframe\">\n",
       "  <thead>\n",
       "    <tr style=\"text-align: right;\">\n",
       "      <th></th>\n",
       "      <th>sku</th>\n",
       "      <th>name</th>\n",
       "      <th>desc</th>\n",
       "      <th>price</th>\n",
       "      <th>in_stock</th>\n",
       "      <th>type</th>\n",
       "    </tr>\n",
       "  </thead>\n",
       "  <tbody>\n",
       "    <tr>\n",
       "      <th>18429</th>\n",
       "      <td>APP2660</td>\n",
       "      <td>Apple iMac Pro 27 \"18-core Intel Xeon W 23GHz ...</td>\n",
       "      <td>Pro iMac 27 inch screen Retina 5K and Intel Xe...</td>\n",
       "      <td>15339.0</td>\n",
       "      <td>0</td>\n",
       "      <td>118692158</td>\n",
       "    </tr>\n",
       "    <tr>\n",
       "      <th>18465</th>\n",
       "      <td>APP2696</td>\n",
       "      <td>Apple iMac Pro 27 \"18-core Intel Xeon W 23GHz ...</td>\n",
       "      <td>Pro iMac 27 inch screen Retina 5K and Intel Xe...</td>\n",
       "      <td>14619.0</td>\n",
       "      <td>0</td>\n",
       "      <td>118692158</td>\n",
       "    </tr>\n",
       "    <tr>\n",
       "      <th>18428</th>\n",
       "      <td>APP2659</td>\n",
       "      <td>Apple iMac Pro 27 \"14-core Intel Xeon W 25GHz ...</td>\n",
       "      <td>Pro iMac 27 inch screen Retina 5K and Intel Xe...</td>\n",
       "      <td>14379.0</td>\n",
       "      <td>0</td>\n",
       "      <td>118692158</td>\n",
       "    </tr>\n",
       "    <tr>\n",
       "      <th>18464</th>\n",
       "      <td>APP2695</td>\n",
       "      <td>Apple iMac Pro 27 \"14-core Intel Xeon W 25GHz ...</td>\n",
       "      <td>Pro iMac 27 inch screen Retina 5K and Intel Xe...</td>\n",
       "      <td>13659.0</td>\n",
       "      <td>0</td>\n",
       "      <td>118692158</td>\n",
       "    </tr>\n",
       "    <tr>\n",
       "      <th>18425</th>\n",
       "      <td>APP2656</td>\n",
       "      <td>Apple iMac Pro 27 \"18-core Intel Xeon W 23GHz ...</td>\n",
       "      <td>Pro iMac 27 inch screen Retina 5K and Intel Xe...</td>\n",
       "      <td>13419.0</td>\n",
       "      <td>0</td>\n",
       "      <td>118692158</td>\n",
       "    </tr>\n",
       "  </tbody>\n",
       "</table>\n",
       "</div>\n",
       "      <button class=\"colab-df-convert\" onclick=\"convertToInteractive('df-acea8f54-aa36-475c-9060-8b9e9d3005a3')\"\n",
       "              title=\"Convert this dataframe to an interactive table.\"\n",
       "              style=\"display:none;\">\n",
       "        \n",
       "  <svg xmlns=\"http://www.w3.org/2000/svg\" height=\"24px\"viewBox=\"0 0 24 24\"\n",
       "       width=\"24px\">\n",
       "    <path d=\"M0 0h24v24H0V0z\" fill=\"none\"/>\n",
       "    <path d=\"M18.56 5.44l.94 2.06.94-2.06 2.06-.94-2.06-.94-.94-2.06-.94 2.06-2.06.94zm-11 1L8.5 8.5l.94-2.06 2.06-.94-2.06-.94L8.5 2.5l-.94 2.06-2.06.94zm10 10l.94 2.06.94-2.06 2.06-.94-2.06-.94-.94-2.06-.94 2.06-2.06.94z\"/><path d=\"M17.41 7.96l-1.37-1.37c-.4-.4-.92-.59-1.43-.59-.52 0-1.04.2-1.43.59L10.3 9.45l-7.72 7.72c-.78.78-.78 2.05 0 2.83L4 21.41c.39.39.9.59 1.41.59.51 0 1.02-.2 1.41-.59l7.78-7.78 2.81-2.81c.8-.78.8-2.07 0-2.86zM5.41 20L4 18.59l7.72-7.72 1.47 1.35L5.41 20z\"/>\n",
       "  </svg>\n",
       "      </button>\n",
       "      \n",
       "  <style>\n",
       "    .colab-df-container {\n",
       "      display:flex;\n",
       "      flex-wrap:wrap;\n",
       "      gap: 12px;\n",
       "    }\n",
       "\n",
       "    .colab-df-convert {\n",
       "      background-color: #E8F0FE;\n",
       "      border: none;\n",
       "      border-radius: 50%;\n",
       "      cursor: pointer;\n",
       "      display: none;\n",
       "      fill: #1967D2;\n",
       "      height: 32px;\n",
       "      padding: 0 0 0 0;\n",
       "      width: 32px;\n",
       "    }\n",
       "\n",
       "    .colab-df-convert:hover {\n",
       "      background-color: #E2EBFA;\n",
       "      box-shadow: 0px 1px 2px rgba(60, 64, 67, 0.3), 0px 1px 3px 1px rgba(60, 64, 67, 0.15);\n",
       "      fill: #174EA6;\n",
       "    }\n",
       "\n",
       "    [theme=dark] .colab-df-convert {\n",
       "      background-color: #3B4455;\n",
       "      fill: #D2E3FC;\n",
       "    }\n",
       "\n",
       "    [theme=dark] .colab-df-convert:hover {\n",
       "      background-color: #434B5C;\n",
       "      box-shadow: 0px 1px 3px 1px rgba(0, 0, 0, 0.15);\n",
       "      filter: drop-shadow(0px 1px 2px rgba(0, 0, 0, 0.3));\n",
       "      fill: #FFFFFF;\n",
       "    }\n",
       "  </style>\n",
       "\n",
       "      <script>\n",
       "        const buttonEl =\n",
       "          document.querySelector('#df-acea8f54-aa36-475c-9060-8b9e9d3005a3 button.colab-df-convert');\n",
       "        buttonEl.style.display =\n",
       "          google.colab.kernel.accessAllowed ? 'block' : 'none';\n",
       "\n",
       "        async function convertToInteractive(key) {\n",
       "          const element = document.querySelector('#df-acea8f54-aa36-475c-9060-8b9e9d3005a3');\n",
       "          const dataTable =\n",
       "            await google.colab.kernel.invokeFunction('convertToInteractive',\n",
       "                                                     [key], {});\n",
       "          if (!dataTable) return;\n",
       "\n",
       "          const docLinkHtml = 'Like what you see? Visit the ' +\n",
       "            '<a target=\"_blank\" href=https://colab.research.google.com/notebooks/data_table.ipynb>data table notebook</a>'\n",
       "            + ' to learn more about interactive tables.';\n",
       "          element.innerHTML = '';\n",
       "          dataTable['output_type'] = 'display_data';\n",
       "          await google.colab.output.renderOutput(dataTable, element);\n",
       "          const docLink = document.createElement('div');\n",
       "          docLink.innerHTML = docLinkHtml;\n",
       "          element.appendChild(docLink);\n",
       "        }\n",
       "      </script>\n",
       "    </div>\n",
       "  </div>\n",
       "  "
      ],
      "text/plain": [
       "           sku                                               name  \\\n",
       "18429  APP2660  Apple iMac Pro 27 \"18-core Intel Xeon W 23GHz ...   \n",
       "18465  APP2696  Apple iMac Pro 27 \"18-core Intel Xeon W 23GHz ...   \n",
       "18428  APP2659  Apple iMac Pro 27 \"14-core Intel Xeon W 25GHz ...   \n",
       "18464  APP2695  Apple iMac Pro 27 \"14-core Intel Xeon W 25GHz ...   \n",
       "18425  APP2656  Apple iMac Pro 27 \"18-core Intel Xeon W 23GHz ...   \n",
       "\n",
       "                                                    desc    price  in_stock  \\\n",
       "18429  Pro iMac 27 inch screen Retina 5K and Intel Xe...  15339.0         0   \n",
       "18465  Pro iMac 27 inch screen Retina 5K and Intel Xe...  14619.0         0   \n",
       "18428  Pro iMac 27 inch screen Retina 5K and Intel Xe...  14379.0         0   \n",
       "18464  Pro iMac 27 inch screen Retina 5K and Intel Xe...  13659.0         0   \n",
       "18425  Pro iMac 27 inch screen Retina 5K and Intel Xe...  13419.0         0   \n",
       "\n",
       "            type  \n",
       "18429  118692158  \n",
       "18465  118692158  \n",
       "18428  118692158  \n",
       "18464  118692158  \n",
       "18425  118692158  "
      ]
     },
     "execution_count": 152,
     "metadata": {},
     "output_type": "execute_result"
    }
   ],
   "source": [
    "products_cl.nlargest(5, \"price\")"
   ]
  },
  {
   "cell_type": "code",
   "execution_count": null,
   "id": "MskkIhU_3G1L",
   "metadata": {
    "colab": {
     "base_uri": "https://localhost:8080/",
     "height": 337
    },
    "executionInfo": {
     "elapsed": 6,
     "status": "ok",
     "timestamp": 1675959752842,
     "user": {
      "displayName": "Crystal",
      "userId": "14619037572832113319"
     },
     "user_tz": -60
    },
    "id": "MskkIhU_3G1L",
    "outputId": "6232908b-9d51-480a-9dcc-80933831abbe"
   },
   "outputs": [
    {
     "data": {
      "text/html": [
       "\n",
       "  <div id=\"df-7a08f91a-08e6-498d-98c9-94c59a46d5f2\">\n",
       "    <div class=\"colab-df-container\">\n",
       "      <div>\n",
       "<style scoped>\n",
       "    .dataframe tbody tr th:only-of-type {\n",
       "        vertical-align: middle;\n",
       "    }\n",
       "\n",
       "    .dataframe tbody tr th {\n",
       "        vertical-align: top;\n",
       "    }\n",
       "\n",
       "    .dataframe thead th {\n",
       "        text-align: right;\n",
       "    }\n",
       "</style>\n",
       "<table border=\"1\" class=\"dataframe\">\n",
       "  <thead>\n",
       "    <tr style=\"text-align: right;\">\n",
       "      <th></th>\n",
       "      <th>sku</th>\n",
       "      <th>name</th>\n",
       "      <th>desc</th>\n",
       "      <th>price</th>\n",
       "      <th>in_stock</th>\n",
       "      <th>type</th>\n",
       "    </tr>\n",
       "  </thead>\n",
       "  <tbody>\n",
       "    <tr>\n",
       "      <th>1310</th>\n",
       "      <td>PAR0037</td>\n",
       "      <td>Upper body MiniDrone Parrot Jumping Sumo White</td>\n",
       "      <td>MiniDrone upper body Sumo Jumping.</td>\n",
       "      <td>2.99</td>\n",
       "      <td>0</td>\n",
       "      <td>11905404</td>\n",
       "    </tr>\n",
       "    <tr>\n",
       "      <th>2362</th>\n",
       "      <td>IFX0017</td>\n",
       "      <td>iFixit SIM Card Eject Tool for iPhone and iPad</td>\n",
       "      <td>Tool for easy removal of the SIM card for iPho...</td>\n",
       "      <td>2.99</td>\n",
       "      <td>1</td>\n",
       "      <td>12645406</td>\n",
       "    </tr>\n",
       "    <tr>\n",
       "      <th>18821</th>\n",
       "      <td>DOD0015</td>\n",
       "      <td>Dodocool Antideslizantes Replacement Cases for...</td>\n",
       "      <td>slip silicone case that enhance comfort and st...</td>\n",
       "      <td>3.49</td>\n",
       "      <td>0</td>\n",
       "      <td>5384</td>\n",
       "    </tr>\n",
       "    <tr>\n",
       "      <th>2829</th>\n",
       "      <td>LEX0009</td>\n",
       "      <td>Memory Card Lexar microSDHC Class 10 | 8GB wit...</td>\n",
       "      <td>Memory Card 8GB microSDHC Class 10 speed 45MB ...</td>\n",
       "      <td>3.79</td>\n",
       "      <td>0</td>\n",
       "      <td>57445397</td>\n",
       "    </tr>\n",
       "    <tr>\n",
       "      <th>35</th>\n",
       "      <td>BEL0072</td>\n",
       "      <td>Belkin PRO Series USB 2.0 Cable 18M</td>\n",
       "      <td>USB Cable USB type A and type B 18m in length ...</td>\n",
       "      <td>3.99</td>\n",
       "      <td>1</td>\n",
       "      <td>1325</td>\n",
       "    </tr>\n",
       "  </tbody>\n",
       "</table>\n",
       "</div>\n",
       "      <button class=\"colab-df-convert\" onclick=\"convertToInteractive('df-7a08f91a-08e6-498d-98c9-94c59a46d5f2')\"\n",
       "              title=\"Convert this dataframe to an interactive table.\"\n",
       "              style=\"display:none;\">\n",
       "        \n",
       "  <svg xmlns=\"http://www.w3.org/2000/svg\" height=\"24px\"viewBox=\"0 0 24 24\"\n",
       "       width=\"24px\">\n",
       "    <path d=\"M0 0h24v24H0V0z\" fill=\"none\"/>\n",
       "    <path d=\"M18.56 5.44l.94 2.06.94-2.06 2.06-.94-2.06-.94-.94-2.06-.94 2.06-2.06.94zm-11 1L8.5 8.5l.94-2.06 2.06-.94-2.06-.94L8.5 2.5l-.94 2.06-2.06.94zm10 10l.94 2.06.94-2.06 2.06-.94-2.06-.94-.94-2.06-.94 2.06-2.06.94z\"/><path d=\"M17.41 7.96l-1.37-1.37c-.4-.4-.92-.59-1.43-.59-.52 0-1.04.2-1.43.59L10.3 9.45l-7.72 7.72c-.78.78-.78 2.05 0 2.83L4 21.41c.39.39.9.59 1.41.59.51 0 1.02-.2 1.41-.59l7.78-7.78 2.81-2.81c.8-.78.8-2.07 0-2.86zM5.41 20L4 18.59l7.72-7.72 1.47 1.35L5.41 20z\"/>\n",
       "  </svg>\n",
       "      </button>\n",
       "      \n",
       "  <style>\n",
       "    .colab-df-container {\n",
       "      display:flex;\n",
       "      flex-wrap:wrap;\n",
       "      gap: 12px;\n",
       "    }\n",
       "\n",
       "    .colab-df-convert {\n",
       "      background-color: #E8F0FE;\n",
       "      border: none;\n",
       "      border-radius: 50%;\n",
       "      cursor: pointer;\n",
       "      display: none;\n",
       "      fill: #1967D2;\n",
       "      height: 32px;\n",
       "      padding: 0 0 0 0;\n",
       "      width: 32px;\n",
       "    }\n",
       "\n",
       "    .colab-df-convert:hover {\n",
       "      background-color: #E2EBFA;\n",
       "      box-shadow: 0px 1px 2px rgba(60, 64, 67, 0.3), 0px 1px 3px 1px rgba(60, 64, 67, 0.15);\n",
       "      fill: #174EA6;\n",
       "    }\n",
       "\n",
       "    [theme=dark] .colab-df-convert {\n",
       "      background-color: #3B4455;\n",
       "      fill: #D2E3FC;\n",
       "    }\n",
       "\n",
       "    [theme=dark] .colab-df-convert:hover {\n",
       "      background-color: #434B5C;\n",
       "      box-shadow: 0px 1px 3px 1px rgba(0, 0, 0, 0.15);\n",
       "      filter: drop-shadow(0px 1px 2px rgba(0, 0, 0, 0.3));\n",
       "      fill: #FFFFFF;\n",
       "    }\n",
       "  </style>\n",
       "\n",
       "      <script>\n",
       "        const buttonEl =\n",
       "          document.querySelector('#df-7a08f91a-08e6-498d-98c9-94c59a46d5f2 button.colab-df-convert');\n",
       "        buttonEl.style.display =\n",
       "          google.colab.kernel.accessAllowed ? 'block' : 'none';\n",
       "\n",
       "        async function convertToInteractive(key) {\n",
       "          const element = document.querySelector('#df-7a08f91a-08e6-498d-98c9-94c59a46d5f2');\n",
       "          const dataTable =\n",
       "            await google.colab.kernel.invokeFunction('convertToInteractive',\n",
       "                                                     [key], {});\n",
       "          if (!dataTable) return;\n",
       "\n",
       "          const docLinkHtml = 'Like what you see? Visit the ' +\n",
       "            '<a target=\"_blank\" href=https://colab.research.google.com/notebooks/data_table.ipynb>data table notebook</a>'\n",
       "            + ' to learn more about interactive tables.';\n",
       "          element.innerHTML = '';\n",
       "          dataTable['output_type'] = 'display_data';\n",
       "          await google.colab.output.renderOutput(dataTable, element);\n",
       "          const docLink = document.createElement('div');\n",
       "          docLink.innerHTML = docLinkHtml;\n",
       "          element.appendChild(docLink);\n",
       "        }\n",
       "      </script>\n",
       "    </div>\n",
       "  </div>\n",
       "  "
      ],
      "text/plain": [
       "           sku                                               name  \\\n",
       "1310   PAR0037     Upper body MiniDrone Parrot Jumping Sumo White   \n",
       "2362   IFX0017     iFixit SIM Card Eject Tool for iPhone and iPad   \n",
       "18821  DOD0015  Dodocool Antideslizantes Replacement Cases for...   \n",
       "2829   LEX0009  Memory Card Lexar microSDHC Class 10 | 8GB wit...   \n",
       "35     BEL0072                Belkin PRO Series USB 2.0 Cable 18M   \n",
       "\n",
       "                                                    desc  price  in_stock  \\\n",
       "1310                  MiniDrone upper body Sumo Jumping.   2.99         0   \n",
       "2362   Tool for easy removal of the SIM card for iPho...   2.99         1   \n",
       "18821  slip silicone case that enhance comfort and st...   3.49         0   \n",
       "2829   Memory Card 8GB microSDHC Class 10 speed 45MB ...   3.79         0   \n",
       "35     USB Cable USB type A and type B 18m in length ...   3.99         1   \n",
       "\n",
       "           type  \n",
       "1310   11905404  \n",
       "2362   12645406  \n",
       "18821      5384  \n",
       "2829   57445397  \n",
       "35         1325  "
      ]
     },
     "execution_count": 153,
     "metadata": {},
     "output_type": "execute_result"
    }
   ],
   "source": [
    "products_cl.nsmallest(5, \"price\")"
   ]
  },
  {
   "cell_type": "markdown",
   "id": "wlpczyB-CPH9",
   "metadata": {
    "id": "wlpczyB-CPH9"
   },
   "source": [
    "Don't forget to download/save your new DataFrames. Also, give them an obvious name, so that you know they are the cleaned version and not the original DataFrame."
   ]
  },
  {
   "cell_type": "code",
   "execution_count": null,
   "id": "z7prVCC0XFuQ",
   "metadata": {
    "colab": {
     "base_uri": "https://localhost:8080/",
     "height": 17
    },
    "executionInfo": {
     "elapsed": 435,
     "status": "ok",
     "timestamp": 1675960598497,
     "user": {
      "displayName": "Crystal",
      "userId": "14619037572832113319"
     },
     "user_tz": -60
    },
    "id": "z7prVCC0XFuQ",
    "outputId": "a320adee-3b7a-45af-c666-5cca066a5d82"
   },
   "outputs": [
    {
     "data": {
      "application/javascript": [
       "\n",
       "    async function download(id, filename, size) {\n",
       "      if (!google.colab.kernel.accessAllowed) {\n",
       "        return;\n",
       "      }\n",
       "      const div = document.createElement('div');\n",
       "      const label = document.createElement('label');\n",
       "      label.textContent = `Downloading \"${filename}\": `;\n",
       "      div.appendChild(label);\n",
       "      const progress = document.createElement('progress');\n",
       "      progress.max = size;\n",
       "      div.appendChild(progress);\n",
       "      document.body.appendChild(div);\n",
       "\n",
       "      const buffers = [];\n",
       "      let downloaded = 0;\n",
       "\n",
       "      const channel = await google.colab.kernel.comms.open(id);\n",
       "      // Send a message to notify the kernel that we're ready.\n",
       "      channel.send({})\n",
       "\n",
       "      for await (const message of channel.messages) {\n",
       "        // Send a message to notify the kernel that we're ready.\n",
       "        channel.send({})\n",
       "        if (message.buffers) {\n",
       "          for (const buffer of message.buffers) {\n",
       "            buffers.push(buffer);\n",
       "            downloaded += buffer.byteLength;\n",
       "            progress.value = downloaded;\n",
       "          }\n",
       "        }\n",
       "      }\n",
       "      const blob = new Blob(buffers, {type: 'application/binary'});\n",
       "      const a = document.createElement('a');\n",
       "      a.href = window.URL.createObjectURL(blob);\n",
       "      a.download = filename;\n",
       "      div.appendChild(a);\n",
       "      a.click();\n",
       "      div.remove();\n",
       "    }\n",
       "  "
      ],
      "text/plain": [
       "<IPython.core.display.Javascript object>"
      ]
     },
     "metadata": {},
     "output_type": "display_data"
    },
    {
     "data": {
      "application/javascript": [
       "download(\"download_f6005871-b3e7-482d-a821-23ec7ea8bf51\", \"products_cl.csv\", 1416132)"
      ],
      "text/plain": [
       "<IPython.core.display.Javascript object>"
      ]
     },
     "metadata": {},
     "output_type": "display_data"
    }
   ],
   "source": [
    "from google.colab import files\n",
    "products_cl.to_csv(\"products_cl.csv\", index=False)\n",
    "files.download(\"products_cl.csv\")"
   ]
  },
  {
   "cell_type": "code",
   "execution_count": null,
   "id": "YXlLQMZYCTr-",
   "metadata": {
    "id": "YXlLQMZYCTr-"
   },
   "outputs": [],
   "source": []
  }
 ],
 "metadata": {
  "colab": {
   "provenance": [
    {
     "file_id": "1yha4wb3hywOsU6rjrfQRO3VGEvWBJtjQ",
     "timestamp": 1675848174647
    },
    {
     "file_id": "1hFHSEy_blfgjYkBcOjdoIypFvtKvK_NP",
     "timestamp": 1661242512128
    },
    {
     "file_id": "1fyzS1d-AnL48uaXyCfIUF_0WdBZkckDd",
     "timestamp": 1658822216180
    }
   ],
   "toc_visible": true
  },
  "kernelspec": {
   "display_name": "Python 3 (ipykernel)",
   "language": "python",
   "name": "python3"
  },
  "language_info": {
   "codemirror_mode": {
    "name": "ipython",
    "version": 3
   },
   "file_extension": ".py",
   "mimetype": "text/x-python",
   "name": "python",
   "nbconvert_exporter": "python",
   "pygments_lexer": "ipython3",
   "version": "3.9.16"
  }
 },
 "nbformat": 4,
 "nbformat_minor": 5
}
