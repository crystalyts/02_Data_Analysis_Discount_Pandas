{
 "cells": [
  {
   "cell_type": "markdown",
   "metadata": {
    "id": "aSm5aaRLtFLx"
   },
   "source": [
    "# Quality Assessment"
   ]
  },
  {
   "cell_type": "code",
   "execution_count": null,
   "metadata": {
    "id": "Lq7zsZka4q2m"
   },
   "outputs": [],
   "source": [
    "import pandas as pd"
   ]
  },
  {
   "cell_type": "markdown",
   "metadata": {
    "id": "hzwXSr-xfh97"
   },
   "source": [
    "Load our cleaned DataFrames"
   ]
  },
  {
   "cell_type": "code",
   "execution_count": null,
   "metadata": {
    "id": "30IJsE7t49Eu"
   },
   "outputs": [],
   "source": [
    "# orders_cl.csv\n",
    "url = \"https://drive.google.com/file/d/1Tla62vfu__kCqvgypZyVt2S9VuC016yH/view?usp=sharing\" \n",
    "path = \"https://drive.google.com/uc?export=download&id=\"+url.split(\"/\")[-2]\n",
    "orders_cl = pd.read_csv(path)\n",
    "\n",
    "# orderlines_cl.csv\n",
    "url = \"https://drive.google.com/file/d/1OhtkQS2fwOYdzfd-qPh7im35iLc-L9TA/view?usp=sharing\" \n",
    "path = \"https://drive.google.com/uc?export=download&id=\"+url.split(\"/\")[-2]\n",
    "orderlines_cl = pd.read_csv(path)\n",
    "\n",
    "# products_cl.csv\n",
    "url = \"https://drive.google.com/file/d/1s7Lai4NSlsYjGEPg1QSOUJobNYVsZBOJ/view?usp=sharing\" \n",
    "path = \"https://drive.google.com/uc?export=download&id=\"+url.split(\"/\")[-2]\n",
    "products_cl = pd.read_csv(path)"
   ]
  },
  {
   "cell_type": "markdown",
   "metadata": {
    "id": "GjQD8WPe6h0i"
   },
   "source": [
    "## 1.&nbsp; Define Pandas display format"
   ]
  },
  {
   "cell_type": "code",
   "execution_count": null,
   "metadata": {
    "id": "SLikKmNx4WNo"
   },
   "outputs": [],
   "source": [
    "#pd.set_option(\"display.float_format\", lambda x: \"%.2f\" % x)\n",
    "pd.set_option(\"display.max_rows\", 1000)"
   ]
  },
  {
   "cell_type": "markdown",
   "metadata": {
    "id": "M0NhTKzF6jV4"
   },
   "source": [
    "## 2.&nbsp; Exclude unwanted orders"
   ]
  },
  {
   "cell_type": "markdown",
   "metadata": {
    "id": "EKolLICj68Ai"
   },
   "source": [
    "### Include only acual purchases\n",
    "No `shopping cart`, `cancelled` etc..."
   ]
  },
  {
   "cell_type": "markdown",
   "metadata": {
    "id": "i81Z74PVfpWt"
   },
   "source": [
    "Let's create a copy of the `orders_cl` DataFrame, to make sure any of our changes won't affect the original DataFrame."
   ]
  },
  {
   "cell_type": "code",
   "execution_count": null,
   "metadata": {
    "id": "tl7AzGxuQTvz"
   },
   "outputs": [],
   "source": [
    "actual_purchases_df = orders_cl.copy()"
   ]
  },
  {
   "cell_type": "markdown",
   "metadata": {
    "id": "22OkFav-9yKO"
   },
   "source": [
    "Let's look at the make up of `state`."
   ]
  },
  {
   "cell_type": "code",
   "execution_count": null,
   "metadata": {
    "colab": {
     "base_uri": "https://localhost:8080/"
    },
    "executionInfo": {
     "elapsed": 8,
     "status": "ok",
     "timestamp": 1676631153879,
     "user": {
      "displayName": "Crystal",
      "userId": "14619037572832113319"
     },
     "user_tz": -60
    },
    "id": "j_iNokEi9lsg",
    "outputId": "e61ab695-2eb6-4228-8c37-c13a91873448"
   },
   "outputs": [
    {
     "data": {
      "text/plain": [
       "Shopping Basket    117809\n",
       "Completed           46605\n",
       "Place Order         40883\n",
       "Pending             14374\n",
       "Cancelled            7233\n",
       "Name: state, dtype: int64"
      ]
     },
     "execution_count": 5,
     "metadata": {},
     "output_type": "execute_result"
    }
   ],
   "source": [
    "actual_purchases_df.state.value_counts()"
   ]
  },
  {
   "cell_type": "markdown",
   "metadata": {
    "id": "2CwFV85C9-YN"
   },
   "source": [
    "Seems like an ovewhelming amount of the orders are left in the shopping basket - something we'll have to analyse another time. For this task we're interested in only `completed` orders, so let's filter our DataFrame."
   ]
  },
  {
   "cell_type": "code",
   "execution_count": null,
   "metadata": {
    "id": "3_FDLqIH-eDl"
   },
   "outputs": [],
   "source": [
    "actual_purchases_df = actual_purchases_df.loc[actual_purchases_df['state'].isin([\"Completed\"]), :]"
   ]
  },
  {
   "cell_type": "markdown",
   "metadata": {
    "id": "_yoaGt0CgGL4"
   },
   "source": [
    "Next, we'll make a list of the `order_id`'s of the `Completed` orders."
   ]
  },
  {
   "cell_type": "code",
   "execution_count": null,
   "metadata": {
    "id": "eJgK6h68Qr8T"
   },
   "outputs": [],
   "source": [
    "actual_purchases_list = list(actual_purchases_df[\"order_id\"])"
   ]
  },
  {
   "cell_type": "markdown",
   "metadata": {
    "id": "OHpwu8YkgaWY"
   },
   "source": [
    "Now we can filter our cleaned DataFrames to include only the `order_id`'s in the list we just made. We'll also change the DataFrames from `_cl` to `_qu`, so we can distinguish between the data that has been cleaned, and that which has been quality controlled."
   ]
  },
  {
   "cell_type": "code",
   "execution_count": null,
   "metadata": {
    "id": "CYrDdG9bRCBS"
   },
   "outputs": [],
   "source": [
    "orders_qu = orders_cl.loc[orders_cl[\"order_id\"].isin(actual_purchases_df[\"order_id\"]), :].copy()"
   ]
  },
  {
   "cell_type": "code",
   "execution_count": null,
   "metadata": {
    "id": "odijtxrCRfAl"
   },
   "outputs": [],
   "source": [
    "orderlines_qu = orderlines_cl.loc[orderlines_cl[\"id_order\"].isin(actual_purchases_list), :].copy()"
   ]
  },
  {
   "cell_type": "markdown",
   "metadata": {
    "id": "Ihny8AC97HY9"
   },
   "source": [
    "### Keep only the orders that are present in both `orders` and `orderlines`\n",
    "Let's begin by looking if there's a big difference between the amount of orders present in `orders` and `orderlines`."
   ]
  },
  {
   "cell_type": "code",
   "execution_count": null,
   "metadata": {
    "colab": {
     "base_uri": "https://localhost:8080/"
    },
    "executionInfo": {
     "elapsed": 7,
     "status": "ok",
     "timestamp": 1676631154369,
     "user": {
      "displayName": "Crystal",
      "userId": "14619037572832113319"
     },
     "user_tz": -60
    },
    "id": "alpTEodZRxch",
    "outputId": "93ddcb1b-4ddc-4887-8389-291be94ecd65"
   },
   "outputs": [
    {
     "data": {
      "text/plain": [
       "46605"
      ]
     },
     "execution_count": 10,
     "metadata": {},
     "output_type": "execute_result"
    }
   ],
   "source": [
    "len(orders_qu.order_id.unique())"
   ]
  },
  {
   "cell_type": "code",
   "execution_count": null,
   "metadata": {
    "colab": {
     "base_uri": "https://localhost:8080/"
    },
    "executionInfo": {
     "elapsed": 6,
     "status": "ok",
     "timestamp": 1676631154370,
     "user": {
      "displayName": "Crystal",
      "userId": "14619037572832113319"
     },
     "user_tz": -60
    },
    "id": "R_SY0aGyR-1M",
    "outputId": "edcb4369-6699-40af-8cb4-b823ef96d1a7"
   },
   "outputs": [
    {
     "data": {
      "text/plain": [
       "43064"
      ]
     },
     "execution_count": 11,
     "metadata": {},
     "output_type": "execute_result"
    }
   ],
   "source": [
    "len(orderlines_qu.id_order.unique())"
   ]
  },
  {
   "cell_type": "markdown",
   "metadata": {
    "id": "SCsDt6sshN7g"
   },
   "source": [
    "Approximately 3000 difference!!! Let's fix that. We'll perform an inner merge on the two tables using the `order_id` & `id_order`. This will then keep only the `order_id`'s that are present in both tables, which will then help us filter our `_qu` DataFrames once again."
   ]
  },
  {
   "cell_type": "code",
   "execution_count": null,
   "metadata": {
    "id": "Ei4ZWuQbTDKV"
   },
   "outputs": [],
   "source": [
    "orders_lines_merged_df = orders_qu.merge(orderlines_qu, how=\"inner\", left_on=\"order_id\", right_on=\"id_order\")"
   ]
  },
  {
   "cell_type": "code",
   "execution_count": null,
   "metadata": {
    "colab": {
     "base_uri": "https://localhost:8080/",
     "height": 206
    },
    "executionInfo": {
     "elapsed": 7,
     "status": "ok",
     "timestamp": 1676631154707,
     "user": {
      "displayName": "Crystal",
      "userId": "14619037572832113319"
     },
     "user_tz": -60
    },
    "id": "SYW4w8hoOqU_",
    "outputId": "6543d41c-6fc2-4696-e649-5fbc3ca158d4"
   },
   "outputs": [
    {
     "data": {
      "text/html": [
       "\n",
       "  <div id=\"df-208e5336-fa6d-4338-a9ad-e0497005c8fd\">\n",
       "    <div class=\"colab-df-container\">\n",
       "      <div>\n",
       "<style scoped>\n",
       "    .dataframe tbody tr th:only-of-type {\n",
       "        vertical-align: middle;\n",
       "    }\n",
       "\n",
       "    .dataframe tbody tr th {\n",
       "        vertical-align: top;\n",
       "    }\n",
       "\n",
       "    .dataframe thead th {\n",
       "        text-align: right;\n",
       "    }\n",
       "</style>\n",
       "<table border=\"1\" class=\"dataframe\">\n",
       "  <thead>\n",
       "    <tr style=\"text-align: right;\">\n",
       "      <th></th>\n",
       "      <th>order_id</th>\n",
       "      <th>created_date</th>\n",
       "      <th>total_paid</th>\n",
       "      <th>state</th>\n",
       "      <th>id</th>\n",
       "      <th>id_order</th>\n",
       "      <th>product_id</th>\n",
       "      <th>product_quantity</th>\n",
       "      <th>sku</th>\n",
       "      <th>unit_price</th>\n",
       "      <th>date</th>\n",
       "    </tr>\n",
       "  </thead>\n",
       "  <tbody>\n",
       "    <tr>\n",
       "      <th>0</th>\n",
       "      <td>241423</td>\n",
       "      <td>2017-11-06 13:10:02</td>\n",
       "      <td>136.15</td>\n",
       "      <td>Completed</td>\n",
       "      <td>1398738</td>\n",
       "      <td>241423</td>\n",
       "      <td>0</td>\n",
       "      <td>1</td>\n",
       "      <td>LAC0212</td>\n",
       "      <td>129.16</td>\n",
       "      <td>2017-11-06 12:47:20</td>\n",
       "    </tr>\n",
       "    <tr>\n",
       "      <th>1</th>\n",
       "      <td>242832</td>\n",
       "      <td>2017-12-31 17:40:03</td>\n",
       "      <td>15.76</td>\n",
       "      <td>Completed</td>\n",
       "      <td>1529178</td>\n",
       "      <td>242832</td>\n",
       "      <td>0</td>\n",
       "      <td>1</td>\n",
       "      <td>PAR0074</td>\n",
       "      <td>10.77</td>\n",
       "      <td>2017-12-31 17:26:40</td>\n",
       "    </tr>\n",
       "    <tr>\n",
       "      <th>2</th>\n",
       "      <td>243330</td>\n",
       "      <td>2017-02-16 10:59:38</td>\n",
       "      <td>84.98</td>\n",
       "      <td>Completed</td>\n",
       "      <td>1181923</td>\n",
       "      <td>243330</td>\n",
       "      <td>0</td>\n",
       "      <td>1</td>\n",
       "      <td>OWC0074</td>\n",
       "      <td>77.99</td>\n",
       "      <td>2017-02-15 17:07:44</td>\n",
       "    </tr>\n",
       "    <tr>\n",
       "      <th>3</th>\n",
       "      <td>245275</td>\n",
       "      <td>2017-06-28 11:35:37</td>\n",
       "      <td>149.00</td>\n",
       "      <td>Completed</td>\n",
       "      <td>1276706</td>\n",
       "      <td>245275</td>\n",
       "      <td>0</td>\n",
       "      <td>1</td>\n",
       "      <td>TAD0007</td>\n",
       "      <td>149.00</td>\n",
       "      <td>2017-06-28 11:12:30</td>\n",
       "    </tr>\n",
       "    <tr>\n",
       "      <th>4</th>\n",
       "      <td>245595</td>\n",
       "      <td>2017-01-21 12:52:47</td>\n",
       "      <td>112.97</td>\n",
       "      <td>Completed</td>\n",
       "      <td>1154394</td>\n",
       "      <td>245595</td>\n",
       "      <td>0</td>\n",
       "      <td>2</td>\n",
       "      <td>PAC1561</td>\n",
       "      <td>52.99</td>\n",
       "      <td>2017-01-21 12:49:00</td>\n",
       "    </tr>\n",
       "  </tbody>\n",
       "</table>\n",
       "</div>\n",
       "      <button class=\"colab-df-convert\" onclick=\"convertToInteractive('df-208e5336-fa6d-4338-a9ad-e0497005c8fd')\"\n",
       "              title=\"Convert this dataframe to an interactive table.\"\n",
       "              style=\"display:none;\">\n",
       "        \n",
       "  <svg xmlns=\"http://www.w3.org/2000/svg\" height=\"24px\"viewBox=\"0 0 24 24\"\n",
       "       width=\"24px\">\n",
       "    <path d=\"M0 0h24v24H0V0z\" fill=\"none\"/>\n",
       "    <path d=\"M18.56 5.44l.94 2.06.94-2.06 2.06-.94-2.06-.94-.94-2.06-.94 2.06-2.06.94zm-11 1L8.5 8.5l.94-2.06 2.06-.94-2.06-.94L8.5 2.5l-.94 2.06-2.06.94zm10 10l.94 2.06.94-2.06 2.06-.94-2.06-.94-.94-2.06-.94 2.06-2.06.94z\"/><path d=\"M17.41 7.96l-1.37-1.37c-.4-.4-.92-.59-1.43-.59-.52 0-1.04.2-1.43.59L10.3 9.45l-7.72 7.72c-.78.78-.78 2.05 0 2.83L4 21.41c.39.39.9.59 1.41.59.51 0 1.02-.2 1.41-.59l7.78-7.78 2.81-2.81c.8-.78.8-2.07 0-2.86zM5.41 20L4 18.59l7.72-7.72 1.47 1.35L5.41 20z\"/>\n",
       "  </svg>\n",
       "      </button>\n",
       "      \n",
       "  <style>\n",
       "    .colab-df-container {\n",
       "      display:flex;\n",
       "      flex-wrap:wrap;\n",
       "      gap: 12px;\n",
       "    }\n",
       "\n",
       "    .colab-df-convert {\n",
       "      background-color: #E8F0FE;\n",
       "      border: none;\n",
       "      border-radius: 50%;\n",
       "      cursor: pointer;\n",
       "      display: none;\n",
       "      fill: #1967D2;\n",
       "      height: 32px;\n",
       "      padding: 0 0 0 0;\n",
       "      width: 32px;\n",
       "    }\n",
       "\n",
       "    .colab-df-convert:hover {\n",
       "      background-color: #E2EBFA;\n",
       "      box-shadow: 0px 1px 2px rgba(60, 64, 67, 0.3), 0px 1px 3px 1px rgba(60, 64, 67, 0.15);\n",
       "      fill: #174EA6;\n",
       "    }\n",
       "\n",
       "    [theme=dark] .colab-df-convert {\n",
       "      background-color: #3B4455;\n",
       "      fill: #D2E3FC;\n",
       "    }\n",
       "\n",
       "    [theme=dark] .colab-df-convert:hover {\n",
       "      background-color: #434B5C;\n",
       "      box-shadow: 0px 1px 3px 1px rgba(0, 0, 0, 0.15);\n",
       "      filter: drop-shadow(0px 1px 2px rgba(0, 0, 0, 0.3));\n",
       "      fill: #FFFFFF;\n",
       "    }\n",
       "  </style>\n",
       "\n",
       "      <script>\n",
       "        const buttonEl =\n",
       "          document.querySelector('#df-208e5336-fa6d-4338-a9ad-e0497005c8fd button.colab-df-convert');\n",
       "        buttonEl.style.display =\n",
       "          google.colab.kernel.accessAllowed ? 'block' : 'none';\n",
       "\n",
       "        async function convertToInteractive(key) {\n",
       "          const element = document.querySelector('#df-208e5336-fa6d-4338-a9ad-e0497005c8fd');\n",
       "          const dataTable =\n",
       "            await google.colab.kernel.invokeFunction('convertToInteractive',\n",
       "                                                     [key], {});\n",
       "          if (!dataTable) return;\n",
       "\n",
       "          const docLinkHtml = 'Like what you see? Visit the ' +\n",
       "            '<a target=\"_blank\" href=https://colab.research.google.com/notebooks/data_table.ipynb>data table notebook</a>'\n",
       "            + ' to learn more about interactive tables.';\n",
       "          element.innerHTML = '';\n",
       "          dataTable['output_type'] = 'display_data';\n",
       "          await google.colab.output.renderOutput(dataTable, element);\n",
       "          const docLink = document.createElement('div');\n",
       "          docLink.innerHTML = docLinkHtml;\n",
       "          element.appendChild(docLink);\n",
       "        }\n",
       "      </script>\n",
       "    </div>\n",
       "  </div>\n",
       "  "
      ],
      "text/plain": [
       "   order_id         created_date  total_paid      state       id  id_order  \\\n",
       "0    241423  2017-11-06 13:10:02      136.15  Completed  1398738    241423   \n",
       "1    242832  2017-12-31 17:40:03       15.76  Completed  1529178    242832   \n",
       "2    243330  2017-02-16 10:59:38       84.98  Completed  1181923    243330   \n",
       "3    245275  2017-06-28 11:35:37      149.00  Completed  1276706    245275   \n",
       "4    245595  2017-01-21 12:52:47      112.97  Completed  1154394    245595   \n",
       "\n",
       "   product_id  product_quantity      sku  unit_price                 date  \n",
       "0           0                 1  LAC0212      129.16  2017-11-06 12:47:20  \n",
       "1           0                 1  PAR0074       10.77  2017-12-31 17:26:40  \n",
       "2           0                 1  OWC0074       77.99  2017-02-15 17:07:44  \n",
       "3           0                 1  TAD0007      149.00  2017-06-28 11:12:30  \n",
       "4           0                 2  PAC1561       52.99  2017-01-21 12:49:00  "
      ]
     },
     "execution_count": 13,
     "metadata": {},
     "output_type": "execute_result"
    }
   ],
   "source": [
    "orders_lines_merged_df.head(5)"
   ]
  },
  {
   "cell_type": "code",
   "execution_count": null,
   "metadata": {
    "id": "j21RMJayTepy"
   },
   "outputs": [],
   "source": [
    "o_ids_in_both_list = list(orders_lines_merged_df[\"order_id\"].unique())"
   ]
  },
  {
   "cell_type": "code",
   "execution_count": null,
   "metadata": {
    "id": "fV0bEfqKWYbD"
   },
   "outputs": [],
   "source": [
    "orders_qu = orders_qu.loc[orders_qu[\"order_id\"].isin(o_ids_in_both_list), :]\n",
    "orderlines_qu = orderlines_qu.loc[orderlines_cl[\"id_order\"].isin(o_ids_in_both_list), :]"
   ]
  },
  {
   "cell_type": "code",
   "execution_count": null,
   "metadata": {
    "colab": {
     "base_uri": "https://localhost:8080/"
    },
    "executionInfo": {
     "elapsed": 7,
     "status": "ok",
     "timestamp": 1676631154709,
     "user": {
      "displayName": "Crystal",
      "userId": "14619037572832113319"
     },
     "user_tz": -60
    },
    "id": "PlRWs_FeIIBs",
    "outputId": "b6658a7a-ff27-45d5-8d1a-410a6a500820"
   },
   "outputs": [
    {
     "name": "stdout",
     "output_type": "stream",
     "text": [
      "orders_qu 43064 orderlines_qu 56714\n"
     ]
    }
   ],
   "source": [
    "print(f\"orders_qu {orders_qu.shape[0]} orderlines_qu {orderlines_qu.shape[0]}\")"
   ]
  },
  {
   "cell_type": "markdown",
   "metadata": {
    "id": "XSW2Js31kaRF"
   },
   "source": [
    "Let's have a quick check to make sure we're filtering both DataFrames the same. They should both contain the same number of unique `order_id`'s."
   ]
  },
  {
   "cell_type": "code",
   "execution_count": null,
   "metadata": {
    "colab": {
     "base_uri": "https://localhost:8080/"
    },
    "executionInfo": {
     "elapsed": 6,
     "status": "ok",
     "timestamp": 1676631154709,
     "user": {
      "displayName": "Crystal",
      "userId": "14619037572832113319"
     },
     "user_tz": -60
    },
    "id": "ja0XpsDDkZrT",
    "outputId": "79c9e430-21f8-4fa1-a7b4-17c1bcfd6fc3"
   },
   "outputs": [
    {
     "data": {
      "text/plain": [
       "(43064, 43064)"
      ]
     },
     "execution_count": 17,
     "metadata": {},
     "output_type": "execute_result"
    }
   ],
   "source": [
    "len(orders_qu[\"order_id\"].unique()), len(orderlines_qu[\"id_order\"].unique())"
   ]
  },
  {
   "cell_type": "code",
   "execution_count": null,
   "metadata": {
    "colab": {
     "base_uri": "https://localhost:8080/"
    },
    "executionInfo": {
     "elapsed": 520,
     "status": "ok",
     "timestamp": 1676631155224,
     "user": {
      "displayName": "Crystal",
      "userId": "14619037572832113319"
     },
     "user_tz": -60
    },
    "id": "d86A0t4bOYSU",
    "outputId": "4f50c09b-85fb-41f2-eae2-787b84eef00d"
   },
   "outputs": [
    {
     "name": "stdout",
     "output_type": "stream",
     "text": [
      "<class 'pandas.core.frame.DataFrame'>\n",
      "Int64Index: 56714 entries, 6 to 215949\n",
      "Data columns (total 7 columns):\n",
      " #   Column            Non-Null Count  Dtype  \n",
      "---  ------            --------------  -----  \n",
      " 0   id                56714 non-null  int64  \n",
      " 1   id_order          56714 non-null  int64  \n",
      " 2   product_id        56714 non-null  int64  \n",
      " 3   product_quantity  56714 non-null  int64  \n",
      " 4   sku               56714 non-null  object \n",
      " 5   unit_price        56714 non-null  float64\n",
      " 6   date              56714 non-null  object \n",
      "dtypes: float64(1), int64(4), object(2)\n",
      "memory usage: 3.5+ MB\n"
     ]
    }
   ],
   "source": [
    "orderlines_qu.info()"
   ]
  },
  {
   "cell_type": "code",
   "execution_count": null,
   "metadata": {
    "colab": {
     "base_uri": "https://localhost:8080/"
    },
    "executionInfo": {
     "elapsed": 8,
     "status": "ok",
     "timestamp": 1676631155224,
     "user": {
      "displayName": "Crystal",
      "userId": "14619037572832113319"
     },
     "user_tz": -60
    },
    "id": "2robl94OOTC6",
    "outputId": "a55465a6-985d-4580-d6a8-da6fc6e077d6"
   },
   "outputs": [
    {
     "name": "stdout",
     "output_type": "stream",
     "text": [
      "<class 'pandas.core.frame.DataFrame'>\n",
      "Int64Index: 43064 entries, 1 to 226614\n",
      "Data columns (total 4 columns):\n",
      " #   Column        Non-Null Count  Dtype  \n",
      "---  ------        --------------  -----  \n",
      " 0   order_id      43064 non-null  int64  \n",
      " 1   created_date  43064 non-null  object \n",
      " 2   total_paid    43064 non-null  float64\n",
      " 3   state         43064 non-null  object \n",
      "dtypes: float64(1), int64(1), object(2)\n",
      "memory usage: 1.6+ MB\n"
     ]
    }
   ],
   "source": [
    "orders_qu.info()"
   ]
  },
  {
   "cell_type": "markdown",
   "metadata": {
    "id": "F-rtzwAn7WyS"
   },
   "source": [
    "## 3.&nbsp; Exclude orders with unknown products\n",
    "Let's start by making a list of known products."
   ]
  },
  {
   "cell_type": "code",
   "execution_count": null,
   "metadata": {
    "colab": {
     "base_uri": "https://localhost:8080/",
     "height": 363
    },
    "executionInfo": {
     "elapsed": 7,
     "status": "ok",
     "timestamp": 1676631155224,
     "user": {
      "displayName": "Crystal",
      "userId": "14619037572832113319"
     },
     "user_tz": -60
    },
    "id": "b-Wysn1JaTU0",
    "outputId": "061fad71-32a7-4ac8-827f-47cc6c94721f"
   },
   "outputs": [
    {
     "data": {
      "text/html": [
       "\n",
       "  <div id=\"df-ea61e65a-9500-4851-9345-63ada547a23a\">\n",
       "    <div class=\"colab-df-container\">\n",
       "      <div>\n",
       "<style scoped>\n",
       "    .dataframe tbody tr th:only-of-type {\n",
       "        vertical-align: middle;\n",
       "    }\n",
       "\n",
       "    .dataframe tbody tr th {\n",
       "        vertical-align: top;\n",
       "    }\n",
       "\n",
       "    .dataframe thead th {\n",
       "        text-align: right;\n",
       "    }\n",
       "</style>\n",
       "<table border=\"1\" class=\"dataframe\">\n",
       "  <thead>\n",
       "    <tr style=\"text-align: right;\">\n",
       "      <th></th>\n",
       "      <th>sku</th>\n",
       "      <th>name</th>\n",
       "      <th>desc</th>\n",
       "      <th>price</th>\n",
       "      <th>in_stock</th>\n",
       "      <th>type</th>\n",
       "    </tr>\n",
       "  </thead>\n",
       "  <tbody>\n",
       "    <tr>\n",
       "      <th>0</th>\n",
       "      <td>RAI0007</td>\n",
       "      <td>Silver Rain Design mStand Support</td>\n",
       "      <td>Aluminum support compatible with all MacBook</td>\n",
       "      <td>59.99</td>\n",
       "      <td>1</td>\n",
       "      <td>8696</td>\n",
       "    </tr>\n",
       "    <tr>\n",
       "      <th>1</th>\n",
       "      <td>APP0023</td>\n",
       "      <td>Apple Mac Keyboard Keypad Spanish</td>\n",
       "      <td>USB ultrathin keyboard Apple Mac Spanish.</td>\n",
       "      <td>59.00</td>\n",
       "      <td>0</td>\n",
       "      <td>13855401</td>\n",
       "    </tr>\n",
       "    <tr>\n",
       "      <th>2</th>\n",
       "      <td>APP0025</td>\n",
       "      <td>Mighty Mouse Apple Mouse for Mac</td>\n",
       "      <td>mouse Apple USB cable.</td>\n",
       "      <td>59.00</td>\n",
       "      <td>0</td>\n",
       "      <td>1387</td>\n",
       "    </tr>\n",
       "    <tr>\n",
       "      <th>3</th>\n",
       "      <td>APP0072</td>\n",
       "      <td>Apple Dock to USB Cable iPhone and iPod white</td>\n",
       "      <td>IPhone dock and USB Cable Apple iPod.</td>\n",
       "      <td>25.00</td>\n",
       "      <td>0</td>\n",
       "      <td>1230</td>\n",
       "    </tr>\n",
       "    <tr>\n",
       "      <th>4</th>\n",
       "      <td>KIN0007</td>\n",
       "      <td>Mac Memory Kingston 2GB 667MHz DDR2 SO-DIMM</td>\n",
       "      <td>2GB RAM Mac mini and iMac (2006/07) MacBook Pr...</td>\n",
       "      <td>34.99</td>\n",
       "      <td>1</td>\n",
       "      <td>1364</td>\n",
       "    </tr>\n",
       "    <tr>\n",
       "      <th>5</th>\n",
       "      <td>APP0073</td>\n",
       "      <td>Apple Composite AV Cable iPhone and iPod white</td>\n",
       "      <td>IPhone and iPod AV Cable Dock to Composite Video.</td>\n",
       "      <td>45.00</td>\n",
       "      <td>0</td>\n",
       "      <td>1230</td>\n",
       "    </tr>\n",
       "    <tr>\n",
       "      <th>6</th>\n",
       "      <td>KIN0008</td>\n",
       "      <td>Mac Memory Kingston 1GB 667MHz DDR2 SO-DIMM</td>\n",
       "      <td>1GB RAM Mac mini and iMac (2006/07) MacBook Pr...</td>\n",
       "      <td>18.99</td>\n",
       "      <td>0</td>\n",
       "      <td>1364</td>\n",
       "    </tr>\n",
       "    <tr>\n",
       "      <th>7</th>\n",
       "      <td>KIN0009</td>\n",
       "      <td>Mac Memory Kingston 2GB 800MHz DDR2 SO-DIMM</td>\n",
       "      <td>2GB RAM iMac with Intel Core 2 Duo (Penryn).</td>\n",
       "      <td>36.99</td>\n",
       "      <td>0</td>\n",
       "      <td>1364</td>\n",
       "    </tr>\n",
       "    <tr>\n",
       "      <th>8</th>\n",
       "      <td>KIN0001-2</td>\n",
       "      <td>Mac memory Kingston 4GB (2x2GB) 667MHz DDR2 SO...</td>\n",
       "      <td>RAM 4GB (2x2GB) Mac mini and iMac (2006/07) Ma...</td>\n",
       "      <td>74.00</td>\n",
       "      <td>0</td>\n",
       "      <td>1364</td>\n",
       "    </tr>\n",
       "    <tr>\n",
       "      <th>9</th>\n",
       "      <td>APP0100</td>\n",
       "      <td>Apple Adapter Mini Display Port to VGA</td>\n",
       "      <td>Adapter Mini Display Port to VGA MacBook and M...</td>\n",
       "      <td>35.00</td>\n",
       "      <td>0</td>\n",
       "      <td>1325</td>\n",
       "    </tr>\n",
       "  </tbody>\n",
       "</table>\n",
       "</div>\n",
       "      <button class=\"colab-df-convert\" onclick=\"convertToInteractive('df-ea61e65a-9500-4851-9345-63ada547a23a')\"\n",
       "              title=\"Convert this dataframe to an interactive table.\"\n",
       "              style=\"display:none;\">\n",
       "        \n",
       "  <svg xmlns=\"http://www.w3.org/2000/svg\" height=\"24px\"viewBox=\"0 0 24 24\"\n",
       "       width=\"24px\">\n",
       "    <path d=\"M0 0h24v24H0V0z\" fill=\"none\"/>\n",
       "    <path d=\"M18.56 5.44l.94 2.06.94-2.06 2.06-.94-2.06-.94-.94-2.06-.94 2.06-2.06.94zm-11 1L8.5 8.5l.94-2.06 2.06-.94-2.06-.94L8.5 2.5l-.94 2.06-2.06.94zm10 10l.94 2.06.94-2.06 2.06-.94-2.06-.94-.94-2.06-.94 2.06-2.06.94z\"/><path d=\"M17.41 7.96l-1.37-1.37c-.4-.4-.92-.59-1.43-.59-.52 0-1.04.2-1.43.59L10.3 9.45l-7.72 7.72c-.78.78-.78 2.05 0 2.83L4 21.41c.39.39.9.59 1.41.59.51 0 1.02-.2 1.41-.59l7.78-7.78 2.81-2.81c.8-.78.8-2.07 0-2.86zM5.41 20L4 18.59l7.72-7.72 1.47 1.35L5.41 20z\"/>\n",
       "  </svg>\n",
       "      </button>\n",
       "      \n",
       "  <style>\n",
       "    .colab-df-container {\n",
       "      display:flex;\n",
       "      flex-wrap:wrap;\n",
       "      gap: 12px;\n",
       "    }\n",
       "\n",
       "    .colab-df-convert {\n",
       "      background-color: #E8F0FE;\n",
       "      border: none;\n",
       "      border-radius: 50%;\n",
       "      cursor: pointer;\n",
       "      display: none;\n",
       "      fill: #1967D2;\n",
       "      height: 32px;\n",
       "      padding: 0 0 0 0;\n",
       "      width: 32px;\n",
       "    }\n",
       "\n",
       "    .colab-df-convert:hover {\n",
       "      background-color: #E2EBFA;\n",
       "      box-shadow: 0px 1px 2px rgba(60, 64, 67, 0.3), 0px 1px 3px 1px rgba(60, 64, 67, 0.15);\n",
       "      fill: #174EA6;\n",
       "    }\n",
       "\n",
       "    [theme=dark] .colab-df-convert {\n",
       "      background-color: #3B4455;\n",
       "      fill: #D2E3FC;\n",
       "    }\n",
       "\n",
       "    [theme=dark] .colab-df-convert:hover {\n",
       "      background-color: #434B5C;\n",
       "      box-shadow: 0px 1px 3px 1px rgba(0, 0, 0, 0.15);\n",
       "      filter: drop-shadow(0px 1px 2px rgba(0, 0, 0, 0.3));\n",
       "      fill: #FFFFFF;\n",
       "    }\n",
       "  </style>\n",
       "\n",
       "      <script>\n",
       "        const buttonEl =\n",
       "          document.querySelector('#df-ea61e65a-9500-4851-9345-63ada547a23a button.colab-df-convert');\n",
       "        buttonEl.style.display =\n",
       "          google.colab.kernel.accessAllowed ? 'block' : 'none';\n",
       "\n",
       "        async function convertToInteractive(key) {\n",
       "          const element = document.querySelector('#df-ea61e65a-9500-4851-9345-63ada547a23a');\n",
       "          const dataTable =\n",
       "            await google.colab.kernel.invokeFunction('convertToInteractive',\n",
       "                                                     [key], {});\n",
       "          if (!dataTable) return;\n",
       "\n",
       "          const docLinkHtml = 'Like what you see? Visit the ' +\n",
       "            '<a target=\"_blank\" href=https://colab.research.google.com/notebooks/data_table.ipynb>data table notebook</a>'\n",
       "            + ' to learn more about interactive tables.';\n",
       "          element.innerHTML = '';\n",
       "          dataTable['output_type'] = 'display_data';\n",
       "          await google.colab.output.renderOutput(dataTable, element);\n",
       "          const docLink = document.createElement('div');\n",
       "          docLink.innerHTML = docLinkHtml;\n",
       "          element.appendChild(docLink);\n",
       "        }\n",
       "      </script>\n",
       "    </div>\n",
       "  </div>\n",
       "  "
      ],
      "text/plain": [
       "         sku                                               name  \\\n",
       "0    RAI0007                  Silver Rain Design mStand Support   \n",
       "1    APP0023                  Apple Mac Keyboard Keypad Spanish   \n",
       "2    APP0025                   Mighty Mouse Apple Mouse for Mac   \n",
       "3    APP0072      Apple Dock to USB Cable iPhone and iPod white   \n",
       "4    KIN0007        Mac Memory Kingston 2GB 667MHz DDR2 SO-DIMM   \n",
       "5    APP0073     Apple Composite AV Cable iPhone and iPod white   \n",
       "6    KIN0008        Mac Memory Kingston 1GB 667MHz DDR2 SO-DIMM   \n",
       "7    KIN0009        Mac Memory Kingston 2GB 800MHz DDR2 SO-DIMM   \n",
       "8  KIN0001-2  Mac memory Kingston 4GB (2x2GB) 667MHz DDR2 SO...   \n",
       "9    APP0100             Apple Adapter Mini Display Port to VGA   \n",
       "\n",
       "                                                desc  price  in_stock  \\\n",
       "0       Aluminum support compatible with all MacBook  59.99         1   \n",
       "1          USB ultrathin keyboard Apple Mac Spanish.  59.00         0   \n",
       "2                             mouse Apple USB cable.  59.00         0   \n",
       "3              IPhone dock and USB Cable Apple iPod.  25.00         0   \n",
       "4  2GB RAM Mac mini and iMac (2006/07) MacBook Pr...  34.99         1   \n",
       "5  IPhone and iPod AV Cable Dock to Composite Video.  45.00         0   \n",
       "6  1GB RAM Mac mini and iMac (2006/07) MacBook Pr...  18.99         0   \n",
       "7       2GB RAM iMac with Intel Core 2 Duo (Penryn).  36.99         0   \n",
       "8  RAM 4GB (2x2GB) Mac mini and iMac (2006/07) Ma...  74.00         0   \n",
       "9  Adapter Mini Display Port to VGA MacBook and M...  35.00         0   \n",
       "\n",
       "       type  \n",
       "0      8696  \n",
       "1  13855401  \n",
       "2      1387  \n",
       "3      1230  \n",
       "4      1364  \n",
       "5      1230  \n",
       "6      1364  \n",
       "7      1364  \n",
       "8      1364  \n",
       "9      1325  "
      ]
     },
     "execution_count": 20,
     "metadata": {},
     "output_type": "execute_result"
    }
   ],
   "source": [
    "products_cl.head(10)"
   ]
  },
  {
   "cell_type": "code",
   "execution_count": null,
   "metadata": {
    "id": "0HCfsxir7XTc"
   },
   "outputs": [],
   "source": [
    "known_skus_list = list(products_cl[\"sku\"])"
   ]
  },
  {
   "cell_type": "markdown",
   "metadata": {
    "id": "duFPzOPEBmSw"
   },
   "source": [
    "Let's have a look to see how many products in our `orderlines_qu` DataFrame are known and how many are unknown."
   ]
  },
  {
   "cell_type": "code",
   "execution_count": null,
   "metadata": {
    "colab": {
     "base_uri": "https://localhost:8080/"
    },
    "executionInfo": {
     "elapsed": 6,
     "status": "ok",
     "timestamp": 1676631155225,
     "user": {
      "displayName": "Crystal",
      "userId": "14619037572832113319"
     },
     "user_tz": -60
    },
    "id": "1cRigwB7CQlm",
    "outputId": "c01c7304-66e9-4455-caee-415fbaeadbb9"
   },
   "outputs": [
    {
     "data": {
      "text/plain": [
       "True     55320\n",
       "False     1394\n",
       "Name: sku, dtype: int64"
      ]
     },
     "execution_count": 22,
     "metadata": {},
     "output_type": "execute_result"
    }
   ],
   "source": [
    "orderlines_qu.sku.isin(known_skus_list).value_counts()"
   ]
  },
  {
   "cell_type": "markdown",
   "metadata": {
    "id": "CL4umUGtCWXX"
   },
   "source": [
    "Looks like the vast majority of products are known. \n",
    "\n",
    "We can't simply delete the rows containing unknown products. We need to remove the entirety of any order that contains an unknown product. \n",
    "\n",
    "The 1st step is to identify any order that contains an unknown product. Then find the `order_id` of these orders. Finally filter these order numbers out of our `_qu` DataFrames."
   ]
  },
  {
   "cell_type": "code",
   "execution_count": null,
   "metadata": {
    "id": "wOglyDA7BvRI"
   },
   "outputs": [],
   "source": [
    "orders_with_unknown_products_list = list(orderlines_qu.loc[~orderlines_qu.sku.isin(known_skus_list), \"id_order\"])"
   ]
  },
  {
   "cell_type": "markdown",
   "metadata": {
    "id": "gZjy2XliLnfC"
   },
   "source": [
    "Now we can filter our DataFrame to exclude the `order_id`'s that contain unknown products"
   ]
  },
  {
   "cell_type": "code",
   "execution_count": null,
   "metadata": {
    "id": "tPQzehdCL1ny"
   },
   "outputs": [],
   "source": [
    "orders_qu = orders_qu.loc[~orders_qu[\"order_id\"].isin(orders_with_unknown_products_list), :]\n",
    "orderlines_qu = orderlines_qu.loc[~orderlines_qu[\"id_order\"].isin(orders_with_unknown_products_list), :]"
   ]
  },
  {
   "cell_type": "markdown",
   "metadata": {
    "id": "Lih6-IjRkJ0F"
   },
   "source": [
    "Let's have a quick check to make sure we're filtering both DataFrames the same. They should both contain the same number of unique `order_id`'s."
   ]
  },
  {
   "cell_type": "code",
   "execution_count": null,
   "metadata": {
    "colab": {
     "base_uri": "https://localhost:8080/"
    },
    "executionInfo": {
     "elapsed": 9,
     "status": "ok",
     "timestamp": 1676631155647,
     "user": {
      "displayName": "Crystal",
      "userId": "14619037572832113319"
     },
     "user_tz": -60
    },
    "id": "jJ-EYdAbenWo",
    "outputId": "e82cf937-f973-4a3e-b493-32fd4d4f6050"
   },
   "outputs": [
    {
     "data": {
      "text/plain": [
       "(41701, 41701)"
      ]
     },
     "execution_count": 25,
     "metadata": {},
     "output_type": "execute_result"
    }
   ],
   "source": [
    "len(orders_qu[\"order_id\"].unique()), len(orderlines_qu[\"id_order\"].unique())"
   ]
  },
  {
   "cell_type": "code",
   "execution_count": null,
   "metadata": {
    "colab": {
     "base_uri": "https://localhost:8080/"
    },
    "executionInfo": {
     "elapsed": 9,
     "status": "ok",
     "timestamp": 1676631155648,
     "user": {
      "displayName": "Crystal",
      "userId": "14619037572832113319"
     },
     "user_tz": -60
    },
    "id": "hcNHWjR9O3pE",
    "outputId": "113646ab-bfbe-4de0-a5a9-26427220a4ce"
   },
   "outputs": [
    {
     "name": "stdout",
     "output_type": "stream",
     "text": [
      "<class 'pandas.core.frame.DataFrame'>\n",
      "Int64Index: 41701 entries, 1 to 226614\n",
      "Data columns (total 4 columns):\n",
      " #   Column        Non-Null Count  Dtype  \n",
      "---  ------        --------------  -----  \n",
      " 0   order_id      41701 non-null  int64  \n",
      " 1   created_date  41701 non-null  object \n",
      " 2   total_paid    41701 non-null  float64\n",
      " 3   state         41701 non-null  object \n",
      "dtypes: float64(1), int64(1), object(2)\n",
      "memory usage: 1.6+ MB\n"
     ]
    }
   ],
   "source": [
    "orders_qu.info()"
   ]
  },
  {
   "cell_type": "code",
   "execution_count": null,
   "metadata": {
    "colab": {
     "base_uri": "https://localhost:8080/"
    },
    "executionInfo": {
     "elapsed": 7,
     "status": "ok",
     "timestamp": 1676631155648,
     "user": {
      "displayName": "Crystal",
      "userId": "14619037572832113319"
     },
     "user_tz": -60
    },
    "id": "J4lWvBE-PIJU",
    "outputId": "3859d7bb-9bed-4a8e-ddb1-9db9df8ce828"
   },
   "outputs": [
    {
     "name": "stdout",
     "output_type": "stream",
     "text": [
      "<class 'pandas.core.frame.DataFrame'>\n",
      "Int64Index: 54324 entries, 6 to 215949\n",
      "Data columns (total 7 columns):\n",
      " #   Column            Non-Null Count  Dtype  \n",
      "---  ------            --------------  -----  \n",
      " 0   id                54324 non-null  int64  \n",
      " 1   id_order          54324 non-null  int64  \n",
      " 2   product_id        54324 non-null  int64  \n",
      " 3   product_quantity  54324 non-null  int64  \n",
      " 4   sku               54324 non-null  object \n",
      " 5   unit_price        54324 non-null  float64\n",
      " 6   date              54324 non-null  object \n",
      "dtypes: float64(1), int64(4), object(2)\n",
      "memory usage: 3.3+ MB\n"
     ]
    }
   ],
   "source": [
    "orderlines_qu.info()"
   ]
  },
  {
   "cell_type": "markdown",
   "metadata": {
    "id": "bCLu78B07gN1"
   },
   "source": [
    "## 4.&nbsp; Explore the revenue from different tables"
   ]
  },
  {
   "cell_type": "code",
   "execution_count": null,
   "metadata": {
    "id": "Pw0WN7uibB4y"
   },
   "outputs": [],
   "source": [
    "orderlines_qu_copy = orderlines_qu.copy()"
   ]
  },
  {
   "cell_type": "markdown",
   "metadata": {
    "id": "CrmrCXypbflw"
   },
   "source": [
    "#### Step 1:\n",
    "Create the `unit_price_total` as `orderlines.unit_price` * `orderlines.product_quantity`"
   ]
  },
  {
   "cell_type": "code",
   "execution_count": null,
   "metadata": {
    "id": "c8MApY6jatlO"
   },
   "outputs": [],
   "source": [
    "orderlines_qu_copy[\"unit_price_total\"] = orderlines_qu_copy[\"product_quantity\"] * orderlines_qu_copy[\"unit_price\"]"
   ]
  },
  {
   "cell_type": "markdown",
   "metadata": {
    "id": "gkvMUjymbvSC"
   },
   "source": [
    "#### Step 2: \n",
    "Group by `order_id`, summarising by the sum of `unit_price_total`"
   ]
  },
  {
   "cell_type": "code",
   "execution_count": null,
   "metadata": {
    "id": "4hasZA5BaH1k"
   },
   "outputs": [],
   "source": [
    "orderlines_qu_group_order_df = orderlines_qu_copy.groupby(\"id_order\", as_index=False)[\"unit_price_total\"].sum()"
   ]
  },
  {
   "cell_type": "markdown",
   "metadata": {
    "id": "_d1lwist8F6X"
   },
   "source": [
    "### What is the average difference between `total_paid` and `unit_price_total`?"
   ]
  },
  {
   "cell_type": "code",
   "execution_count": null,
   "metadata": {
    "id": "GQIQgOOrcOKe"
   },
   "outputs": [],
   "source": [
    "orders_qu_copy = orders_qu.copy()"
   ]
  },
  {
   "cell_type": "markdown",
   "metadata": {
    "id": "EmTi3m8Akxig"
   },
   "source": [
    "Let's merge our grouped `orderlines` table with the `orders` table, so we can calculate the differences in prices."
   ]
  },
  {
   "cell_type": "code",
   "execution_count": null,
   "metadata": {
    "id": "1lNua5XucOFt"
   },
   "outputs": [],
   "source": [
    "diff_df = orders_qu_copy.merge(orderlines_qu_group_order_df, \n",
    "                               how = 'inner',\n",
    "                               left_on=\"order_id\", \n",
    "                               right_on=\"id_order\"\n",
    "                               )"
   ]
  },
  {
   "cell_type": "code",
   "execution_count": null,
   "metadata": {
    "colab": {
     "base_uri": "https://localhost:8080/",
     "height": 206
    },
    "executionInfo": {
     "elapsed": 5,
     "status": "ok",
     "timestamp": 1676631156040,
     "user": {
      "displayName": "Crystal",
      "userId": "14619037572832113319"
     },
     "user_tz": -60
    },
    "id": "oI1ZIpSBcOC_",
    "outputId": "df4894bc-400d-44ec-f54a-4656d4292fc6"
   },
   "outputs": [
    {
     "data": {
      "text/html": [
       "\n",
       "  <div id=\"df-6ec58f36-db75-442c-beff-312404ff6303\">\n",
       "    <div class=\"colab-df-container\">\n",
       "      <div>\n",
       "<style scoped>\n",
       "    .dataframe tbody tr th:only-of-type {\n",
       "        vertical-align: middle;\n",
       "    }\n",
       "\n",
       "    .dataframe tbody tr th {\n",
       "        vertical-align: top;\n",
       "    }\n",
       "\n",
       "    .dataframe thead th {\n",
       "        text-align: right;\n",
       "    }\n",
       "</style>\n",
       "<table border=\"1\" class=\"dataframe\">\n",
       "  <thead>\n",
       "    <tr style=\"text-align: right;\">\n",
       "      <th></th>\n",
       "      <th>order_id</th>\n",
       "      <th>created_date</th>\n",
       "      <th>total_paid</th>\n",
       "      <th>state</th>\n",
       "      <th>id_order</th>\n",
       "      <th>unit_price_total</th>\n",
       "      <th>difference</th>\n",
       "    </tr>\n",
       "  </thead>\n",
       "  <tbody>\n",
       "    <tr>\n",
       "      <th>0</th>\n",
       "      <td>241423</td>\n",
       "      <td>2017-11-06 13:10:02</td>\n",
       "      <td>136.15</td>\n",
       "      <td>Completed</td>\n",
       "      <td>241423</td>\n",
       "      <td>129.16</td>\n",
       "      <td>6.99</td>\n",
       "    </tr>\n",
       "    <tr>\n",
       "      <th>1</th>\n",
       "      <td>242832</td>\n",
       "      <td>2017-12-31 17:40:03</td>\n",
       "      <td>15.76</td>\n",
       "      <td>Completed</td>\n",
       "      <td>242832</td>\n",
       "      <td>10.77</td>\n",
       "      <td>4.99</td>\n",
       "    </tr>\n",
       "    <tr>\n",
       "      <th>2</th>\n",
       "      <td>243330</td>\n",
       "      <td>2017-02-16 10:59:38</td>\n",
       "      <td>84.98</td>\n",
       "      <td>Completed</td>\n",
       "      <td>243330</td>\n",
       "      <td>77.99</td>\n",
       "      <td>6.99</td>\n",
       "    </tr>\n",
       "    <tr>\n",
       "      <th>3</th>\n",
       "      <td>245275</td>\n",
       "      <td>2017-06-28 11:35:37</td>\n",
       "      <td>149.00</td>\n",
       "      <td>Completed</td>\n",
       "      <td>245275</td>\n",
       "      <td>149.00</td>\n",
       "      <td>0.00</td>\n",
       "    </tr>\n",
       "    <tr>\n",
       "      <th>4</th>\n",
       "      <td>245595</td>\n",
       "      <td>2017-01-21 12:52:47</td>\n",
       "      <td>112.97</td>\n",
       "      <td>Completed</td>\n",
       "      <td>245595</td>\n",
       "      <td>105.98</td>\n",
       "      <td>6.99</td>\n",
       "    </tr>\n",
       "  </tbody>\n",
       "</table>\n",
       "</div>\n",
       "      <button class=\"colab-df-convert\" onclick=\"convertToInteractive('df-6ec58f36-db75-442c-beff-312404ff6303')\"\n",
       "              title=\"Convert this dataframe to an interactive table.\"\n",
       "              style=\"display:none;\">\n",
       "        \n",
       "  <svg xmlns=\"http://www.w3.org/2000/svg\" height=\"24px\"viewBox=\"0 0 24 24\"\n",
       "       width=\"24px\">\n",
       "    <path d=\"M0 0h24v24H0V0z\" fill=\"none\"/>\n",
       "    <path d=\"M18.56 5.44l.94 2.06.94-2.06 2.06-.94-2.06-.94-.94-2.06-.94 2.06-2.06.94zm-11 1L8.5 8.5l.94-2.06 2.06-.94-2.06-.94L8.5 2.5l-.94 2.06-2.06.94zm10 10l.94 2.06.94-2.06 2.06-.94-2.06-.94-.94-2.06-.94 2.06-2.06.94z\"/><path d=\"M17.41 7.96l-1.37-1.37c-.4-.4-.92-.59-1.43-.59-.52 0-1.04.2-1.43.59L10.3 9.45l-7.72 7.72c-.78.78-.78 2.05 0 2.83L4 21.41c.39.39.9.59 1.41.59.51 0 1.02-.2 1.41-.59l7.78-7.78 2.81-2.81c.8-.78.8-2.07 0-2.86zM5.41 20L4 18.59l7.72-7.72 1.47 1.35L5.41 20z\"/>\n",
       "  </svg>\n",
       "      </button>\n",
       "      \n",
       "  <style>\n",
       "    .colab-df-container {\n",
       "      display:flex;\n",
       "      flex-wrap:wrap;\n",
       "      gap: 12px;\n",
       "    }\n",
       "\n",
       "    .colab-df-convert {\n",
       "      background-color: #E8F0FE;\n",
       "      border: none;\n",
       "      border-radius: 50%;\n",
       "      cursor: pointer;\n",
       "      display: none;\n",
       "      fill: #1967D2;\n",
       "      height: 32px;\n",
       "      padding: 0 0 0 0;\n",
       "      width: 32px;\n",
       "    }\n",
       "\n",
       "    .colab-df-convert:hover {\n",
       "      background-color: #E2EBFA;\n",
       "      box-shadow: 0px 1px 2px rgba(60, 64, 67, 0.3), 0px 1px 3px 1px rgba(60, 64, 67, 0.15);\n",
       "      fill: #174EA6;\n",
       "    }\n",
       "\n",
       "    [theme=dark] .colab-df-convert {\n",
       "      background-color: #3B4455;\n",
       "      fill: #D2E3FC;\n",
       "    }\n",
       "\n",
       "    [theme=dark] .colab-df-convert:hover {\n",
       "      background-color: #434B5C;\n",
       "      box-shadow: 0px 1px 3px 1px rgba(0, 0, 0, 0.15);\n",
       "      filter: drop-shadow(0px 1px 2px rgba(0, 0, 0, 0.3));\n",
       "      fill: #FFFFFF;\n",
       "    }\n",
       "  </style>\n",
       "\n",
       "      <script>\n",
       "        const buttonEl =\n",
       "          document.querySelector('#df-6ec58f36-db75-442c-beff-312404ff6303 button.colab-df-convert');\n",
       "        buttonEl.style.display =\n",
       "          google.colab.kernel.accessAllowed ? 'block' : 'none';\n",
       "\n",
       "        async function convertToInteractive(key) {\n",
       "          const element = document.querySelector('#df-6ec58f36-db75-442c-beff-312404ff6303');\n",
       "          const dataTable =\n",
       "            await google.colab.kernel.invokeFunction('convertToInteractive',\n",
       "                                                     [key], {});\n",
       "          if (!dataTable) return;\n",
       "\n",
       "          const docLinkHtml = 'Like what you see? Visit the ' +\n",
       "            '<a target=\"_blank\" href=https://colab.research.google.com/notebooks/data_table.ipynb>data table notebook</a>'\n",
       "            + ' to learn more about interactive tables.';\n",
       "          element.innerHTML = '';\n",
       "          dataTable['output_type'] = 'display_data';\n",
       "          await google.colab.output.renderOutput(dataTable, element);\n",
       "          const docLink = document.createElement('div');\n",
       "          docLink.innerHTML = docLinkHtml;\n",
       "          element.appendChild(docLink);\n",
       "        }\n",
       "      </script>\n",
       "    </div>\n",
       "  </div>\n",
       "  "
      ],
      "text/plain": [
       "   order_id         created_date  total_paid      state  id_order  \\\n",
       "0    241423  2017-11-06 13:10:02      136.15  Completed    241423   \n",
       "1    242832  2017-12-31 17:40:03       15.76  Completed    242832   \n",
       "2    243330  2017-02-16 10:59:38       84.98  Completed    243330   \n",
       "3    245275  2017-06-28 11:35:37      149.00  Completed    245275   \n",
       "4    245595  2017-01-21 12:52:47      112.97  Completed    245595   \n",
       "\n",
       "   unit_price_total  difference  \n",
       "0            129.16        6.99  \n",
       "1             10.77        4.99  \n",
       "2             77.99        6.99  \n",
       "3            149.00        0.00  \n",
       "4            105.98        6.99  "
      ]
     },
     "execution_count": 33,
     "metadata": {},
     "output_type": "execute_result"
    }
   ],
   "source": [
    "diff_df[\"difference\"] = diff_df[\"total_paid\"] - diff_df[\"unit_price_total\"]\n",
    "diff_df.head()"
   ]
  },
  {
   "cell_type": "markdown",
   "metadata": {
    "id": "S_P-ZQ5xgpyO"
   },
   "source": [
    "Now that we know the difference for each order, we can compute the average."
   ]
  },
  {
   "cell_type": "code",
   "execution_count": null,
   "metadata": {
    "colab": {
     "base_uri": "https://localhost:8080/"
    },
    "executionInfo": {
     "elapsed": 4,
     "status": "ok",
     "timestamp": 1676631156040,
     "user": {
      "displayName": "Crystal",
      "userId": "14619037572832113319"
     },
     "user_tz": -60
    },
    "id": "5N02JPCMgyBU",
    "outputId": "278475d0-f07b-44cf-da97-e9058ae27c78"
   },
   "outputs": [
    {
     "data": {
      "text/plain": [
       "4.47"
      ]
     },
     "execution_count": 34,
     "metadata": {},
     "output_type": "execute_result"
    }
   ],
   "source": [
    "diff_df.difference.mean().round(2)"
   ]
  },
  {
   "cell_type": "markdown",
   "metadata": {
    "id": "UpynvRcO8QBr"
   },
   "source": [
    "### What is the distribution of these differences?"
   ]
  },
  {
   "cell_type": "code",
   "execution_count": null,
   "metadata": {
    "colab": {
     "base_uri": "https://localhost:8080/",
     "height": 483
    },
    "executionInfo": {
     "elapsed": 1224,
     "status": "ok",
     "timestamp": 1676631157262,
     "user": {
      "displayName": "Crystal",
      "userId": "14619037572832113319"
     },
     "user_tz": -60
    },
    "id": "gGAcSaG98Rr8",
    "outputId": "8fd359d9-ce37-40d0-a691-b39f09ac6d8c"
   },
   "outputs": [
    {
     "data": {
      "image/png": "[encoded data removed]",
      "text/plain": [
       "<Figure size 864x576 with 1 Axes>"
      ]
     },
     "metadata": {
      "needs_background": "light"
     },
     "output_type": "display_data"
    }
   ],
   "source": [
    "diff_df.difference.hist(bins= 50, figsize=(12,8));"
   ]
  },
  {
   "cell_type": "markdown",
   "metadata": {
    "id": "2T4efB27h_Q8"
   },
   "source": [
    "Looking at the spread of the data above, some of the difference must be due to corruption. Let's use `.describe()` to investigate the distribution further."
   ]
  },
  {
   "cell_type": "code",
   "execution_count": null,
   "metadata": {
    "colab": {
     "base_uri": "https://localhost:8080/"
    },
    "executionInfo": {
     "elapsed": 2,
     "status": "ok",
     "timestamp": 1676631157262,
     "user": {
      "displayName": "Crystal",
      "userId": "14619037572832113319"
     },
     "user_tz": -60
    },
    "id": "1T3KFlE3iUTW",
    "outputId": "64cf9a32-78d8-45cc-87b0-293e5040aa5d"
   },
   "outputs": [
    {
     "data": {
      "text/plain": [
       "count    41701.000000\n",
       "mean         4.474808\n",
       "std         26.046478\n",
       "min       -165.000000\n",
       "25%          0.000000\n",
       "50%          4.990000\n",
       "75%          6.990000\n",
       "max       3984.990000\n",
       "Name: difference, dtype: float64"
      ]
     },
     "execution_count": 36,
     "metadata": {},
     "output_type": "execute_result"
    }
   ],
   "source": [
    "diff_df.difference.describe()"
   ]
  },
  {
   "cell_type": "markdown",
   "metadata": {
    "id": "MyeXnzNwjTVf"
   },
   "source": [
    "We can see from the our quartiles (0.00, 4.99, 6.99) that most of our data fits an expected pattern - free, 4.99, and 6.99 all seem like reasonable prices to assume as postage. However, look at the min and the max values, -165.00 and 3984.99, this can only occur due to corrupted data."
   ]
  },
  {
   "cell_type": "markdown",
   "metadata": {
    "id": "NINPK4rB8TSY"
   },
   "source": [
    "### Can all the differences be explained by shipping costs? If not, what are other plausible explanations?"
   ]
  },
  {
   "cell_type": "markdown",
   "metadata": {
    "id": "RJaLHlhklUgF"
   },
   "source": [
    "What reasons have you come up with to explain the difference?"
   ]
  },
  {
   "cell_type": "markdown",
   "metadata": {
    "id": "xPos2ipK8VST"
   },
   "source": [
    "### If there are differences that you can’t explain: what should you do with these orders?\n",
    "There's a rule of thumb, that anything: \n",
    "+ lower than the 25% quartile - (1.5 x interquartile range), or \n",
    "+ higher than the 75% quartile + (1.5 x interquartile range) \n",
    "\n",
    "is an outlier. Let's use this rule to try and exclude any corrupted data."
   ]
  },
  {
   "cell_type": "code",
   "execution_count": null,
   "metadata": {
    "id": "xqeCAJBt8V3T"
   },
   "outputs": [],
   "source": [
    "# calculate the quartiles\n",
    "Q1 = diff_df[\"difference\"].quantile(0.25)\n",
    "Q3 = diff_df[\"difference\"].quantile(0.75)\n",
    "\n",
    "# calculate the interquartile range\n",
    "IQR = Q3-Q1\n",
    "\n",
    "# filter the DataFrame to include only \"non-outliers\"\n",
    "diff_no_outliers_df = diff_df.loc[(diff_df[\"difference\"] >= (Q1 - 1.5*IQR)) & (diff_df[\"difference\"] <= (Q3 + 1.5*IQR))]"
   ]
  },
  {
   "cell_type": "markdown",
   "metadata": {
    "id": "HBk64r7CnL4W"
   },
   "source": [
    "Let's look at the distribution again to see the affect of removing the outliers."
   ]
  },
  {
   "cell_type": "code",
   "execution_count": null,
   "metadata": {
    "colab": {
     "base_uri": "https://localhost:8080/",
     "height": 483
    },
    "executionInfo": {
     "elapsed": 825,
     "status": "ok",
     "timestamp": 1676631158086,
     "user": {
      "displayName": "Crystal",
      "userId": "14619037572832113319"
     },
     "user_tz": -60
    },
    "id": "Kt-sjDRCm78G",
    "outputId": "507cdf42-7ecc-47d5-fa67-e2b53dcdf964"
   },
   "outputs": [
    {
     "data": {
      "image/png": "[encoded data removed]",
      "text/plain": [
       "<Figure size 864x576 with 1 Axes>"
      ]
     },
     "metadata": {
      "needs_background": "light"
     },
     "output_type": "display_data"
    }
   ],
   "source": [
    "diff_no_outliers_df.difference.hist(bins= 20, figsize=(12,8));"
   ]
  },
  {
   "cell_type": "markdown",
   "metadata": {
    "id": "3RNO4PxFnVEX"
   },
   "source": [
    "This looks much more like what we would expect: a small difference, but nothing extreme.\n",
    "\n",
    "Now we need to remove these orders with extreme differences from our `orders_lines_merged` DataFrame."
   ]
  },
  {
   "cell_type": "code",
   "execution_count": null,
   "metadata": {
    "id": "RgkgYSaJnpcP"
   },
   "outputs": [],
   "source": [
    "normal_diff_list = list(diff_no_outliers_df[\"order_id\"])"
   ]
  },
  {
   "cell_type": "code",
   "execution_count": null,
   "metadata": {
    "id": "OHRzuzV6ndcB"
   },
   "outputs": [],
   "source": [
    "orders_qu = orders_qu.loc[orders_qu[\"order_id\"].isin(normal_diff_list), :]\n",
    "orderlines_qu = orderlines_qu.loc[orderlines_cl[\"id_order\"].isin(normal_diff_list), :]"
   ]
  },
  {
   "cell_type": "code",
   "execution_count": null,
   "metadata": {
    "colab": {
     "base_uri": "https://localhost:8080/"
    },
    "executionInfo": {
     "elapsed": 5,
     "status": "ok",
     "timestamp": 1676631158086,
     "user": {
      "displayName": "Crystal",
      "userId": "14619037572832113319"
     },
     "user_tz": -60
    },
    "id": "VXG1mqR0eKk2",
    "outputId": "015e644c-bb87-4d8f-d70a-452456962d03"
   },
   "outputs": [
    {
     "data": {
      "text/plain": [
       "(40985, 40985)"
      ]
     },
     "execution_count": 41,
     "metadata": {},
     "output_type": "execute_result"
    }
   ],
   "source": [
    "len(orders_qu[\"order_id\"].unique()), len(orderlines_qu[\"id_order\"].unique())"
   ]
  },
  {
   "cell_type": "code",
   "execution_count": null,
   "metadata": {
    "colab": {
     "base_uri": "https://localhost:8080/"
    },
    "executionInfo": {
     "elapsed": 414,
     "status": "ok",
     "timestamp": 1676631210925,
     "user": {
      "displayName": "Crystal",
      "userId": "14619037572832113319"
     },
     "user_tz": -60
    },
    "id": "vRtWkl1HAaxP",
    "outputId": "2634d032-b05e-4569-9b49-53b48c81d3a0"
   },
   "outputs": [
    {
     "data": {
      "text/plain": [
       "40985"
      ]
     },
     "execution_count": 43,
     "metadata": {},
     "output_type": "execute_result"
    }
   ],
   "source": [
    "orders_qu.shape[0]"
   ]
  },
  {
   "cell_type": "code",
   "execution_count": null,
   "metadata": {
    "colab": {
     "base_uri": "https://localhost:8080/"
    },
    "executionInfo": {
     "elapsed": 410,
     "status": "ok",
     "timestamp": 1676631235805,
     "user": {
      "displayName": "Crystal",
      "userId": "14619037572832113319"
     },
     "user_tz": -60
    },
    "id": "6F9r0DGIAgdS",
    "outputId": "63c543e2-c4af-41a8-a491-cd247ef0587a"
   },
   "outputs": [
    {
     "data": {
      "text/plain": [
       "53231"
      ]
     },
     "execution_count": 45,
     "metadata": {},
     "output_type": "execute_result"
    }
   ],
   "source": [
    "orderlines_qu.shape[0]"
   ]
  },
  {
   "cell_type": "markdown",
   "metadata": {
    "id": "FWROzNEd8b8d"
   },
   "source": [
    "## 5.&nbsp; Become confident about your dataset"
   ]
  },
  {
   "cell_type": "markdown",
   "metadata": {
    "id": "qkiySvbwldvU"
   },
   "source": [
    "Let's hear your thoughts about what you discovered."
   ]
  },
  {
   "cell_type": "code",
   "execution_count": 3,
   "metadata": {
    "id": "AR14cjMpfXV0"
   },
   "outputs": [],
   "source": [
    "# orders –> Keep only orders with the states that you want to work with!"
   ]
  },
  {
   "cell_type": "code",
   "execution_count": 4,
   "metadata": {
    "id": "NXkVwi1SfXOU"
   },
   "outputs": [],
   "source": [
    "# making sure that data coming from different tables are either consistent or excluded from your dataset."
   ]
  },
  {
   "cell_type": "markdown",
   "metadata": {
    "id": "dvyhnpLcfXdd"
   },
   "source": [
    "Let's not forget to download our quality controlled DataFrames"
   ]
  },
  {
   "cell_type": "code",
   "execution_count": null,
   "metadata": {
    "colab": {
     "base_uri": "https://localhost:8080/",
     "height": 17
    },
    "executionInfo": {
     "elapsed": 629,
     "status": "ok",
     "timestamp": 1676631158712,
     "user": {
      "displayName": "Crystal",
      "userId": "14619037572832113319"
     },
     "user_tz": -60
    },
    "id": "gUcJc1E6sVOl",
    "outputId": "8c01e7c3-e8ed-46cd-a7e9-f9388dd099a3"
   },
   "outputs": [
    {
     "data": {
      "application/javascript": [
       "\n",
       "    async function download(id, filename, size) {\n",
       "      if (!google.colab.kernel.accessAllowed) {\n",
       "        return;\n",
       "      }\n",
       "      const div = document.createElement('div');\n",
       "      const label = document.createElement('label');\n",
       "      label.textContent = `Downloading \"${filename}\": `;\n",
       "      div.appendChild(label);\n",
       "      const progress = document.createElement('progress');\n",
       "      progress.max = size;\n",
       "      div.appendChild(progress);\n",
       "      document.body.appendChild(div);\n",
       "\n",
       "      const buffers = [];\n",
       "      let downloaded = 0;\n",
       "\n",
       "      const channel = await google.colab.kernel.comms.open(id);\n",
       "      // Send a message to notify the kernel that we're ready.\n",
       "      channel.send({})\n",
       "\n",
       "      for await (const message of channel.messages) {\n",
       "        // Send a message to notify the kernel that we're ready.\n",
       "        channel.send({})\n",
       "        if (message.buffers) {\n",
       "          for (const buffer of message.buffers) {\n",
       "            buffers.push(buffer);\n",
       "            downloaded += buffer.byteLength;\n",
       "            progress.value = downloaded;\n",
       "          }\n",
       "        }\n",
       "      }\n",
       "      const blob = new Blob(buffers, {type: 'application/binary'});\n",
       "      const a = document.createElement('a');\n",
       "      a.href = window.URL.createObjectURL(blob);\n",
       "      a.download = filename;\n",
       "      div.appendChild(a);\n",
       "      a.click();\n",
       "      div.remove();\n",
       "    }\n",
       "  "
      ],
      "text/plain": [
       "<IPython.core.display.Javascript object>"
      ]
     },
     "metadata": {},
     "output_type": "display_data"
    },
    {
     "data": {
      "application/javascript": [
       "download(\"download_44165f9f-a0ab-4d9a-8e84-5049ed75ecd0\", \"orders_qu.csv\", 1780166)"
      ],
      "text/plain": [
       "<IPython.core.display.Javascript object>"
      ]
     },
     "metadata": {},
     "output_type": "display_data"
    },
    {
     "data": {
      "application/javascript": [
       "\n",
       "    async function download(id, filename, size) {\n",
       "      if (!google.colab.kernel.accessAllowed) {\n",
       "        return;\n",
       "      }\n",
       "      const div = document.createElement('div');\n",
       "      const label = document.createElement('label');\n",
       "      label.textContent = `Downloading \"${filename}\": `;\n",
       "      div.appendChild(label);\n",
       "      const progress = document.createElement('progress');\n",
       "      progress.max = size;\n",
       "      div.appendChild(progress);\n",
       "      document.body.appendChild(div);\n",
       "\n",
       "      const buffers = [];\n",
       "      let downloaded = 0;\n",
       "\n",
       "      const channel = await google.colab.kernel.comms.open(id);\n",
       "      // Send a message to notify the kernel that we're ready.\n",
       "      channel.send({})\n",
       "\n",
       "      for await (const message of channel.messages) {\n",
       "        // Send a message to notify the kernel that we're ready.\n",
       "        channel.send({})\n",
       "        if (message.buffers) {\n",
       "          for (const buffer of message.buffers) {\n",
       "            buffers.push(buffer);\n",
       "            downloaded += buffer.byteLength;\n",
       "            progress.value = downloaded;\n",
       "          }\n",
       "        }\n",
       "      }\n",
       "      const blob = new Blob(buffers, {type: 'application/binary'});\n",
       "      const a = document.createElement('a');\n",
       "      a.href = window.URL.createObjectURL(blob);\n",
       "      a.download = filename;\n",
       "      div.appendChild(a);\n",
       "      a.click();\n",
       "      div.remove();\n",
       "    }\n",
       "  "
      ],
      "text/plain": [
       "<IPython.core.display.Javascript object>"
      ]
     },
     "metadata": {},
     "output_type": "display_data"
    },
    {
     "data": {
      "application/javascript": [
       "download(\"download_d7b54aa9-57f7-4297-a0fa-743310572544\", \"orderlines_qu.csv\", 2835024)"
      ],
      "text/plain": [
       "<IPython.core.display.Javascript object>"
      ]
     },
     "metadata": {},
     "output_type": "display_data"
    }
   ],
   "source": [
    "from google.colab import files\n",
    "\n",
    "orders_qu.to_csv(\"orders_qu.csv\", index=False)\n",
    "files.download(\"orders_qu.csv\")\n",
    "\n",
    "orderlines_qu.to_csv(\"orderlines_qu.csv\", index=False)\n",
    "files.download(\"orderlines_qu.csv\")"
   ]
  }
 ],
 "metadata": {
  "colab": {
   "provenance": [
    {
     "file_id": "17KvtDKhZGJPjzMGAbhmhg8bsC6anBv72",
     "timestamp": 1676305419008
    },
    {
     "file_id": "1fI25ti0AYp0V39iGhqMWFAGEXUmEubOs",
     "timestamp": 1676301370259
    },
    {
     "file_id": "12dvr7WGPjOAZKy0jMCpHuvKg2ZtaOQwv",
     "timestamp": 1660047699809
    }
   ]
  },
  "kernelspec": {
   "display_name": "Python 3 (ipykernel)",
   "language": "python",
   "name": "python3"
  },
  "language_info": {
   "codemirror_mode": {
    "name": "ipython",
    "version": 3
   },
   "file_extension": ".py",
   "mimetype": "text/x-python",
   "name": "python",
   "nbconvert_exporter": "python",
   "pygments_lexer": "ipython3",
   "version": "3.9.16"
  }
 },
 "nbformat": 4,
 "nbformat_minor": 4
}
